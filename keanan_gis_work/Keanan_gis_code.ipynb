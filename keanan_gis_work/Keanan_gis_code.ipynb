{
 "cells": [
  {
   "cell_type": "markdown",
   "metadata": {},
   "source": [
    " # Creating New data set"
   ]
  },
  {
   "cell_type": "code",
   "execution_count": 179,
   "metadata": {},
   "outputs": [],
   "source": [
    "import pandas as pd\n",
    "import numpy as np\n",
    "import geopandas as gpd\n",
    "import matplotlib.pyplot as plt\n",
    "import contextily as ctx\n",
    "from shapely.geometry import Point, Polygon\n",
    "from pyproj import CRS\n",
    "from sklearn.linear_model import LinearRegression\n",
    "import seaborn as sns\n",
    "import statsmodels.api as sm\n",
    "import folium\n",
    "from folium.plugins import MarkerCluster, FastMarkerCluster, HeatMap#, heat_map_withtime, HeatMapWithTime\n",
    "from folium.plugins.heat_map_withtime import HeatMapWithTime\n",
    "from sklearn.neighbors import KernelDensity"
   ]
  },
  {
   "cell_type": "code",
   "execution_count": 180,
   "metadata": {},
   "outputs": [],
   "source": [
    "# Load the dataset into a DataFrame\n",
    "df = pd.read_csv('../data/kc_house_data.csv')"
   ]
  },
  {
   "cell_type": "code",
   "execution_count": 181,
   "metadata": {},
   "outputs": [
    {
     "data": {
      "text/plain": [
       "Index(['id', 'date', 'price', 'bedrooms', 'bathrooms', 'sqft_living',\n",
       "       'sqft_lot', 'floors', 'waterfront', 'greenbelt', 'nuisance', 'view',\n",
       "       'condition', 'grade', 'heat_source', 'sewer_system', 'sqft_above',\n",
       "       'sqft_basement', 'sqft_garage', 'sqft_patio', 'yr_built',\n",
       "       'yr_renovated', 'address', 'lat', 'long'],\n",
       "      dtype='object')"
      ]
     },
     "execution_count": 181,
     "metadata": {},
     "output_type": "execute_result"
    }
   ],
   "source": [
    "df.columns"
   ]
  },
  {
   "cell_type": "markdown",
   "metadata": {},
   "source": [
    "importing relevent shapefiles"
   ]
  },
  {
   "cell_type": "code",
   "execution_count": 182,
   "metadata": {},
   "outputs": [],
   "source": [
    "# Read in shp\n",
    "king_boundary = gpd.read_file('Metropolitan_King_County_Council___kccdst_area_copy/Metropolitan_King_County_Council___kccdst_area.shp')\n",
    "School_districts_df = gpd.read_file('School_Districts_in_King_County___schdst_area/School_Districts_in_King_County___schdst_area.shp')\n",
    "WADOH_df = gpd.read_file('WADOH_Environmental_Health_Disparities_Index_Calculated_for_King_County___wadohehdindex_area/WADOH_Environmental_Health_Disparities_Index_Calculated_for_King_County___wadohehdindex_area.shp')\n",
    "income_df_i = gpd.read_file('Basic_demographics_by_census_tracts_in_King_County_-_selected_categories___demographic_base_area_esj/Basic_demographics_by_census_tracts_in_King_County_-_selected_categories___demographic_base_area_esj.shp')\n"
   ]
  },
  {
   "cell_type": "markdown",
   "metadata": {},
   "source": [
    "Converting df to gdf"
   ]
  },
  {
   "cell_type": "code",
   "execution_count": 7,
   "metadata": {},
   "outputs": [],
   "source": [
    "gdf = gpd.GeoDataFrame(df, \n",
    "                       geometry=gpd.points_from_xy(df['long'], df['lat']), \n",
    "                       crs= CRS.from_epsg(4326))"
   ]
  },
  {
   "cell_type": "markdown",
   "metadata": {},
   "source": [
    "Spatially joinning dataframes"
   ]
  },
  {
   "cell_type": "code",
   "execution_count": 123,
   "metadata": {},
   "outputs": [],
   "source": [
    "# gdf_final = gpd.sjoin(gdf, School_districts_df, how='inner')"
   ]
  },
  {
   "cell_type": "code",
   "execution_count": 10,
   "metadata": {
    "scrolled": true
   },
   "outputs": [
    {
     "data": {
      "text/plain": [
       "29213"
      ]
     },
     "execution_count": 10,
     "metadata": {},
     "output_type": "execute_result"
    }
   ],
   "source": [
    "# Checking length of DataFrame\n",
    "len(gdf_final)"
   ]
  },
  {
   "cell_type": "markdown",
   "metadata": {},
   "source": [
    "# Cleaning WADOH_df before spatially joinning\n",
    "WADOH_df contains lots of excess data that can potentially cause errors\n",
    "- to prevent this I will be removing excess columns"
   ]
  },
  {
   "cell_type": "markdown",
   "metadata": {},
   "source": [
    "This data set contains 193 different columns, I used information on the following websites to help select which data to keep.\n",
    "Furthermore when the names of the columns where changed so they do not match the labels indicated online.\n",
    "- https://doh.wa.gov/data-and-statistical-reports/washington-tracking-network-wtn/washington-environmental-health-disparities-map\n",
    "- https://doh.wa.gov/sites/default/files/2022-07/311-013_EHD-Map-Report-Infosheet.pdf?uid=6421fa4666531\n",
    "- https://doh.wa.gov/sites/default/files/2022-07/311-011-EHD-Map-Tech-Report_0.pdf?uid=6421fa4666f2a"
   ]
  },
  {
   "cell_type": "markdown",
   "metadata": {},
   "source": [
    "- For traffic data I am using decile as that is the Decile ranking of proximity to heavy traffic roadway\n",
    "- For Toxic release I am using count as that shows that actual value of toxic releaase in that area\n",
    "- Hazardous waste I am using decile as that is the decile ranking of proximity to hazardous water treatment storage\n"
   ]
  },
  {
   "cell_type": "code",
   "execution_count": 97,
   "metadata": {},
   "outputs": [
    {
     "data": {
      "text/plain": [
       "Index(['OBJECTID_1', 'GEO_ID_TRT', 'FEATURE_ID', 'TRACT_LBL', 'TRACT_STR',\n",
       "       'TRACT_INT', 'TRACT_FLT', 'TRACT_DEL', 'TRTLABEL_F', 'TRTLABEL_C',\n",
       "       ...\n",
       "       'sen_pop_di', 'socio_eco_', 'socio_deci', 'socio_perc', 'socio_quin',\n",
       "       'socio_diff', 'ObjectID', 'Shape_Leng', 'Shape_Area', 'geometry'],\n",
       "      dtype='object', length=193)"
      ]
     },
     "execution_count": 97,
     "metadata": {},
     "output_type": "execute_result"
    }
   ],
   "source": [
    "WADOH_df.columns"
   ]
  },
  {
   "cell_type": "code",
   "execution_count": 139,
   "metadata": {
    "scrolled": true
   },
   "outputs": [
    {
     "data": {
      "text/html": [
       "<div>\n",
       "<style scoped>\n",
       "    .dataframe tbody tr th:only-of-type {\n",
       "        vertical-align: middle;\n",
       "    }\n",
       "\n",
       "    .dataframe tbody tr th {\n",
       "        vertical-align: top;\n",
       "    }\n",
       "\n",
       "    .dataframe thead th {\n",
       "        text-align: right;\n",
       "    }\n",
       "</style>\n",
       "<table border=\"1\" class=\"dataframe\">\n",
       "  <thead>\n",
       "    <tr style=\"text-align: right;\">\n",
       "      <th></th>\n",
       "      <th>traffic_de</th>\n",
       "      <th>toxic_rele</th>\n",
       "      <th>hazardou_2</th>\n",
       "      <th>geometry</th>\n",
       "    </tr>\n",
       "  </thead>\n",
       "  <tbody>\n",
       "    <tr>\n",
       "      <th>0</th>\n",
       "      <td>10.0</td>\n",
       "      <td>5604.022500</td>\n",
       "      <td>3.0</td>\n",
       "      <td>POLYGON ((-122.28419 47.73361, -122.28417 47.7...</td>\n",
       "    </tr>\n",
       "    <tr>\n",
       "      <th>1</th>\n",
       "      <td>8.0</td>\n",
       "      <td>6765.634069</td>\n",
       "      <td>3.0</td>\n",
       "      <td>POLYGON ((-122.30195 47.73383, -122.30058 47.7...</td>\n",
       "    </tr>\n",
       "    <tr>\n",
       "      <th>2</th>\n",
       "      <td>10.0</td>\n",
       "      <td>7681.130250</td>\n",
       "      <td>4.0</td>\n",
       "      <td>POLYGON ((-122.32359 47.73405, -122.32359 47.7...</td>\n",
       "    </tr>\n",
       "    <tr>\n",
       "      <th>3</th>\n",
       "      <td>9.0</td>\n",
       "      <td>8400.088589</td>\n",
       "      <td>5.0</td>\n",
       "      <td>POLYGON ((-122.34510 47.73413, -122.34509 47.7...</td>\n",
       "    </tr>\n",
       "    <tr>\n",
       "      <th>4</th>\n",
       "      <td>6.0</td>\n",
       "      <td>9171.090649</td>\n",
       "      <td>5.0</td>\n",
       "      <td>POLYGON ((-122.34498 47.72324, -122.34497 47.7...</td>\n",
       "    </tr>\n",
       "    <tr>\n",
       "      <th>...</th>\n",
       "      <td>...</td>\n",
       "      <td>...</td>\n",
       "      <td>...</td>\n",
       "      <td>...</td>\n",
       "    </tr>\n",
       "    <tr>\n",
       "      <th>393</th>\n",
       "      <td>7.0</td>\n",
       "      <td>2067.674744</td>\n",
       "      <td>1.0</td>\n",
       "      <td>POLYGON ((-121.25349 47.53323, -121.25362 47.5...</td>\n",
       "    </tr>\n",
       "    <tr>\n",
       "      <th>394</th>\n",
       "      <td>5.0</td>\n",
       "      <td>2039.453458</td>\n",
       "      <td>1.0</td>\n",
       "      <td>POLYGON ((-121.78607 47.52523, -121.78605 47.5...</td>\n",
       "    </tr>\n",
       "    <tr>\n",
       "      <th>395</th>\n",
       "      <td>6.0</td>\n",
       "      <td>1643.401265</td>\n",
       "      <td>1.0</td>\n",
       "      <td>POLYGON ((-121.69417 47.47968, -121.69398 47.4...</td>\n",
       "    </tr>\n",
       "    <tr>\n",
       "      <th>396</th>\n",
       "      <td>5.0</td>\n",
       "      <td>823.898408</td>\n",
       "      <td>1.0</td>\n",
       "      <td>POLYGON ((-121.25349 47.53323, -121.25349 47.5...</td>\n",
       "    </tr>\n",
       "    <tr>\n",
       "      <th>397</th>\n",
       "      <td>NaN</td>\n",
       "      <td>NaN</td>\n",
       "      <td>NaN</td>\n",
       "      <td>MULTIPOLYGON (((-122.44040 47.44971, -122.4401...</td>\n",
       "    </tr>\n",
       "  </tbody>\n",
       "</table>\n",
       "<p>398 rows × 4 columns</p>\n",
       "</div>"
      ],
      "text/plain": [
       "     traffic_de   toxic_rele  hazardou_2  \\\n",
       "0          10.0  5604.022500         3.0   \n",
       "1           8.0  6765.634069         3.0   \n",
       "2          10.0  7681.130250         4.0   \n",
       "3           9.0  8400.088589         5.0   \n",
       "4           6.0  9171.090649         5.0   \n",
       "..          ...          ...         ...   \n",
       "393         7.0  2067.674744         1.0   \n",
       "394         5.0  2039.453458         1.0   \n",
       "395         6.0  1643.401265         1.0   \n",
       "396         5.0   823.898408         1.0   \n",
       "397         NaN          NaN         NaN   \n",
       "\n",
       "                                              geometry  \n",
       "0    POLYGON ((-122.28419 47.73361, -122.28417 47.7...  \n",
       "1    POLYGON ((-122.30195 47.73383, -122.30058 47.7...  \n",
       "2    POLYGON ((-122.32359 47.73405, -122.32359 47.7...  \n",
       "3    POLYGON ((-122.34510 47.73413, -122.34509 47.7...  \n",
       "4    POLYGON ((-122.34498 47.72324, -122.34497 47.7...  \n",
       "..                                                 ...  \n",
       "393  POLYGON ((-121.25349 47.53323, -121.25362 47.5...  \n",
       "394  POLYGON ((-121.78607 47.52523, -121.78605 47.5...  \n",
       "395  POLYGON ((-121.69417 47.47968, -121.69398 47.4...  \n",
       "396  POLYGON ((-121.25349 47.53323, -121.25349 47.5...  \n",
       "397  MULTIPOLYGON (((-122.44040 47.44971, -122.4401...  \n",
       "\n",
       "[398 rows x 4 columns]"
      ]
     },
     "execution_count": 139,
     "metadata": {},
     "output_type": "execute_result"
    }
   ],
   "source": [
    "# Creating a list of columns to keep\n",
    "keep_wadoh = ['traffic_de','toxic_rele','hazardou_2', 'geometry']\n",
    "env_df = WADOH_df[keep_wadoh]\n",
    "env_df"
   ]
  },
  {
   "cell_type": "code",
   "execution_count": 131,
   "metadata": {
    "scrolled": false
   },
   "outputs": [
    {
     "data": {
      "text/plain": [
       "<Axes: >"
      ]
     },
     "execution_count": 131,
     "metadata": {},
     "output_type": "execute_result"
    },
    {
     "data": {
      "image/png": "[encoded data removed]",
      "text/plain": [
       "<Figure size 1000x1000 with 1 Axes>"
      ]
     },
     "metadata": {},
     "output_type": "display_data"
    }
   ],
   "source": [
    "# set figure size\n",
    "fig, ax = plt.subplots(figsize=(10, 10))\n",
    "\n",
    "env_df.plot(ax=ax,column='traffic_de', cmap='Blues',)"
   ]
  },
  {
   "cell_type": "code",
   "execution_count": 150,
   "metadata": {
    "scrolled": true
   },
   "outputs": [
    {
     "data": {
      "text/html": [
       "<div>\n",
       "<style scoped>\n",
       "    .dataframe tbody tr th:only-of-type {\n",
       "        vertical-align: middle;\n",
       "    }\n",
       "\n",
       "    .dataframe tbody tr th {\n",
       "        vertical-align: top;\n",
       "    }\n",
       "\n",
       "    .dataframe thead th {\n",
       "        text-align: right;\n",
       "    }\n",
       "</style>\n",
       "<table border=\"1\" class=\"dataframe\">\n",
       "  <thead>\n",
       "    <tr style=\"text-align: right;\">\n",
       "      <th></th>\n",
       "      <th>MHHI1</th>\n",
       "      <th>geometry</th>\n",
       "    </tr>\n",
       "  </thead>\n",
       "  <tbody>\n",
       "    <tr>\n",
       "      <th>0</th>\n",
       "      <td>48002.0</td>\n",
       "      <td>POLYGON ((-122.28419 47.73361, -122.28417 47.7...</td>\n",
       "    </tr>\n",
       "    <tr>\n",
       "      <th>1</th>\n",
       "      <td>63727.0</td>\n",
       "      <td>POLYGON ((-122.30195 47.73383, -122.30058 47.7...</td>\n",
       "    </tr>\n",
       "    <tr>\n",
       "      <th>2</th>\n",
       "      <td>65781.0</td>\n",
       "      <td>POLYGON ((-122.32359 47.73405, -122.32359 47.7...</td>\n",
       "    </tr>\n",
       "    <tr>\n",
       "      <th>3</th>\n",
       "      <td>32196.0</td>\n",
       "      <td>POLYGON ((-122.34510 47.73413, -122.34509 47.7...</td>\n",
       "    </tr>\n",
       "    <tr>\n",
       "      <th>4</th>\n",
       "      <td>61184.0</td>\n",
       "      <td>POLYGON ((-122.34498 47.72324, -122.34497 47.7...</td>\n",
       "    </tr>\n",
       "    <tr>\n",
       "      <th>...</th>\n",
       "      <td>...</td>\n",
       "      <td>...</td>\n",
       "    </tr>\n",
       "    <tr>\n",
       "      <th>393</th>\n",
       "      <td>99543.0</td>\n",
       "      <td>POLYGON ((-121.25349 47.53323, -121.25362 47.5...</td>\n",
       "    </tr>\n",
       "    <tr>\n",
       "      <th>394</th>\n",
       "      <td>84837.0</td>\n",
       "      <td>POLYGON ((-121.78607 47.52523, -121.78605 47.5...</td>\n",
       "    </tr>\n",
       "    <tr>\n",
       "      <th>395</th>\n",
       "      <td>73241.0</td>\n",
       "      <td>POLYGON ((-121.69417 47.47968, -121.69398 47.4...</td>\n",
       "    </tr>\n",
       "    <tr>\n",
       "      <th>396</th>\n",
       "      <td>88409.0</td>\n",
       "      <td>POLYGON ((-121.25349 47.53323, -121.25349 47.5...</td>\n",
       "    </tr>\n",
       "    <tr>\n",
       "      <th>397</th>\n",
       "      <td>NaN</td>\n",
       "      <td>MULTIPOLYGON (((-122.44040 47.44971, -122.4401...</td>\n",
       "    </tr>\n",
       "  </tbody>\n",
       "</table>\n",
       "<p>398 rows × 2 columns</p>\n",
       "</div>"
      ],
      "text/plain": [
       "       MHHI1                                           geometry\n",
       "0    48002.0  POLYGON ((-122.28419 47.73361, -122.28417 47.7...\n",
       "1    63727.0  POLYGON ((-122.30195 47.73383, -122.30058 47.7...\n",
       "2    65781.0  POLYGON ((-122.32359 47.73405, -122.32359 47.7...\n",
       "3    32196.0  POLYGON ((-122.34510 47.73413, -122.34509 47.7...\n",
       "4    61184.0  POLYGON ((-122.34498 47.72324, -122.34497 47.7...\n",
       "..       ...                                                ...\n",
       "393  99543.0  POLYGON ((-121.25349 47.53323, -121.25362 47.5...\n",
       "394  84837.0  POLYGON ((-121.78607 47.52523, -121.78605 47.5...\n",
       "395  73241.0  POLYGON ((-121.69417 47.47968, -121.69398 47.4...\n",
       "396  88409.0  POLYGON ((-121.25349 47.53323, -121.25349 47.5...\n",
       "397      NaN  MULTIPOLYGON (((-122.44040 47.44971, -122.4401...\n",
       "\n",
       "[398 rows x 2 columns]"
      ]
     },
     "execution_count": 150,
     "metadata": {},
     "output_type": "execute_result"
    }
   ],
   "source": [
    "income_df = income_df_i.drop(columns=['OBJECTID','GEO_ID_TRT'])\n",
    "income_df"
   ]
  },
  {
   "cell_type": "code",
   "execution_count": 134,
   "metadata": {
    "scrolled": true
   },
   "outputs": [
    {
     "data": {
      "text/html": [
       "<div>\n",
       "<style scoped>\n",
       "    .dataframe tbody tr th:only-of-type {\n",
       "        vertical-align: middle;\n",
       "    }\n",
       "\n",
       "    .dataframe tbody tr th {\n",
       "        vertical-align: top;\n",
       "    }\n",
       "\n",
       "    .dataframe thead th {\n",
       "        text-align: right;\n",
       "    }\n",
       "</style>\n",
       "<table border=\"1\" class=\"dataframe\">\n",
       "  <thead>\n",
       "    <tr style=\"text-align: right;\">\n",
       "      <th></th>\n",
       "      <th>SCHDST</th>\n",
       "      <th>NAME</th>\n",
       "      <th>DSTNUM</th>\n",
       "      <th>geometry</th>\n",
       "    </tr>\n",
       "  </thead>\n",
       "  <tbody>\n",
       "    <tr>\n",
       "      <th>0</th>\n",
       "      <td>1</td>\n",
       "      <td>Seattle</td>\n",
       "      <td>17001</td>\n",
       "      <td>MULTIPOLYGON (((-122.40324 47.66637, -122.4028...</td>\n",
       "    </tr>\n",
       "    <tr>\n",
       "      <th>1</th>\n",
       "      <td>210</td>\n",
       "      <td>Federal Way</td>\n",
       "      <td>17210</td>\n",
       "      <td>POLYGON ((-122.29057 47.39374, -122.29039 47.3...</td>\n",
       "    </tr>\n",
       "    <tr>\n",
       "      <th>2</th>\n",
       "      <td>216</td>\n",
       "      <td>Enumclaw</td>\n",
       "      <td>17216</td>\n",
       "      <td>POLYGON ((-121.84898 47.34708, -121.84908 47.3...</td>\n",
       "    </tr>\n",
       "    <tr>\n",
       "      <th>3</th>\n",
       "      <td>400</td>\n",
       "      <td>Mercer Island</td>\n",
       "      <td>17400</td>\n",
       "      <td>POLYGON ((-122.24475 47.59601, -122.24461 47.5...</td>\n",
       "    </tr>\n",
       "    <tr>\n",
       "      <th>4</th>\n",
       "      <td>401</td>\n",
       "      <td>Highline</td>\n",
       "      <td>17401</td>\n",
       "      <td>POLYGON ((-122.35853 47.51553, -122.35851 47.5...</td>\n",
       "    </tr>\n",
       "    <tr>\n",
       "      <th>5</th>\n",
       "      <td>402</td>\n",
       "      <td>Vashon Island</td>\n",
       "      <td>17402</td>\n",
       "      <td>POLYGON ((-122.47330 47.51112, -122.47302 47.5...</td>\n",
       "    </tr>\n",
       "    <tr>\n",
       "      <th>6</th>\n",
       "      <td>403</td>\n",
       "      <td>Renton</td>\n",
       "      <td>17403</td>\n",
       "      <td>POLYGON ((-122.19290 47.54932, -122.19281 47.5...</td>\n",
       "    </tr>\n",
       "    <tr>\n",
       "      <th>7</th>\n",
       "      <td>404</td>\n",
       "      <td>Skykomish</td>\n",
       "      <td>17404</td>\n",
       "      <td>POLYGON ((-121.43171 47.78048, -121.41064 47.7...</td>\n",
       "    </tr>\n",
       "    <tr>\n",
       "      <th>8</th>\n",
       "      <td>405</td>\n",
       "      <td>Bellevue</td>\n",
       "      <td>17405</td>\n",
       "      <td>POLYGON ((-122.21511 47.65306, -122.21511 47.6...</td>\n",
       "    </tr>\n",
       "    <tr>\n",
       "      <th>9</th>\n",
       "      <td>406</td>\n",
       "      <td>Tukwila</td>\n",
       "      <td>17406</td>\n",
       "      <td>POLYGON ((-122.27170 47.49817, -122.27149 47.4...</td>\n",
       "    </tr>\n",
       "    <tr>\n",
       "      <th>10</th>\n",
       "      <td>407</td>\n",
       "      <td>Riverview</td>\n",
       "      <td>17407</td>\n",
       "      <td>POLYGON ((-121.95169 47.77663, -121.94866 47.7...</td>\n",
       "    </tr>\n",
       "    <tr>\n",
       "      <th>11</th>\n",
       "      <td>408</td>\n",
       "      <td>Auburn</td>\n",
       "      <td>17408</td>\n",
       "      <td>POLYGON ((-122.23531 47.35371, -122.23497 47.3...</td>\n",
       "    </tr>\n",
       "    <tr>\n",
       "      <th>12</th>\n",
       "      <td>409</td>\n",
       "      <td>Tahoma</td>\n",
       "      <td>17409</td>\n",
       "      <td>POLYGON ((-121.89772 47.48571, -121.89505 47.4...</td>\n",
       "    </tr>\n",
       "    <tr>\n",
       "      <th>13</th>\n",
       "      <td>410</td>\n",
       "      <td>Snoqualmie Valley</td>\n",
       "      <td>17410</td>\n",
       "      <td>POLYGON ((-121.68436 47.68667, -121.68177 47.6...</td>\n",
       "    </tr>\n",
       "    <tr>\n",
       "      <th>14</th>\n",
       "      <td>411</td>\n",
       "      <td>Issaquah</td>\n",
       "      <td>17411</td>\n",
       "      <td>POLYGON ((-122.07115 47.60205, -122.07085 47.6...</td>\n",
       "    </tr>\n",
       "    <tr>\n",
       "      <th>15</th>\n",
       "      <td>412</td>\n",
       "      <td>Shoreline</td>\n",
       "      <td>17412</td>\n",
       "      <td>POLYGON ((-122.35372 47.77777, -122.35367 47.7...</td>\n",
       "    </tr>\n",
       "    <tr>\n",
       "      <th>16</th>\n",
       "      <td>414</td>\n",
       "      <td>Lake Washington</td>\n",
       "      <td>17414</td>\n",
       "      <td>POLYGON ((-122.24520 47.73180, -122.24520 47.7...</td>\n",
       "    </tr>\n",
       "    <tr>\n",
       "      <th>17</th>\n",
       "      <td>415</td>\n",
       "      <td>Kent</td>\n",
       "      <td>17415</td>\n",
       "      <td>POLYGON ((-122.12172 47.46185, -122.12182 47.4...</td>\n",
       "    </tr>\n",
       "    <tr>\n",
       "      <th>18</th>\n",
       "      <td>417</td>\n",
       "      <td>Northshore</td>\n",
       "      <td>17417</td>\n",
       "      <td>POLYGON ((-122.25070 47.77705, -122.25047 47.7...</td>\n",
       "    </tr>\n",
       "    <tr>\n",
       "      <th>19</th>\n",
       "      <td>888</td>\n",
       "      <td>Fife</td>\n",
       "      <td>27417</td>\n",
       "      <td>POLYGON ((-122.28191 47.27161, -122.28074 47.2...</td>\n",
       "    </tr>\n",
       "  </tbody>\n",
       "</table>\n",
       "</div>"
      ],
      "text/plain": [
       "   SCHDST               NAME DSTNUM  \\\n",
       "0       1            Seattle  17001   \n",
       "1     210        Federal Way  17210   \n",
       "2     216           Enumclaw  17216   \n",
       "3     400      Mercer Island  17400   \n",
       "4     401           Highline  17401   \n",
       "5     402      Vashon Island  17402   \n",
       "6     403             Renton  17403   \n",
       "7     404          Skykomish  17404   \n",
       "8     405           Bellevue  17405   \n",
       "9     406            Tukwila  17406   \n",
       "10    407          Riverview  17407   \n",
       "11    408             Auburn  17408   \n",
       "12    409             Tahoma  17409   \n",
       "13    410  Snoqualmie Valley  17410   \n",
       "14    411           Issaquah  17411   \n",
       "15    412          Shoreline  17412   \n",
       "16    414    Lake Washington  17414   \n",
       "17    415               Kent  17415   \n",
       "18    417         Northshore  17417   \n",
       "19    888               Fife  27417   \n",
       "\n",
       "                                             geometry  \n",
       "0   MULTIPOLYGON (((-122.40324 47.66637, -122.4028...  \n",
       "1   POLYGON ((-122.29057 47.39374, -122.29039 47.3...  \n",
       "2   POLYGON ((-121.84898 47.34708, -121.84908 47.3...  \n",
       "3   POLYGON ((-122.24475 47.59601, -122.24461 47.5...  \n",
       "4   POLYGON ((-122.35853 47.51553, -122.35851 47.5...  \n",
       "5   POLYGON ((-122.47330 47.51112, -122.47302 47.5...  \n",
       "6   POLYGON ((-122.19290 47.54932, -122.19281 47.5...  \n",
       "7   POLYGON ((-121.43171 47.78048, -121.41064 47.7...  \n",
       "8   POLYGON ((-122.21511 47.65306, -122.21511 47.6...  \n",
       "9   POLYGON ((-122.27170 47.49817, -122.27149 47.4...  \n",
       "10  POLYGON ((-121.95169 47.77663, -121.94866 47.7...  \n",
       "11  POLYGON ((-122.23531 47.35371, -122.23497 47.3...  \n",
       "12  POLYGON ((-121.89772 47.48571, -121.89505 47.4...  \n",
       "13  POLYGON ((-121.68436 47.68667, -121.68177 47.6...  \n",
       "14  POLYGON ((-122.07115 47.60205, -122.07085 47.6...  \n",
       "15  POLYGON ((-122.35372 47.77777, -122.35367 47.7...  \n",
       "16  POLYGON ((-122.24520 47.73180, -122.24520 47.7...  \n",
       "17  POLYGON ((-122.12172 47.46185, -122.12182 47.4...  \n",
       "18  POLYGON ((-122.25070 47.77705, -122.25047 47.7...  \n",
       "19  POLYGON ((-122.28191 47.27161, -122.28074 47.2...  "
      ]
     },
     "execution_count": 134,
     "metadata": {},
     "output_type": "execute_result"
    }
   ],
   "source": [
    "SD_df = School_districts_df.drop(columns=['OBJECTID','Shape_Leng', 'Shape_Area'])\n",
    "SD_df"
   ]
  },
  {
   "cell_type": "code",
   "execution_count": 172,
   "metadata": {
    "scrolled": true
   },
   "outputs": [],
   "source": [
    "#1\n",
    "gdf_1 = gpd.sjoin(gdf, income_df, how='inner')\n",
    "# gdf_1.drop('index_left', axis=1, inplace=True)\n",
    "gdf_1.drop('index_right', axis=1, inplace=True)\n",
    "#2\n",
    "gdf_2 = gpd.sjoin(gdf_1, env_df, how='inner')\n",
    "gdf_2.drop('index_right', axis=1, inplace=True)\n",
    "#3\n",
    "gdf_3 = gpd.sjoin(gdf_2, SD_df, how='inner')\n",
    "gdf_3.drop('index_right', axis=1, inplace=True)"
   ]
  },
  {
   "cell_type": "code",
   "execution_count": 174,
   "metadata": {
    "scrolled": true
   },
   "outputs": [
    {
     "name": "stdout",
     "output_type": "stream",
     "text": [
      "<class 'geopandas.geodataframe.GeoDataFrame'>\n",
      "Int64Index: 29211 entries, 0 to 29389\n",
      "Data columns (total 33 columns):\n",
      " #   Column         Non-Null Count  Dtype   \n",
      "---  ------         --------------  -----   \n",
      " 0   id             29211 non-null  int64   \n",
      " 1   date           29211 non-null  object  \n",
      " 2   price          29211 non-null  float64 \n",
      " 3   bedrooms       29211 non-null  int64   \n",
      " 4   bathrooms      29211 non-null  float64 \n",
      " 5   sqft_living    29211 non-null  int64   \n",
      " 6   sqft_lot       29211 non-null  int64   \n",
      " 7   floors         29211 non-null  float64 \n",
      " 8   waterfront     29211 non-null  object  \n",
      " 9   greenbelt      29211 non-null  object  \n",
      " 10  nuisance       29211 non-null  object  \n",
      " 11  view           29211 non-null  object  \n",
      " 12  condition      29211 non-null  object  \n",
      " 13  grade          29211 non-null  object  \n",
      " 14  heat_source    29182 non-null  object  \n",
      " 15  sewer_system   29198 non-null  object  \n",
      " 16  sqft_above     29211 non-null  int64   \n",
      " 17  sqft_basement  29211 non-null  int64   \n",
      " 18  sqft_garage    29211 non-null  int64   \n",
      " 19  sqft_patio     29211 non-null  int64   \n",
      " 20  yr_built       29211 non-null  int64   \n",
      " 21  yr_renovated   29211 non-null  int64   \n",
      " 22  address        29211 non-null  object  \n",
      " 23  lat            29211 non-null  float64 \n",
      " 24  long           29211 non-null  float64 \n",
      " 25  geometry       29211 non-null  geometry\n",
      " 26  MHHI1          29211 non-null  float64 \n",
      " 27  traffic_de     29211 non-null  float64 \n",
      " 28  toxic_rele     29211 non-null  float64 \n",
      " 29  hazardou_2     29211 non-null  float64 \n",
      " 30  SCHDST         29211 non-null  object  \n",
      " 31  NAME           29211 non-null  object  \n",
      " 32  DSTNUM         29211 non-null  object  \n",
      "dtypes: float64(9), geometry(1), int64(10), object(13)\n",
      "memory usage: 7.6+ MB\n"
     ]
    }
   ],
   "source": [
    "gdf_3.info()"
   ]
  },
  {
   "cell_type": "code",
   "execution_count": 178,
   "metadata": {},
   "outputs": [],
   "source": [
    "gdf_3.to_csv('updated_housing.csv', index=False)"
   ]
  },
  {
   "cell_type": "code",
   "execution_count": null,
   "metadata": {},
   "outputs": [],
   "source": []
  }
 ],
 "metadata": {
  "kernelspec": {
   "display_name": "Python (GIS-env)",
   "language": "python",
   "name": "gis-env"
  },
  "language_info": {
   "codemirror_mode": {
    "name": "ipython",
    "version": 3
   },
   "file_extension": ".py",
   "mimetype": "text/x-python",
   "name": "python",
   "nbconvert_exporter": "python",
   "pygments_lexer": "ipython3",
   "version": "3.11.0"
  }
 },
 "nbformat": 4,
 "nbformat_minor": 4
}
