{
 "cells": [
  {
   "cell_type": "code",
   "execution_count": 1,
   "metadata": {},
   "outputs": [],
   "source": [
    "# import \n",
    "import pandas as pd\n",
    "import numpy as np\n",
    "import matplotlib.pyplot as plt\n",
    "from sklearn.linear_model import LinearRegression\n",
    "import seaborn as sns\n",
    "import folium\n",
    "from folium.plugins import MarkerCluster, FastMarkerCluster\n",
    "import statsmodels.api as sm"
   ]
  },
  {
   "cell_type": "code",
   "execution_count": 2,
   "metadata": {},
   "outputs": [],
   "source": [
    "# Load the dataset into a DataFrame\n",
    "# df = pd.read_csv('data/kc_house_data.csv')\n",
    "df = pd.read_csv('keanan_gis_work/updated_housing.csv')"
   ]
  },
  {
   "cell_type": "markdown",
   "metadata": {},
   "source": [
    "Checking info, nulls"
   ]
  },
  {
   "cell_type": "code",
   "execution_count": 3,
   "metadata": {},
   "outputs": [
    {
     "name": "stdout",
     "output_type": "stream",
     "text": [
      "<class 'pandas.core.frame.DataFrame'>\n",
      "RangeIndex: 29211 entries, 0 to 29210\n",
      "Data columns (total 33 columns):\n",
      " #   Column         Non-Null Count  Dtype  \n",
      "---  ------         --------------  -----  \n",
      " 0   id             29211 non-null  int64  \n",
      " 1   date           29211 non-null  object \n",
      " 2   price          29211 non-null  float64\n",
      " 3   bedrooms       29211 non-null  int64  \n",
      " 4   bathrooms      29211 non-null  float64\n",
      " 5   sqft_living    29211 non-null  int64  \n",
      " 6   sqft_lot       29211 non-null  int64  \n",
      " 7   floors         29211 non-null  float64\n",
      " 8   waterfront     29211 non-null  object \n",
      " 9   greenbelt      29211 non-null  object \n",
      " 10  nuisance       29211 non-null  object \n",
      " 11  view           29211 non-null  object \n",
      " 12  condition      29211 non-null  object \n",
      " 13  grade          29211 non-null  object \n",
      " 14  heat_source    29182 non-null  object \n",
      " 15  sewer_system   29198 non-null  object \n",
      " 16  sqft_above     29211 non-null  int64  \n",
      " 17  sqft_basement  29211 non-null  int64  \n",
      " 18  sqft_garage    29211 non-null  int64  \n",
      " 19  sqft_patio     29211 non-null  int64  \n",
      " 20  yr_built       29211 non-null  int64  \n",
      " 21  yr_renovated   29211 non-null  int64  \n",
      " 22  address        29211 non-null  object \n",
      " 23  lat            29211 non-null  float64\n",
      " 24  long           29211 non-null  float64\n",
      " 25  geometry       29211 non-null  object \n",
      " 26  MHHI1          29211 non-null  float64\n",
      " 27  traffic_de     29211 non-null  float64\n",
      " 28  toxic_rele     29211 non-null  float64\n",
      " 29  hazardou_2     29211 non-null  float64\n",
      " 30  SCHDST         29211 non-null  int64  \n",
      " 31  NAME           29211 non-null  object \n",
      " 32  DSTNUM         29211 non-null  int64  \n",
      "dtypes: float64(9), int64(12), object(12)\n",
      "memory usage: 7.4+ MB\n"
     ]
    }
   ],
   "source": [
    "df.info()"
   ]
  },
  {
   "cell_type": "markdown",
   "metadata": {},
   "source": [
    "- 30155 long\n",
    "- lots of object types\n",
    "- heat_source and sewer_system have nulls"
   ]
  },
  {
   "cell_type": "markdown",
   "metadata": {},
   "source": [
    "Looking further into the null and duplicate values"
   ]
  },
  {
   "cell_type": "code",
   "execution_count": 4,
   "metadata": {
    "scrolled": true
   },
   "outputs": [
    {
     "data": {
      "text/plain": [
       "id                0\n",
       "date              0\n",
       "price             0\n",
       "bedrooms          0\n",
       "bathrooms         0\n",
       "sqft_living       0\n",
       "sqft_lot          0\n",
       "floors            0\n",
       "waterfront        0\n",
       "greenbelt         0\n",
       "nuisance          0\n",
       "view              0\n",
       "condition         0\n",
       "grade             0\n",
       "heat_source      29\n",
       "sewer_system     13\n",
       "sqft_above        0\n",
       "sqft_basement     0\n",
       "sqft_garage       0\n",
       "sqft_patio        0\n",
       "yr_built          0\n",
       "yr_renovated      0\n",
       "address           0\n",
       "lat               0\n",
       "long              0\n",
       "geometry          0\n",
       "MHHI1             0\n",
       "traffic_de        0\n",
       "toxic_rele        0\n",
       "hazardou_2        0\n",
       "SCHDST            0\n",
       "NAME              0\n",
       "DSTNUM            0\n",
       "dtype: int64"
      ]
     },
     "execution_count": 4,
     "metadata": {},
     "output_type": "execute_result"
    }
   ],
   "source": [
    "df.isna().sum()"
   ]
  },
  {
   "cell_type": "code",
   "execution_count": 5,
   "metadata": {},
   "outputs": [
    {
     "name": "stdout",
     "output_type": "stream",
     "text": [
      "Number of Duplicates: 1\n"
     ]
    },
    {
     "data": {
      "text/html": [
       "<div>\n",
       "<style scoped>\n",
       "    .dataframe tbody tr th:only-of-type {\n",
       "        vertical-align: middle;\n",
       "    }\n",
       "\n",
       "    .dataframe tbody tr th {\n",
       "        vertical-align: top;\n",
       "    }\n",
       "\n",
       "    .dataframe thead th {\n",
       "        text-align: right;\n",
       "    }\n",
       "</style>\n",
       "<table border=\"1\" class=\"dataframe\">\n",
       "  <thead>\n",
       "    <tr style=\"text-align: right;\">\n",
       "      <th></th>\n",
       "      <th>id</th>\n",
       "      <th>date</th>\n",
       "      <th>price</th>\n",
       "      <th>bedrooms</th>\n",
       "      <th>bathrooms</th>\n",
       "      <th>sqft_living</th>\n",
       "      <th>sqft_lot</th>\n",
       "      <th>floors</th>\n",
       "      <th>waterfront</th>\n",
       "      <th>greenbelt</th>\n",
       "      <th>...</th>\n",
       "      <th>lat</th>\n",
       "      <th>long</th>\n",
       "      <th>geometry</th>\n",
       "      <th>MHHI1</th>\n",
       "      <th>traffic_de</th>\n",
       "      <th>toxic_rele</th>\n",
       "      <th>hazardou_2</th>\n",
       "      <th>SCHDST</th>\n",
       "      <th>NAME</th>\n",
       "      <th>DSTNUM</th>\n",
       "    </tr>\n",
       "  </thead>\n",
       "  <tbody>\n",
       "    <tr>\n",
       "      <th>24338</th>\n",
       "      <td>1233100736</td>\n",
       "      <td>9/28/2021</td>\n",
       "      <td>2600000.0</td>\n",
       "      <td>3</td>\n",
       "      <td>4.0</td>\n",
       "      <td>3500</td>\n",
       "      <td>8455</td>\n",
       "      <td>2.0</td>\n",
       "      <td>NO</td>\n",
       "      <td>NO</td>\n",
       "      <td>...</td>\n",
       "      <td>47.68069</td>\n",
       "      <td>-122.172135</td>\n",
       "      <td>POINT (-122.172135 47.680690000000006)</td>\n",
       "      <td>95625.0</td>\n",
       "      <td>6.0</td>\n",
       "      <td>3786.715617</td>\n",
       "      <td>2.0</td>\n",
       "      <td>414</td>\n",
       "      <td>Lake Washington</td>\n",
       "      <td>17414</td>\n",
       "    </tr>\n",
       "  </tbody>\n",
       "</table>\n",
       "<p>1 rows × 33 columns</p>\n",
       "</div>"
      ],
      "text/plain": [
       "               id       date      price  bedrooms  bathrooms  sqft_living  \\\n",
       "24338  1233100736  9/28/2021  2600000.0         3        4.0         3500   \n",
       "\n",
       "       sqft_lot  floors waterfront greenbelt  ...       lat        long  \\\n",
       "24338      8455     2.0         NO        NO  ...  47.68069 -122.172135   \n",
       "\n",
       "                                     geometry    MHHI1 traffic_de  \\\n",
       "24338  POINT (-122.172135 47.680690000000006)  95625.0        6.0   \n",
       "\n",
       "        toxic_rele  hazardou_2  SCHDST             NAME  DSTNUM  \n",
       "24338  3786.715617         2.0     414  Lake Washington   17414  \n",
       "\n",
       "[1 rows x 33 columns]"
      ]
     },
     "execution_count": 5,
     "metadata": {},
     "output_type": "execute_result"
    }
   ],
   "source": [
    "# locating duplicates\n",
    "print(f'Number of Duplicates: {df.duplicated().sum()}')\n",
    "df.loc[df.duplicated() == True]"
   ]
  },
  {
   "cell_type": "markdown",
   "metadata": {},
   "source": [
    "Function for droping duplicates, nulls, and other specified columns"
   ]
  },
  {
   "cell_type": "code",
   "execution_count": 6,
   "metadata": {},
   "outputs": [],
   "source": [
    "def dropper(df, one=None, two=None, three=None):\n",
    "    '''\n",
    "    Input: DataFrame, request 1,request 2, request 3\n",
    "    requests:\n",
    "    'duplicates' to drop duplicates\n",
    "    'nulls' to drop null values\n",
    "    list containing df column names l = ['','','']\n",
    "    '''\n",
    "    request = [one,two,three]\n",
    "    if 'duplicates' in request:\n",
    "        df = df.drop_duplicates()\n",
    "    if 'nulls' in request:\n",
    "        df = df.dropna()\n",
    "    for req in request:\n",
    "        if isinstance(req, list):\n",
    "            df = df.drop(columns=req, axis=1)\n",
    "    return(df)"
   ]
  },
  {
   "cell_type": "markdown",
   "metadata": {},
   "source": [
    "- below we drop duplicates and null values, in total there is only 1 duplicated row and 42 null values"
   ]
  },
  {
   "cell_type": "code",
   "execution_count": 7,
   "metadata": {
    "scrolled": true
   },
   "outputs": [],
   "source": [
    "\n",
    "droping =['id','geometry','address','NAME','DSTNUM']\n",
    "df_clean = dropper(df, 'duplicates', 'nulls', droping)"
   ]
  },
  {
   "cell_type": "code",
   "execution_count": 8,
   "metadata": {},
   "outputs": [
    {
     "name": "stdout",
     "output_type": "stream",
     "text": [
      "<class 'pandas.core.frame.DataFrame'>\n",
      "Int64Index: 29170 entries, 0 to 29210\n",
      "Data columns (total 28 columns):\n",
      " #   Column         Non-Null Count  Dtype  \n",
      "---  ------         --------------  -----  \n",
      " 0   date           29170 non-null  object \n",
      " 1   price          29170 non-null  float64\n",
      " 2   bedrooms       29170 non-null  int64  \n",
      " 3   bathrooms      29170 non-null  float64\n",
      " 4   sqft_living    29170 non-null  int64  \n",
      " 5   sqft_lot       29170 non-null  int64  \n",
      " 6   floors         29170 non-null  float64\n",
      " 7   waterfront     29170 non-null  object \n",
      " 8   greenbelt      29170 non-null  object \n",
      " 9   nuisance       29170 non-null  object \n",
      " 10  view           29170 non-null  object \n",
      " 11  condition      29170 non-null  object \n",
      " 12  grade          29170 non-null  object \n",
      " 13  heat_source    29170 non-null  object \n",
      " 14  sewer_system   29170 non-null  object \n",
      " 15  sqft_above     29170 non-null  int64  \n",
      " 16  sqft_basement  29170 non-null  int64  \n",
      " 17  sqft_garage    29170 non-null  int64  \n",
      " 18  sqft_patio     29170 non-null  int64  \n",
      " 19  yr_built       29170 non-null  int64  \n",
      " 20  yr_renovated   29170 non-null  int64  \n",
      " 21  lat            29170 non-null  float64\n",
      " 22  long           29170 non-null  float64\n",
      " 23  MHHI1          29170 non-null  float64\n",
      " 24  traffic_de     29170 non-null  float64\n",
      " 25  toxic_rele     29170 non-null  float64\n",
      " 26  hazardou_2     29170 non-null  float64\n",
      " 27  SCHDST         29170 non-null  int64  \n",
      "dtypes: float64(9), int64(10), object(9)\n",
      "memory usage: 6.5+ MB\n"
     ]
    }
   ],
   "source": [
    "df_clean.info()"
   ]
  },
  {
   "cell_type": "markdown",
   "metadata": {},
   "source": [
    "Converting time column to datetime format"
   ]
  },
  {
   "cell_type": "code",
   "execution_count": 9,
   "metadata": {},
   "outputs": [],
   "source": [
    "df_clean['date'] = pd.to_datetime(df_clean['date'], format='%m/%d/%Y')"
   ]
  },
  {
   "cell_type": "markdown",
   "metadata": {},
   "source": [
    "Function for converting boolean catagoricals into numeric booleans "
   ]
  },
  {
   "cell_type": "code",
   "execution_count": 10,
   "metadata": {},
   "outputs": [],
   "source": [
    "def convert_boolean(df,x=None):\n",
    "    '''\n",
    "    This function converts all boolean data into numeric types\n",
    "    Used in numeric_df\n",
    "    input dataframe\n",
    "    '''\n",
    "    boolean_cols = df.select_dtypes(include='object').columns\n",
    "    column_name = []\n",
    "    for col in boolean_cols:\n",
    "        if set(df[col].unique()) == {'YES', 'NO'}:\n",
    "            df[col] = df[col].replace({\"NO\": 0, \"YES\": 1})\n",
    "            column_name.append(col)\n",
    "            return(df)\n",
    "    if x != None:\n",
    "        print(f'Boolean Conversions:{column_name}')\n",
    "    else:\n",
    "        print(display(df.head()),column_name)"
   ]
  },
  {
   "cell_type": "code",
   "execution_count": 11,
   "metadata": {},
   "outputs": [],
   "source": [
    "df_clean = convert_boolean(df_clean)"
   ]
  },
  {
   "cell_type": "code",
   "execution_count": 12,
   "metadata": {},
   "outputs": [
    {
     "name": "stdout",
     "output_type": "stream",
     "text": [
      "<class 'pandas.core.frame.DataFrame'>\n",
      "Int64Index: 29170 entries, 0 to 29210\n",
      "Data columns (total 28 columns):\n",
      " #   Column         Non-Null Count  Dtype         \n",
      "---  ------         --------------  -----         \n",
      " 0   date           29170 non-null  datetime64[ns]\n",
      " 1   price          29170 non-null  float64       \n",
      " 2   bedrooms       29170 non-null  int64         \n",
      " 3   bathrooms      29170 non-null  float64       \n",
      " 4   sqft_living    29170 non-null  int64         \n",
      " 5   sqft_lot       29170 non-null  int64         \n",
      " 6   floors         29170 non-null  float64       \n",
      " 7   waterfront     29170 non-null  int64         \n",
      " 8   greenbelt      29170 non-null  object        \n",
      " 9   nuisance       29170 non-null  object        \n",
      " 10  view           29170 non-null  object        \n",
      " 11  condition      29170 non-null  object        \n",
      " 12  grade          29170 non-null  object        \n",
      " 13  heat_source    29170 non-null  object        \n",
      " 14  sewer_system   29170 non-null  object        \n",
      " 15  sqft_above     29170 non-null  int64         \n",
      " 16  sqft_basement  29170 non-null  int64         \n",
      " 17  sqft_garage    29170 non-null  int64         \n",
      " 18  sqft_patio     29170 non-null  int64         \n",
      " 19  yr_built       29170 non-null  int64         \n",
      " 20  yr_renovated   29170 non-null  int64         \n",
      " 21  lat            29170 non-null  float64       \n",
      " 22  long           29170 non-null  float64       \n",
      " 23  MHHI1          29170 non-null  float64       \n",
      " 24  traffic_de     29170 non-null  float64       \n",
      " 25  toxic_rele     29170 non-null  float64       \n",
      " 26  hazardou_2     29170 non-null  float64       \n",
      " 27  SCHDST         29170 non-null  int64         \n",
      "dtypes: datetime64[ns](1), float64(9), int64(11), object(7)\n",
      "memory usage: 6.5+ MB\n"
     ]
    }
   ],
   "source": [
    "df_clean.info()"
   ]
  },
  {
   "cell_type": "markdown",
   "metadata": {},
   "source": [
    "# converting to numeric types"
   ]
  },
  {
   "cell_type": "code",
   "execution_count": 13,
   "metadata": {
    "scrolled": true
   },
   "outputs": [
    {
     "data": {
      "text/plain": [
       "Gas                  20147\n",
       "Electricity           5950\n",
       "Oil                   2899\n",
       "Gas/Solar               93\n",
       "Electricity/Solar       57\n",
       "Other                   20\n",
       "Oil/Solar                4\n",
       "Name: heat_source, dtype: int64"
      ]
     },
     "execution_count": 13,
     "metadata": {},
     "output_type": "execute_result"
    }
   ],
   "source": [
    "df_clean['heat_source'].value_counts()"
   ]
  },
  {
   "cell_type": "code",
   "execution_count": 14,
   "metadata": {
    "scrolled": true
   },
   "outputs": [
    {
     "name": "stdout",
     "output_type": "stream",
     "text": [
      "Rating Conversions: ['view', 'condition', 'grade', 'date']\n"
     ]
    }
   ],
   "source": [
    "def numeric_housing(df): \n",
    "    '''\n",
    "    This function converts all boolean or rating types into numerics from input df. \n",
    "    this is saved as df_numeric\n",
    "    This only works with housing data\n",
    "    '''\n",
    "\n",
    "    df_numeric = df.copy()\n",
    "\n",
    "    # Returns the new df_clean and lists the columns changed\n",
    "    convert_boolean(df_numeric,1)\n",
    "\n",
    "    # adjusting view column \n",
    "    # View has no intupretation written so it was self interpreted\n",
    "    df_numeric[\"view\"] = df_numeric[\"view\"].replace({\"NONE\": 0,\n",
    "                                                 \"FAIR\": 1,\n",
    "                                                 \"AVERAGE\": 2,\n",
    "                                                 \"GOOD\": 3,\n",
    "                                                 \"EXCELLENT\": 4,})\n",
    "\n",
    "    # adjusting condition column \n",
    "    # View https://info.kingcounty.gov/assessor/esales/Glossary.aspx?type=r#c \n",
    "    # under building condition it lists the order\n",
    "    df_numeric[\"condition\"] = df_numeric[\"condition\"].replace({\"Poor\": 0,\n",
    "                                                \"Fair\": 1,\n",
    "                                                 \"Average\": 2,\n",
    "                                                 \"Good\": 3,\n",
    "                                                 \"Very Good\": 4,})\n",
    "    # adjusting grade column \n",
    "    # View https://info.kingcounty.gov/assessor/esales/Glossary.aspx?type=r#c \n",
    "    # under building grade it lists the order\n",
    "    # they list the assosiated number with in name, i replaced it to just be the number\n",
    "    df_numeric[\"grade\"] = df_numeric[\"grade\"].replace({\"2 Substandard\": 2,\n",
    "                                              \"3 Poor\": 3,\n",
    "                                              \"4 Low\": 4,\n",
    "                                              \"5 Fair\": 5,\n",
    "                                              \"6 Low Average\": 6,\n",
    "                                              \"7 Average\": 7,\n",
    "                                              \"8 Good\": 8,\n",
    "                                              \"9 Better\": 9,\n",
    "                                              \"10 Very Good\": 10,\n",
    "                                              \"11 Excellent\": 11,\n",
    "                                              \"12 Luxury\": 12,\n",
    "                                              \"13 Mansion\": 13,})\n",
    "   \n",
    "    \n",
    "    \n",
    "    \n",
    "    adjusted = ['view','condition', 'grade','date']\n",
    "    \n",
    "    print(f'Rating Conversions: {adjusted}')\n",
    "#     print(display(df_numeric.head()))\n",
    "    return(df_numeric)\n",
    "df_clean = numeric_housing(df_clean)"
   ]
  },
  {
   "cell_type": "code",
   "execution_count": 15,
   "metadata": {
    "scrolled": true
   },
   "outputs": [
    {
     "name": "stdout",
     "output_type": "stream",
     "text": [
      "<class 'pandas.core.frame.DataFrame'>\n",
      "Int64Index: 29170 entries, 0 to 29210\n",
      "Data columns (total 28 columns):\n",
      " #   Column         Non-Null Count  Dtype         \n",
      "---  ------         --------------  -----         \n",
      " 0   date           29170 non-null  datetime64[ns]\n",
      " 1   price          29170 non-null  float64       \n",
      " 2   bedrooms       29170 non-null  int64         \n",
      " 3   bathrooms      29170 non-null  float64       \n",
      " 4   sqft_living    29170 non-null  int64         \n",
      " 5   sqft_lot       29170 non-null  int64         \n",
      " 6   floors         29170 non-null  float64       \n",
      " 7   waterfront     29170 non-null  int64         \n",
      " 8   greenbelt      29170 non-null  int64         \n",
      " 9   nuisance       29170 non-null  object        \n",
      " 10  view           29170 non-null  int64         \n",
      " 11  condition      29170 non-null  int64         \n",
      " 12  grade          29170 non-null  int64         \n",
      " 13  heat_source    29170 non-null  object        \n",
      " 14  sewer_system   29170 non-null  object        \n",
      " 15  sqft_above     29170 non-null  int64         \n",
      " 16  sqft_basement  29170 non-null  int64         \n",
      " 17  sqft_garage    29170 non-null  int64         \n",
      " 18  sqft_patio     29170 non-null  int64         \n",
      " 19  yr_built       29170 non-null  int64         \n",
      " 20  yr_renovated   29170 non-null  int64         \n",
      " 21  lat            29170 non-null  float64       \n",
      " 22  long           29170 non-null  float64       \n",
      " 23  MHHI1          29170 non-null  float64       \n",
      " 24  traffic_de     29170 non-null  float64       \n",
      " 25  toxic_rele     29170 non-null  float64       \n",
      " 26  hazardou_2     29170 non-null  float64       \n",
      " 27  SCHDST         29170 non-null  int64         \n",
      "dtypes: datetime64[ns](1), float64(9), int64(15), object(3)\n",
      "memory usage: 6.5+ MB\n"
     ]
    }
   ],
   "source": [
    "df_clean.info()"
   ]
  },
  {
   "cell_type": "markdown",
   "metadata": {},
   "source": [
    "# Creating Dummy variables"
   ]
  },
  {
   "cell_type": "code",
   "execution_count": 16,
   "metadata": {},
   "outputs": [],
   "source": [
    "def for_dummies(df,column):\n",
    "    '''\n",
    "    Function takes a dataframe and a column or a list or columns\n",
    "    creates a dummy variable for each specified columns\n",
    "    '''\n",
    "#     if isinstance(column,list):\n",
    "#         for n in column:\n",
    "    pd.get_dummies(df, columns=column, drop_first=False)\n",
    "    \n",
    "    X_iterated.drop(\"cut_Fair\", axis=1, inplace=True)\n",
    "    "
   ]
  },
  {
   "cell_type": "markdown",
   "metadata": {},
   "source": [
    "# Modeling"
   ]
  },
  {
   "cell_type": "code",
   "execution_count": 38,
   "metadata": {},
   "outputs": [],
   "source": [
    "def correlation(df,column,rank=None):\n",
    "    '''\n",
    "    performs correlation matrix, drops no numeric object types\n",
    "    variables are dataframe, column, and ranking\n",
    "    ranking is optional\n",
    "    column = 'column'\n",
    "    rank = True or leave blank\n",
    "    '''\n",
    "    # data cleaning that needs to be moved\n",
    "    # Select columns of object type and drop them\n",
    "    df_object = df.select_dtypes(include='object')\n",
    "    print(f'The following columns were dropped due to being object types\\n{df_object.columns}')\n",
    "    df = df.drop(df_object,axis=1) \n",
    "    \n",
    "\n",
    "#     df1 = df.drop(columns=['lat','long','yr_renovated'],axis=1)\n",
    "    df1 = df\n",
    "#     return df1\n",
    "#     return df1['price']\n",
    "    #end of data cleaning\n",
    "    \n",
    "    if rank is True:\n",
    "        try:\n",
    "            df_corr = df1.corr()[column]#.rank(ascending=False).sort_values()    # numeric_only=False\n",
    "            df_corr = df_corr.drop(column)\n",
    "#             print(f'{column} has been removed from the ranking')\n",
    "            print(f'Ranked correlation to {column}')\n",
    "            return(df_corr.rank(ascending=False).sort_values())\n",
    "        except Exception as e:\n",
    "            print(f\"Not a valid column name\\n{e}\")\n",
    "    else:    \n",
    "        try:\n",
    "            df_corr = df.corr()[column]\n",
    "            df_corr = df_corr.drop(column)\n",
    "            print(f'Correlation to {column}')\n",
    "            return(df_corr.sort_values(ascending=False))\n",
    "        except Exception as e:\n",
    "            print(f\"Not a valid column name\\n{e}\")\n",
    "        "
   ]
  },
  {
   "cell_type": "code",
   "execution_count": 39,
   "metadata": {
    "scrolled": true
   },
   "outputs": [
    {
     "name": "stdout",
     "output_type": "stream",
     "text": [
      "The following columns were dropped due to being object types\n",
      "Index(['nuisance', 'heat_source', 'sewer_system'], dtype='object')\n",
      "Correlation to price\n"
     ]
    },
    {
     "data": {
      "text/plain": [
       "sqft_living      0.616625\n",
       "grade            0.577978\n",
       "sqft_above       0.546001\n",
       "bathrooms        0.487829\n",
       "MHHI1            0.480884\n",
       "view             0.321322\n",
       "sqft_patio       0.317543\n",
       "lat              0.297687\n",
       "bedrooms         0.290908\n",
       "sqft_garage      0.267487\n",
       "sqft_basement    0.246097\n",
       "waterfront       0.239104\n",
       "floors           0.199833\n",
       "yr_built         0.106166\n",
       "sqft_lot         0.086743\n",
       "yr_renovated     0.085605\n",
       "long             0.081813\n",
       "greenbelt        0.068418\n",
       "SCHDST           0.053100\n",
       "condition       -0.012618\n",
       "traffic_de      -0.059191\n",
       "toxic_rele      -0.121423\n",
       "hazardou_2      -0.308898\n",
       "Name: price, dtype: float64"
      ]
     },
     "execution_count": 39,
     "metadata": {},
     "output_type": "execute_result"
    }
   ],
   "source": [
    "correlation(df_clean,'price')"
   ]
  },
  {
   "cell_type": "code",
   "execution_count": 20,
   "metadata": {
    "scrolled": true
   },
   "outputs": [
    {
     "data": {
      "text/plain": [
       "Index(['date', 'price', 'bedrooms', 'bathrooms', 'sqft_living', 'sqft_lot',\n",
       "       'floors', 'waterfront', 'greenbelt', 'nuisance', 'view', 'condition',\n",
       "       'grade', 'heat_source', 'sewer_system', 'sqft_above', 'sqft_basement',\n",
       "       'sqft_garage', 'sqft_patio', 'yr_built', 'yr_renovated', 'lat', 'long',\n",
       "       'MHHI1', 'traffic_de', 'toxic_rele', 'hazardou_2', 'SCHDST'],\n",
       "      dtype='object')"
      ]
     },
     "execution_count": 20,
     "metadata": {},
     "output_type": "execute_result"
    }
   ],
   "source": [
    "df_clean.columns"
   ]
  },
  {
   "cell_type": "markdown",
   "metadata": {},
   "source": [
    "# Creating Regression Models"
   ]
  },
  {
   "cell_type": "code",
   "execution_count": 67,
   "metadata": {},
   "outputs": [],
   "source": [
    "def mlr(df,column,simple=False,model_t=None):\n",
    "    '''\n",
    "    This runs a Multiple Linear Regression for a set list from df_numeric.\n",
    "    Call an int to return the list of columns used, mlr(1)\n",
    "    dataframe,y column, optional single regression add column\n",
    "    simple: \n",
    "    True = simple\n",
    "    False = multiple\n",
    "    model_t:\n",
    "    'x' = return x columns used\n",
    "    'fit' = no summary\n",
    "    '''\n",
    "    df_object = df.select_dtypes(include='object')\n",
    "    print(f'The following columns were dropped due to being object types\\n{df_object.columns}')\n",
    "    df = df.drop(df_object,axis=1) \n",
    "\n",
    "    df1 = df.drop(columns=['lat','long','date','sqft_above','sqft_lot','sqft_basement','sqft_patio','yr_renovated'],axis=1)\n",
    "#     df1 = df[['price', 'traffic_de', 'SCHDST']]\n",
    "#     df1 = df[['floors','price']]\n",
    "    \n",
    "    if simple == True:\n",
    "        highest_corr = correlation(df, column).abs().idxmax()\n",
    "        x = df[highest_corr]\n",
    "    elif simple == False:\n",
    "        x = df1.drop(column, axis=1)\n",
    "        \n",
    "    # Define the y variables\n",
    "    y = df1[column]\n",
    "    # create model\n",
    "    model = sm.OLS(y,sm.add_constant(x)).fit()\n",
    "\n",
    "    if model_t == 'x':\n",
    "        return(sm.add_constant(x))\n",
    "    elif model_t == 'fit':\n",
    "        return(model)\n",
    "    \n",
    "    # Model Summary\n",
    "    return(model.summary())\n"
   ]
  },
  {
   "cell_type": "markdown",
   "metadata": {},
   "source": [
    "## Simple Model"
   ]
  },
  {
   "cell_type": "code",
   "execution_count": 51,
   "metadata": {
    "scrolled": true
   },
   "outputs": [
    {
     "name": "stdout",
     "output_type": "stream",
     "text": [
      "The following columns were dropped due to being object types\n",
      "Index(['nuisance', 'heat_source', 'sewer_system'], dtype='object')\n",
      "The following columns were dropped due to being object types\n",
      "Index([], dtype='object')\n",
      "Correlation to price\n"
     ]
    },
    {
     "data": {
      "text/html": [
       "<table class=\"simpletable\">\n",
       "<caption>OLS Regression Results</caption>\n",
       "<tr>\n",
       "  <th>Dep. Variable:</th>          <td>price</td>      <th>  R-squared:         </th>  <td>   0.380</td>  \n",
       "</tr>\n",
       "<tr>\n",
       "  <th>Model:</th>                   <td>OLS</td>       <th>  Adj. R-squared:    </th>  <td>   0.380</td>  \n",
       "</tr>\n",
       "<tr>\n",
       "  <th>Method:</th>             <td>Least Squares</td>  <th>  F-statistic:       </th>  <td>1.789e+04</td> \n",
       "</tr>\n",
       "<tr>\n",
       "  <th>Date:</th>             <td>Wed, 29 Mar 2023</td> <th>  Prob (F-statistic):</th>   <td>  0.00</td>   \n",
       "</tr>\n",
       "<tr>\n",
       "  <th>Time:</th>                 <td>08:24:54</td>     <th>  Log-Likelihood:    </th> <td>-4.3419e+05</td>\n",
       "</tr>\n",
       "<tr>\n",
       "  <th>No. Observations:</th>      <td> 29170</td>      <th>  AIC:               </th>  <td>8.684e+05</td> \n",
       "</tr>\n",
       "<tr>\n",
       "  <th>Df Residuals:</th>          <td> 29168</td>      <th>  BIC:               </th>  <td>8.684e+05</td> \n",
       "</tr>\n",
       "<tr>\n",
       "  <th>Df Model:</th>              <td>     1</td>      <th>                     </th>      <td> </td>     \n",
       "</tr>\n",
       "<tr>\n",
       "  <th>Covariance Type:</th>      <td>nonrobust</td>    <th>                     </th>      <td> </td>     \n",
       "</tr>\n",
       "</table>\n",
       "<table class=\"simpletable\">\n",
       "<tr>\n",
       "       <td></td>          <th>coef</th>     <th>std err</th>      <th>t</th>      <th>P>|t|</th>  <th>[0.025</th>    <th>0.975]</th>  \n",
       "</tr>\n",
       "<tr>\n",
       "  <th>const</th>       <td>-9.221e+04</td> <td> 9908.686</td> <td>   -9.306</td> <td> 0.000</td> <td>-1.12e+05</td> <td>-7.28e+04</td>\n",
       "</tr>\n",
       "<tr>\n",
       "  <th>sqft_living</th> <td>  565.3827</td> <td>    4.227</td> <td>  133.770</td> <td> 0.000</td> <td>  557.099</td> <td>  573.667</td>\n",
       "</tr>\n",
       "</table>\n",
       "<table class=\"simpletable\">\n",
       "<tr>\n",
       "  <th>Omnibus:</th>       <td>42232.632</td> <th>  Durbin-Watson:     </th>   <td>   1.224</td>  \n",
       "</tr>\n",
       "<tr>\n",
       "  <th>Prob(Omnibus):</th>  <td> 0.000</td>   <th>  Jarque-Bera (JB):  </th> <td>50100657.663</td>\n",
       "</tr>\n",
       "<tr>\n",
       "  <th>Skew:</th>           <td> 8.242</td>   <th>  Prob(JB):          </th>   <td>    0.00</td>  \n",
       "</tr>\n",
       "<tr>\n",
       "  <th>Kurtosis:</th>       <td>205.359</td>  <th>  Cond. No.          </th>   <td>5.63e+03</td>  \n",
       "</tr>\n",
       "</table><br/><br/>Notes:<br/>[1] Standard Errors assume that the covariance matrix of the errors is correctly specified.<br/>[2] The condition number is large, 5.63e+03. This might indicate that there are<br/>strong multicollinearity or other numerical problems."
      ],
      "text/plain": [
       "<class 'statsmodels.iolib.summary.Summary'>\n",
       "\"\"\"\n",
       "                            OLS Regression Results                            \n",
       "==============================================================================\n",
       "Dep. Variable:                  price   R-squared:                       0.380\n",
       "Model:                            OLS   Adj. R-squared:                  0.380\n",
       "Method:                 Least Squares   F-statistic:                 1.789e+04\n",
       "Date:                Wed, 29 Mar 2023   Prob (F-statistic):               0.00\n",
       "Time:                        08:24:54   Log-Likelihood:            -4.3419e+05\n",
       "No. Observations:               29170   AIC:                         8.684e+05\n",
       "Df Residuals:                   29168   BIC:                         8.684e+05\n",
       "Df Model:                           1                                         \n",
       "Covariance Type:            nonrobust                                         \n",
       "===============================================================================\n",
       "                  coef    std err          t      P>|t|      [0.025      0.975]\n",
       "-------------------------------------------------------------------------------\n",
       "const       -9.221e+04   9908.686     -9.306      0.000   -1.12e+05   -7.28e+04\n",
       "sqft_living   565.3827      4.227    133.770      0.000     557.099     573.667\n",
       "==============================================================================\n",
       "Omnibus:                    42232.632   Durbin-Watson:                   1.224\n",
       "Prob(Omnibus):                  0.000   Jarque-Bera (JB):         50100657.663\n",
       "Skew:                           8.242   Prob(JB):                         0.00\n",
       "Kurtosis:                     205.359   Cond. No.                     5.63e+03\n",
       "==============================================================================\n",
       "\n",
       "Notes:\n",
       "[1] Standard Errors assume that the covariance matrix of the errors is correctly specified.\n",
       "[2] The condition number is large, 5.63e+03. This might indicate that there are\n",
       "strong multicollinearity or other numerical problems.\n",
       "\"\"\""
      ]
     },
     "execution_count": 51,
     "metadata": {},
     "output_type": "execute_result"
    }
   ],
   "source": [
    "mlr(df_clean,'price',True)"
   ]
  },
  {
   "cell_type": "code",
   "execution_count": 54,
   "metadata": {
    "scrolled": true
   },
   "outputs": [
    {
     "name": "stdout",
     "output_type": "stream",
     "text": [
      "The following columns were dropped due to being object types\n",
      "Index(['nuisance', 'heat_source', 'sewer_system'], dtype='object')\n"
     ]
    },
    {
     "data": {
      "text/html": [
       "<table class=\"simpletable\">\n",
       "<caption>OLS Regression Results</caption>\n",
       "<tr>\n",
       "  <th>Dep. Variable:</th>          <td>price</td>      <th>  R-squared:         </th>  <td>   0.553</td>  \n",
       "</tr>\n",
       "<tr>\n",
       "  <th>Model:</th>                   <td>OLS</td>       <th>  Adj. R-squared:    </th>  <td>   0.553</td>  \n",
       "</tr>\n",
       "<tr>\n",
       "  <th>Method:</th>             <td>Least Squares</td>  <th>  F-statistic:       </th>  <td>   2256.</td>  \n",
       "</tr>\n",
       "<tr>\n",
       "  <th>Date:</th>             <td>Wed, 29 Mar 2023</td> <th>  Prob (F-statistic):</th>   <td>  0.00</td>   \n",
       "</tr>\n",
       "<tr>\n",
       "  <th>Time:</th>                 <td>08:25:20</td>     <th>  Log-Likelihood:    </th> <td>-4.2942e+05</td>\n",
       "</tr>\n",
       "<tr>\n",
       "  <th>No. Observations:</th>      <td> 29170</td>      <th>  AIC:               </th>  <td>8.589e+05</td> \n",
       "</tr>\n",
       "<tr>\n",
       "  <th>Df Residuals:</th>          <td> 29153</td>      <th>  BIC:               </th>  <td>8.590e+05</td> \n",
       "</tr>\n",
       "<tr>\n",
       "  <th>Df Model:</th>              <td>    16</td>      <th>                     </th>      <td> </td>     \n",
       "</tr>\n",
       "<tr>\n",
       "  <th>Covariance Type:</th>      <td>nonrobust</td>    <th>                     </th>      <td> </td>     \n",
       "</tr>\n",
       "</table>\n",
       "<table class=\"simpletable\">\n",
       "<tr>\n",
       "       <td></td>          <th>coef</th>     <th>std err</th>      <th>t</th>      <th>P>|t|</th>  <th>[0.025</th>    <th>0.975]</th>  \n",
       "</tr>\n",
       "<tr>\n",
       "  <th>const</th>       <td> 5.653e+06</td> <td> 3.24e+05</td> <td>   17.444</td> <td> 0.000</td> <td> 5.02e+06</td> <td> 6.29e+06</td>\n",
       "</tr>\n",
       "<tr>\n",
       "  <th>bedrooms</th>    <td>-7.724e+04</td> <td> 4915.968</td> <td>  -15.713</td> <td> 0.000</td> <td>-8.69e+04</td> <td>-6.76e+04</td>\n",
       "</tr>\n",
       "<tr>\n",
       "  <th>bathrooms</th>   <td> 8.412e+04</td> <td> 7010.999</td> <td>   11.998</td> <td> 0.000</td> <td> 7.04e+04</td> <td> 9.79e+04</td>\n",
       "</tr>\n",
       "<tr>\n",
       "  <th>sqft_living</th> <td>  349.7299</td> <td>    7.557</td> <td>   46.281</td> <td> 0.000</td> <td>  334.919</td> <td>  364.541</td>\n",
       "</tr>\n",
       "<tr>\n",
       "  <th>floors</th>      <td>-7.268e+04</td> <td> 8499.790</td> <td>   -8.551</td> <td> 0.000</td> <td>-8.93e+04</td> <td> -5.6e+04</td>\n",
       "</tr>\n",
       "<tr>\n",
       "  <th>waterfront</th>  <td> 1.016e+06</td> <td> 2.99e+04</td> <td>   33.966</td> <td> 0.000</td> <td> 9.57e+05</td> <td> 1.07e+06</td>\n",
       "</tr>\n",
       "<tr>\n",
       "  <th>greenbelt</th>   <td>-4.825e+04</td> <td> 2.23e+04</td> <td>   -2.164</td> <td> 0.030</td> <td> -9.2e+04</td> <td>-4542.976</td>\n",
       "</tr>\n",
       "<tr>\n",
       "  <th>view</th>        <td> 7.819e+04</td> <td> 4766.789</td> <td>   16.404</td> <td> 0.000</td> <td> 6.89e+04</td> <td> 8.75e+04</td>\n",
       "</tr>\n",
       "<tr>\n",
       "  <th>condition</th>   <td> 1.672e+04</td> <td> 5332.728</td> <td>    3.135</td> <td> 0.002</td> <td> 6263.619</td> <td> 2.72e+04</td>\n",
       "</tr>\n",
       "<tr>\n",
       "  <th>grade</th>       <td> 1.938e+05</td> <td> 5400.664</td> <td>   35.888</td> <td> 0.000</td> <td> 1.83e+05</td> <td> 2.04e+05</td>\n",
       "</tr>\n",
       "<tr>\n",
       "  <th>sqft_garage</th> <td> -117.2233</td> <td>   16.960</td> <td>   -6.912</td> <td> 0.000</td> <td> -150.465</td> <td>  -83.981</td>\n",
       "</tr>\n",
       "<tr>\n",
       "  <th>yr_built</th>    <td>-3556.0766</td> <td>  169.215</td> <td>  -21.015</td> <td> 0.000</td> <td>-3887.746</td> <td>-3224.408</td>\n",
       "</tr>\n",
       "<tr>\n",
       "  <th>MHHI1</th>       <td>    6.0698</td> <td>    0.147</td> <td>   41.399</td> <td> 0.000</td> <td>    5.782</td> <td>    6.357</td>\n",
       "</tr>\n",
       "<tr>\n",
       "  <th>traffic_de</th>  <td> 1.507e+04</td> <td> 1412.803</td> <td>   10.664</td> <td> 0.000</td> <td> 1.23e+04</td> <td> 1.78e+04</td>\n",
       "</tr>\n",
       "<tr>\n",
       "  <th>toxic_rele</th>  <td>    1.0178</td> <td>    0.146</td> <td>    6.987</td> <td> 0.000</td> <td>    0.732</td> <td>    1.303</td>\n",
       "</tr>\n",
       "<tr>\n",
       "  <th>hazardou_2</th>  <td>-3.923e+04</td> <td> 1408.825</td> <td>  -27.845</td> <td> 0.000</td> <td> -4.2e+04</td> <td>-3.65e+04</td>\n",
       "</tr>\n",
       "<tr>\n",
       "  <th>SCHDST</th>      <td> -131.2416</td> <td>   24.734</td> <td>   -5.306</td> <td> 0.000</td> <td> -179.721</td> <td>  -82.763</td>\n",
       "</tr>\n",
       "</table>\n",
       "<table class=\"simpletable\">\n",
       "<tr>\n",
       "  <th>Omnibus:</th>       <td>45443.524</td> <th>  Durbin-Watson:     </th>   <td>   1.449</td>  \n",
       "</tr>\n",
       "<tr>\n",
       "  <th>Prob(Omnibus):</th>  <td> 0.000</td>   <th>  Jarque-Bera (JB):  </th> <td>85375286.704</td>\n",
       "</tr>\n",
       "<tr>\n",
       "  <th>Skew:</th>           <td> 9.442</td>   <th>  Prob(JB):          </th>   <td>    0.00</td>  \n",
       "</tr>\n",
       "<tr>\n",
       "  <th>Kurtosis:</th>       <td>267.361</td>  <th>  Cond. No.          </th>   <td>8.89e+06</td>  \n",
       "</tr>\n",
       "</table><br/><br/>Notes:<br/>[1] Standard Errors assume that the covariance matrix of the errors is correctly specified.<br/>[2] The condition number is large, 8.89e+06. This might indicate that there are<br/>strong multicollinearity or other numerical problems."
      ],
      "text/plain": [
       "<class 'statsmodels.iolib.summary.Summary'>\n",
       "\"\"\"\n",
       "                            OLS Regression Results                            \n",
       "==============================================================================\n",
       "Dep. Variable:                  price   R-squared:                       0.553\n",
       "Model:                            OLS   Adj. R-squared:                  0.553\n",
       "Method:                 Least Squares   F-statistic:                     2256.\n",
       "Date:                Wed, 29 Mar 2023   Prob (F-statistic):               0.00\n",
       "Time:                        08:25:20   Log-Likelihood:            -4.2942e+05\n",
       "No. Observations:               29170   AIC:                         8.589e+05\n",
       "Df Residuals:                   29153   BIC:                         8.590e+05\n",
       "Df Model:                          16                                         \n",
       "Covariance Type:            nonrobust                                         \n",
       "===============================================================================\n",
       "                  coef    std err          t      P>|t|      [0.025      0.975]\n",
       "-------------------------------------------------------------------------------\n",
       "const        5.653e+06   3.24e+05     17.444      0.000    5.02e+06    6.29e+06\n",
       "bedrooms    -7.724e+04   4915.968    -15.713      0.000   -8.69e+04   -6.76e+04\n",
       "bathrooms    8.412e+04   7010.999     11.998      0.000    7.04e+04    9.79e+04\n",
       "sqft_living   349.7299      7.557     46.281      0.000     334.919     364.541\n",
       "floors      -7.268e+04   8499.790     -8.551      0.000   -8.93e+04    -5.6e+04\n",
       "waterfront   1.016e+06   2.99e+04     33.966      0.000    9.57e+05    1.07e+06\n",
       "greenbelt   -4.825e+04   2.23e+04     -2.164      0.030    -9.2e+04   -4542.976\n",
       "view         7.819e+04   4766.789     16.404      0.000    6.89e+04    8.75e+04\n",
       "condition    1.672e+04   5332.728      3.135      0.002    6263.619    2.72e+04\n",
       "grade        1.938e+05   5400.664     35.888      0.000    1.83e+05    2.04e+05\n",
       "sqft_garage  -117.2233     16.960     -6.912      0.000    -150.465     -83.981\n",
       "yr_built    -3556.0766    169.215    -21.015      0.000   -3887.746   -3224.408\n",
       "MHHI1           6.0698      0.147     41.399      0.000       5.782       6.357\n",
       "traffic_de   1.507e+04   1412.803     10.664      0.000    1.23e+04    1.78e+04\n",
       "toxic_rele      1.0178      0.146      6.987      0.000       0.732       1.303\n",
       "hazardou_2  -3.923e+04   1408.825    -27.845      0.000    -4.2e+04   -3.65e+04\n",
       "SCHDST       -131.2416     24.734     -5.306      0.000    -179.721     -82.763\n",
       "==============================================================================\n",
       "Omnibus:                    45443.524   Durbin-Watson:                   1.449\n",
       "Prob(Omnibus):                  0.000   Jarque-Bera (JB):         85375286.704\n",
       "Skew:                           9.442   Prob(JB):                         0.00\n",
       "Kurtosis:                     267.361   Cond. No.                     8.89e+06\n",
       "==============================================================================\n",
       "\n",
       "Notes:\n",
       "[1] Standard Errors assume that the covariance matrix of the errors is correctly specified.\n",
       "[2] The condition number is large, 8.89e+06. This might indicate that there are\n",
       "strong multicollinearity or other numerical problems.\n",
       "\"\"\""
      ]
     },
     "execution_count": 54,
     "metadata": {},
     "output_type": "execute_result"
    }
   ],
   "source": [
    "mlr(df_clean,'price')"
   ]
  },
  {
   "cell_type": "markdown",
   "metadata": {},
   "source": [
    "There is a significantly high multicollinearity between variables"
   ]
  },
  {
   "cell_type": "markdown",
   "metadata": {},
   "source": [
    "# Checking Assumptions"
   ]
  },
  {
   "cell_type": "markdown",
   "metadata": {},
   "source": [
    "Defining x, y, and the model variables"
   ]
  },
  {
   "cell_type": "code",
   "execution_count": 75,
   "metadata": {},
   "outputs": [
    {
     "name": "stdout",
     "output_type": "stream",
     "text": [
      "The following columns were dropped due to being object types\n",
      "Index(['nuisance', 'heat_source', 'sewer_system'], dtype='object')\n",
      "The following columns were dropped due to being object types\n",
      "Index(['nuisance', 'heat_source', 'sewer_system'], dtype='object')\n"
     ]
    }
   ],
   "source": [
    "# model\n",
    "model_mlr = mlr(df_clean,'price',False, 'fit')\n",
    "# X constant\n",
    "X = mlr(df_clean,'price',False,'x')\n",
    "# y \n",
    "Y = df_clean['price']"
   ]
  },
  {
   "cell_type": "markdown",
   "metadata": {},
   "source": [
    "## 1. Linearity"
   ]
  },
  {
   "cell_type": "code",
   "execution_count": 95,
   "metadata": {},
   "outputs": [
    {
     "data": {
      "image/png": "[encoded data removed]",
      "text/plain": [
       "<Figure size 432x288 with 1 Axes>"
      ]
     },
     "metadata": {
      "needs_background": "light"
     },
     "output_type": "display_data"
    }
   ],
   "source": [
    "model_L = model_mlr.predict(X)\n",
    "resid = Y - model_L\n",
    "\n",
    "fig, ax = plt.subplots()\n",
    "\n",
    "ax.scatter(model_L, resid)\n",
    "\n",
    "ax.set_xlabel('predicted diamond prices')\n",
    "ax.set_ylabel('residual')\n",
    "plt.suptitle('Residuals Vs. Predictions');"
   ]
  },
  {
   "cell_type": "markdown",
   "metadata": {},
   "source": [
    "## 2. Durbin-Watson"
   ]
  },
  {
   "cell_type": "code",
   "execution_count": 78,
   "metadata": {},
   "outputs": [
    {
     "data": {
      "text/plain": [
       "1.4493312146363662"
      ]
     },
     "execution_count": 78,
     "metadata": {},
     "output_type": "execute_result"
    }
   ],
   "source": [
    "dw = sm.stats.stattools.durbin_watson\n",
    "dw(resid)"
   ]
  },
  {
   "cell_type": "code",
   "execution_count": 83,
   "metadata": {},
   "outputs": [
    {
     "data": {
      "text/html": [
       "<table class=\"simpletable\">\n",
       "<tr>\n",
       "  <th>Omnibus:</th>       <td>45443.524</td> <th>  Durbin-Watson:     </th>   <td>   1.449</td>  \n",
       "</tr>\n",
       "<tr>\n",
       "  <th>Prob(Omnibus):</th>  <td> 0.000</td>   <th>  Jarque-Bera (JB):  </th> <td>85375286.704</td>\n",
       "</tr>\n",
       "<tr>\n",
       "  <th>Skew:</th>           <td> 9.442</td>   <th>  Prob(JB):          </th>   <td>    0.00</td>  \n",
       "</tr>\n",
       "<tr>\n",
       "  <th>Kurtosis:</th>       <td>267.361</td>  <th>  Cond. No.          </th>   <td>8.89e+06</td>  \n",
       "</tr>\n",
       "</table>"
      ],
      "text/plain": [
       "<class 'statsmodels.iolib.table.SimpleTable'>"
      ]
     },
     "execution_count": 83,
     "metadata": {},
     "output_type": "execute_result"
    }
   ],
   "source": [
    "model_mlr.summary().tables[2]"
   ]
  },
  {
   "cell_type": "markdown",
   "metadata": {},
   "source": [
    "## 3. Normality"
   ]
  },
  {
   "cell_type": "code",
   "execution_count": null,
   "metadata": {},
   "outputs": [],
   "source": []
  },
  {
   "cell_type": "code",
   "execution_count": 25,
   "metadata": {},
   "outputs": [],
   "source": [
    "X = ['floors','MHHI1', 'traffic_de', 'toxic_rele', 'hazardou_2', 'SCHDST']\n",
    "y1 = df_clean['price']"
   ]
  },
  {
   "cell_type": "code",
   "execution_count": 26,
   "metadata": {},
   "outputs": [
    {
     "data": {
      "image/png": "[encoded data removed]",
      "text/plain": [
       "<Figure size 1440x576 with 3 Axes>"
      ]
     },
     "metadata": {
      "needs_background": "light"
     },
     "output_type": "display_data"
    }
   ],
   "source": [
    "fig, axs = plt.subplots(1, 3, figsize=(20, 8))\n",
    "\n",
    "axs[0].scatter(df_clean[X[0]], y1)\n",
    "axs[0].set_xlabel(f'{X[0]}')\n",
    "axs[0].set_ylabel('Price ($)')\n",
    "axs[0].set_title(f'{X[0]} vs. Price')\n",
    "\n",
    "axs[1].scatter(df_clean[X[1]], y1)\n",
    "axs[1].set_xlabel(f'{X[1]}')\n",
    "axs[1].set_ylabel('Price ($)')\n",
    "axs[1].set_title(f'{X[1]} vs. Price')\n",
    "\n",
    "axs[2].scatter(df_clean[X[2]], y1)\n",
    "axs[2].set_xlabel(f'{X[2]}')\n",
    "axs[2].set_ylabel('Price ($)')\n",
    "axs[2].set_title(f'{X[2]} vs. Price')\n",
    "\n",
    "plt.show()"
   ]
  },
  {
   "cell_type": "code",
   "execution_count": 31,
   "metadata": {},
   "outputs": [],
   "source": [
    "# fig, ax = plt.subplots()\n",
    "# ax.scatter(X,y); \n",
    "\n",
    "# ax.set_xlabel('Square Foot Living (ft)')\n",
    "# ax.set_ylabel('Price ($)')\n",
    "# ax.set_title('Price of Houses based on Square foot')\n",
    "\n",
    "# plt.show()"
   ]
  },
  {
   "cell_type": "code",
   "execution_count": null,
   "metadata": {},
   "outputs": [],
   "source": []
  },
  {
   "cell_type": "code",
   "execution_count": null,
   "metadata": {},
   "outputs": [],
   "source": [
    "# sns.lmplot(data=df_cleaned_2, x='sqft_living', y='price')\n",
    "# plt.xlabel('Sqft Living (sqft)')\n",
    "# plt.ylabel('Price ($)')\n",
    "# plt.title('Price against to Sqft Living');"
   ]
  }
 ],
 "metadata": {
  "kernelspec": {
   "display_name": "Python (learn-env)",
   "language": "python",
   "name": "learn-env"
  },
  "language_info": {
   "codemirror_mode": {
    "name": "ipython",
    "version": 3
   },
   "file_extension": ".py",
   "mimetype": "text/x-python",
   "name": "python",
   "nbconvert_exporter": "python",
   "pygments_lexer": "ipython3",
   "version": "3.8.5"
  }
 },
 "nbformat": 4,
 "nbformat_minor": 4
}
