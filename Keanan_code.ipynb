{
 "cells": [
  {
   "cell_type": "code",
   "execution_count": 24,
   "metadata": {},
   "outputs": [],
   "source": [
    "# import \n",
    "import pandas as pd\n",
    "import numpy as np\n",
    "import matplotlib.pyplot as plt\n",
    "from sklearn.linear_model import LinearRegression\n",
    "import seaborn as sns\n",
    "import folium\n",
    "from folium.plugins import MarkerCluster, FastMarkerCluster\n",
    "import statsmodels.api as sm\n",
    "from scipy import stats"
   ]
  },
  {
   "cell_type": "code",
   "execution_count": 25,
   "metadata": {},
   "outputs": [],
   "source": [
    "# Load the dataset into a DataFrame\n",
    "# df = pd.read_csv('data/kc_house_data.csv')\n",
    "df = pd.read_csv('data/updated_housing.csv')"
   ]
  },
  {
   "cell_type": "markdown",
   "metadata": {},
   "source": [
    "Checking info, nulls"
   ]
  },
  {
   "cell_type": "code",
   "execution_count": 26,
   "metadata": {
    "scrolled": true
   },
   "outputs": [
    {
     "name": "stdout",
     "output_type": "stream",
     "text": [
      "<class 'pandas.core.frame.DataFrame'>\n",
      "RangeIndex: 29211 entries, 0 to 29210\n",
      "Data columns (total 33 columns):\n",
      " #   Column         Non-Null Count  Dtype  \n",
      "---  ------         --------------  -----  \n",
      " 0   id             29211 non-null  int64  \n",
      " 1   date           29211 non-null  object \n",
      " 2   price          29211 non-null  float64\n",
      " 3   bedrooms       29211 non-null  int64  \n",
      " 4   bathrooms      29211 non-null  float64\n",
      " 5   sqft_living    29211 non-null  int64  \n",
      " 6   sqft_lot       29211 non-null  int64  \n",
      " 7   floors         29211 non-null  float64\n",
      " 8   waterfront     29211 non-null  object \n",
      " 9   greenbelt      29211 non-null  object \n",
      " 10  nuisance       29211 non-null  object \n",
      " 11  view           29211 non-null  object \n",
      " 12  condition      29211 non-null  object \n",
      " 13  grade          29211 non-null  object \n",
      " 14  heat_source    29182 non-null  object \n",
      " 15  sewer_system   29198 non-null  object \n",
      " 16  sqft_above     29211 non-null  int64  \n",
      " 17  sqft_basement  29211 non-null  int64  \n",
      " 18  sqft_garage    29211 non-null  int64  \n",
      " 19  sqft_patio     29211 non-null  int64  \n",
      " 20  yr_built       29211 non-null  int64  \n",
      " 21  yr_renovated   29211 non-null  int64  \n",
      " 22  address        29211 non-null  object \n",
      " 23  lat            29211 non-null  float64\n",
      " 24  long           29211 non-null  float64\n",
      " 25  geometry       29211 non-null  object \n",
      " 26  MHHI1          29211 non-null  float64\n",
      " 27  traffic_de     29211 non-null  float64\n",
      " 28  toxic_rele     29211 non-null  float64\n",
      " 29  hazardou_2     29211 non-null  float64\n",
      " 30  SCHDST         29211 non-null  int64  \n",
      " 31  NAME           29211 non-null  object \n",
      " 32  DSTNUM         29211 non-null  int64  \n",
      "dtypes: float64(9), int64(12), object(12)\n",
      "memory usage: 7.4+ MB\n"
     ]
    }
   ],
   "source": [
    "df.info()"
   ]
  },
  {
   "cell_type": "markdown",
   "metadata": {},
   "source": [
    "- 30155 long\n",
    "- lots of object types\n",
    "- heat_source and sewer_system have nulls"
   ]
  },
  {
   "cell_type": "markdown",
   "metadata": {},
   "source": [
    "Looking further into the null and duplicate values"
   ]
  },
  {
   "cell_type": "code",
   "execution_count": 27,
   "metadata": {
    "scrolled": true
   },
   "outputs": [
    {
     "data": {
      "text/plain": [
       "id                0\n",
       "date              0\n",
       "price             0\n",
       "bedrooms          0\n",
       "bathrooms         0\n",
       "sqft_living       0\n",
       "sqft_lot          0\n",
       "floors            0\n",
       "waterfront        0\n",
       "greenbelt         0\n",
       "nuisance          0\n",
       "view              0\n",
       "condition         0\n",
       "grade             0\n",
       "heat_source      29\n",
       "sewer_system     13\n",
       "sqft_above        0\n",
       "sqft_basement     0\n",
       "sqft_garage       0\n",
       "sqft_patio        0\n",
       "yr_built          0\n",
       "yr_renovated      0\n",
       "address           0\n",
       "lat               0\n",
       "long              0\n",
       "geometry          0\n",
       "MHHI1             0\n",
       "traffic_de        0\n",
       "toxic_rele        0\n",
       "hazardou_2        0\n",
       "SCHDST            0\n",
       "NAME              0\n",
       "DSTNUM            0\n",
       "dtype: int64"
      ]
     },
     "execution_count": 27,
     "metadata": {},
     "output_type": "execute_result"
    }
   ],
   "source": [
    "df.isna().sum()"
   ]
  },
  {
   "cell_type": "code",
   "execution_count": 28,
   "metadata": {},
   "outputs": [
    {
     "name": "stdout",
     "output_type": "stream",
     "text": [
      "Number of Duplicates: 1\n"
     ]
    },
    {
     "data": {
      "text/html": [
       "<div>\n",
       "<style scoped>\n",
       "    .dataframe tbody tr th:only-of-type {\n",
       "        vertical-align: middle;\n",
       "    }\n",
       "\n",
       "    .dataframe tbody tr th {\n",
       "        vertical-align: top;\n",
       "    }\n",
       "\n",
       "    .dataframe thead th {\n",
       "        text-align: right;\n",
       "    }\n",
       "</style>\n",
       "<table border=\"1\" class=\"dataframe\">\n",
       "  <thead>\n",
       "    <tr style=\"text-align: right;\">\n",
       "      <th></th>\n",
       "      <th>id</th>\n",
       "      <th>date</th>\n",
       "      <th>price</th>\n",
       "      <th>bedrooms</th>\n",
       "      <th>bathrooms</th>\n",
       "      <th>sqft_living</th>\n",
       "      <th>sqft_lot</th>\n",
       "      <th>floors</th>\n",
       "      <th>waterfront</th>\n",
       "      <th>greenbelt</th>\n",
       "      <th>...</th>\n",
       "      <th>lat</th>\n",
       "      <th>long</th>\n",
       "      <th>geometry</th>\n",
       "      <th>MHHI1</th>\n",
       "      <th>traffic_de</th>\n",
       "      <th>toxic_rele</th>\n",
       "      <th>hazardou_2</th>\n",
       "      <th>SCHDST</th>\n",
       "      <th>NAME</th>\n",
       "      <th>DSTNUM</th>\n",
       "    </tr>\n",
       "  </thead>\n",
       "  <tbody>\n",
       "    <tr>\n",
       "      <th>24338</th>\n",
       "      <td>1233100736</td>\n",
       "      <td>9/28/2021</td>\n",
       "      <td>2600000.0</td>\n",
       "      <td>3</td>\n",
       "      <td>4.0</td>\n",
       "      <td>3500</td>\n",
       "      <td>8455</td>\n",
       "      <td>2.0</td>\n",
       "      <td>NO</td>\n",
       "      <td>NO</td>\n",
       "      <td>...</td>\n",
       "      <td>47.68069</td>\n",
       "      <td>-122.172135</td>\n",
       "      <td>POINT (-122.172135 47.680690000000006)</td>\n",
       "      <td>95625.0</td>\n",
       "      <td>6.0</td>\n",
       "      <td>3786.715617</td>\n",
       "      <td>2.0</td>\n",
       "      <td>414</td>\n",
       "      <td>Lake Washington</td>\n",
       "      <td>17414</td>\n",
       "    </tr>\n",
       "  </tbody>\n",
       "</table>\n",
       "<p>1 rows × 33 columns</p>\n",
       "</div>"
      ],
      "text/plain": [
       "               id       date      price  bedrooms  bathrooms  sqft_living  \\\n",
       "24338  1233100736  9/28/2021  2600000.0         3        4.0         3500   \n",
       "\n",
       "       sqft_lot  floors waterfront greenbelt  ...       lat        long  \\\n",
       "24338      8455     2.0         NO        NO  ...  47.68069 -122.172135   \n",
       "\n",
       "                                     geometry    MHHI1 traffic_de  \\\n",
       "24338  POINT (-122.172135 47.680690000000006)  95625.0        6.0   \n",
       "\n",
       "        toxic_rele  hazardou_2  SCHDST             NAME  DSTNUM  \n",
       "24338  3786.715617         2.0     414  Lake Washington   17414  \n",
       "\n",
       "[1 rows x 33 columns]"
      ]
     },
     "execution_count": 28,
     "metadata": {},
     "output_type": "execute_result"
    }
   ],
   "source": [
    "# locating duplicates\n",
    "print(f'Number of Duplicates: {df.duplicated().sum()}')\n",
    "df.loc[df.duplicated() == True]"
   ]
  },
  {
   "cell_type": "markdown",
   "metadata": {},
   "source": [
    "Function for droping duplicates, nulls, and other specified columns"
   ]
  },
  {
   "cell_type": "code",
   "execution_count": 29,
   "metadata": {},
   "outputs": [],
   "source": [
    "def dropper(df, one=None, two=None, three=None):\n",
    "    '''\n",
    "    Input: DataFrame, request 1,request 2, request 3\n",
    "    requests:\n",
    "    'duplicates' to drop duplicates\n",
    "    'nulls' to drop null values\n",
    "    list containing df column names l = ['','','']\n",
    "    '''\n",
    "    request = [one,two,three]\n",
    "    if 'duplicates' in request:\n",
    "        df = df.drop_duplicates()\n",
    "    if 'nulls' in request:\n",
    "        df = df.dropna()\n",
    "    for req in request:\n",
    "        if isinstance(req, list):\n",
    "            df = df.drop(columns=req, axis=1)\n",
    "    return(df)"
   ]
  },
  {
   "cell_type": "markdown",
   "metadata": {},
   "source": [
    "- below we drop duplicates and null values, in total there is only 1 duplicated row and 42 null values"
   ]
  },
  {
   "cell_type": "code",
   "execution_count": 30,
   "metadata": {
    "scrolled": true
   },
   "outputs": [],
   "source": [
    "\n",
    "droping =['id','geometry','address','NAME','DSTNUM']\n",
    "df_clean = dropper(df, 'duplicates', 'nulls', droping)"
   ]
  },
  {
   "cell_type": "code",
   "execution_count": 31,
   "metadata": {
    "scrolled": true
   },
   "outputs": [
    {
     "name": "stdout",
     "output_type": "stream",
     "text": [
      "<class 'pandas.core.frame.DataFrame'>\n",
      "Int64Index: 29170 entries, 0 to 29210\n",
      "Data columns (total 28 columns):\n",
      " #   Column         Non-Null Count  Dtype  \n",
      "---  ------         --------------  -----  \n",
      " 0   date           29170 non-null  object \n",
      " 1   price          29170 non-null  float64\n",
      " 2   bedrooms       29170 non-null  int64  \n",
      " 3   bathrooms      29170 non-null  float64\n",
      " 4   sqft_living    29170 non-null  int64  \n",
      " 5   sqft_lot       29170 non-null  int64  \n",
      " 6   floors         29170 non-null  float64\n",
      " 7   waterfront     29170 non-null  object \n",
      " 8   greenbelt      29170 non-null  object \n",
      " 9   nuisance       29170 non-null  object \n",
      " 10  view           29170 non-null  object \n",
      " 11  condition      29170 non-null  object \n",
      " 12  grade          29170 non-null  object \n",
      " 13  heat_source    29170 non-null  object \n",
      " 14  sewer_system   29170 non-null  object \n",
      " 15  sqft_above     29170 non-null  int64  \n",
      " 16  sqft_basement  29170 non-null  int64  \n",
      " 17  sqft_garage    29170 non-null  int64  \n",
      " 18  sqft_patio     29170 non-null  int64  \n",
      " 19  yr_built       29170 non-null  int64  \n",
      " 20  yr_renovated   29170 non-null  int64  \n",
      " 21  lat            29170 non-null  float64\n",
      " 22  long           29170 non-null  float64\n",
      " 23  MHHI1          29170 non-null  float64\n",
      " 24  traffic_de     29170 non-null  float64\n",
      " 25  toxic_rele     29170 non-null  float64\n",
      " 26  hazardou_2     29170 non-null  float64\n",
      " 27  SCHDST         29170 non-null  int64  \n",
      "dtypes: float64(9), int64(10), object(9)\n",
      "memory usage: 6.5+ MB\n"
     ]
    }
   ],
   "source": [
    "df_clean.info()"
   ]
  },
  {
   "cell_type": "markdown",
   "metadata": {},
   "source": [
    "Converting time column to datetime format"
   ]
  },
  {
   "cell_type": "code",
   "execution_count": 32,
   "metadata": {},
   "outputs": [],
   "source": [
    "df_clean['date'] = pd.to_datetime(df_clean['date'], format='%m/%d/%Y')"
   ]
  },
  {
   "cell_type": "markdown",
   "metadata": {},
   "source": [
    "Function for converting boolean catagoricals into numeric booleans "
   ]
  },
  {
   "cell_type": "code",
   "execution_count": 33,
   "metadata": {},
   "outputs": [],
   "source": [
    "def convert_boolean(df,x=None):\n",
    "    '''\n",
    "    This function converts all boolean data into numeric types\n",
    "    Used in numeric_df\n",
    "    input dataframe\n",
    "    '''\n",
    "    boolean_cols = df.select_dtypes(include='object').columns\n",
    "    column_name = []\n",
    "    for col in boolean_cols:\n",
    "        if set(df[col].unique()) == {'YES', 'NO'}:\n",
    "            df[col] = df[col].replace({\"NO\": 0, \"YES\": 1})\n",
    "            column_name.append(col)\n",
    "            \n",
    "    print(f'Boolean Conversions:{column_name}')\n",
    "#     return(df)\n",
    "#     if x != None:\n",
    "#         print(f'Boolean Conversions:{column_name}')\n",
    "#     else:\n",
    "#         print(display(df.head()),column_name)\n",
    "    return(df)"
   ]
  },
  {
   "cell_type": "code",
   "execution_count": 34,
   "metadata": {
    "scrolled": true
   },
   "outputs": [
    {
     "name": "stdout",
     "output_type": "stream",
     "text": [
      "Boolean Conversions:['waterfront', 'greenbelt', 'nuisance']\n"
     ]
    }
   ],
   "source": [
    "df_clean = convert_boolean(df_clean)"
   ]
  },
  {
   "cell_type": "code",
   "execution_count": 35,
   "metadata": {
    "scrolled": true
   },
   "outputs": [
    {
     "data": {
      "text/html": [
       "<div>\n",
       "<style scoped>\n",
       "    .dataframe tbody tr th:only-of-type {\n",
       "        vertical-align: middle;\n",
       "    }\n",
       "\n",
       "    .dataframe tbody tr th {\n",
       "        vertical-align: top;\n",
       "    }\n",
       "\n",
       "    .dataframe thead th {\n",
       "        text-align: right;\n",
       "    }\n",
       "</style>\n",
       "<table border=\"1\" class=\"dataframe\">\n",
       "  <thead>\n",
       "    <tr style=\"text-align: right;\">\n",
       "      <th></th>\n",
       "      <th>index</th>\n",
       "      <th>date</th>\n",
       "      <th>price</th>\n",
       "      <th>bedrooms</th>\n",
       "      <th>bathrooms</th>\n",
       "      <th>sqft_living</th>\n",
       "      <th>sqft_lot</th>\n",
       "      <th>floors</th>\n",
       "      <th>waterfront</th>\n",
       "      <th>greenbelt</th>\n",
       "      <th>...</th>\n",
       "      <th>sqft_patio</th>\n",
       "      <th>yr_built</th>\n",
       "      <th>yr_renovated</th>\n",
       "      <th>lat</th>\n",
       "      <th>long</th>\n",
       "      <th>MHHI1</th>\n",
       "      <th>traffic_de</th>\n",
       "      <th>toxic_rele</th>\n",
       "      <th>hazardou_2</th>\n",
       "      <th>SCHDST</th>\n",
       "    </tr>\n",
       "  </thead>\n",
       "  <tbody>\n",
       "    <tr>\n",
       "      <th>0</th>\n",
       "      <td>0</td>\n",
       "      <td>2022-05-24</td>\n",
       "      <td>675000.0</td>\n",
       "      <td>4</td>\n",
       "      <td>1.0</td>\n",
       "      <td>1180</td>\n",
       "      <td>7140</td>\n",
       "      <td>1.0</td>\n",
       "      <td>0</td>\n",
       "      <td>0</td>\n",
       "      <td>...</td>\n",
       "      <td>40</td>\n",
       "      <td>1969</td>\n",
       "      <td>0</td>\n",
       "      <td>47.461975</td>\n",
       "      <td>-122.190520</td>\n",
       "      <td>58901.0</td>\n",
       "      <td>6.0</td>\n",
       "      <td>18700.612670</td>\n",
       "      <td>10.0</td>\n",
       "      <td>403</td>\n",
       "    </tr>\n",
       "    <tr>\n",
       "      <th>1</th>\n",
       "      <td>1</td>\n",
       "      <td>2022-03-29</td>\n",
       "      <td>728000.0</td>\n",
       "      <td>4</td>\n",
       "      <td>2.0</td>\n",
       "      <td>2170</td>\n",
       "      <td>7520</td>\n",
       "      <td>1.0</td>\n",
       "      <td>0</td>\n",
       "      <td>0</td>\n",
       "      <td>...</td>\n",
       "      <td>60</td>\n",
       "      <td>1973</td>\n",
       "      <td>0</td>\n",
       "      <td>47.463930</td>\n",
       "      <td>-122.189740</td>\n",
       "      <td>58901.0</td>\n",
       "      <td>6.0</td>\n",
       "      <td>18700.612670</td>\n",
       "      <td>10.0</td>\n",
       "      <td>403</td>\n",
       "    </tr>\n",
       "    <tr>\n",
       "      <th>2</th>\n",
       "      <td>2</td>\n",
       "      <td>2021-12-28</td>\n",
       "      <td>645000.0</td>\n",
       "      <td>3</td>\n",
       "      <td>2.0</td>\n",
       "      <td>1520</td>\n",
       "      <td>8250</td>\n",
       "      <td>1.0</td>\n",
       "      <td>0</td>\n",
       "      <td>0</td>\n",
       "      <td>...</td>\n",
       "      <td>200</td>\n",
       "      <td>1981</td>\n",
       "      <td>0</td>\n",
       "      <td>47.460870</td>\n",
       "      <td>-122.188690</td>\n",
       "      <td>58901.0</td>\n",
       "      <td>6.0</td>\n",
       "      <td>18700.612670</td>\n",
       "      <td>10.0</td>\n",
       "      <td>403</td>\n",
       "    </tr>\n",
       "    <tr>\n",
       "      <th>3</th>\n",
       "      <td>3</td>\n",
       "      <td>2022-05-10</td>\n",
       "      <td>760600.0</td>\n",
       "      <td>3</td>\n",
       "      <td>2.5</td>\n",
       "      <td>2570</td>\n",
       "      <td>2889</td>\n",
       "      <td>2.0</td>\n",
       "      <td>0</td>\n",
       "      <td>0</td>\n",
       "      <td>...</td>\n",
       "      <td>100</td>\n",
       "      <td>2006</td>\n",
       "      <td>0</td>\n",
       "      <td>47.450005</td>\n",
       "      <td>-122.189080</td>\n",
       "      <td>58901.0</td>\n",
       "      <td>6.0</td>\n",
       "      <td>18700.612670</td>\n",
       "      <td>10.0</td>\n",
       "      <td>403</td>\n",
       "    </tr>\n",
       "    <tr>\n",
       "      <th>4</th>\n",
       "      <td>4</td>\n",
       "      <td>2021-09-12</td>\n",
       "      <td>624950.0</td>\n",
       "      <td>3</td>\n",
       "      <td>2.5</td>\n",
       "      <td>1610</td>\n",
       "      <td>8625</td>\n",
       "      <td>1.0</td>\n",
       "      <td>0</td>\n",
       "      <td>0</td>\n",
       "      <td>...</td>\n",
       "      <td>80</td>\n",
       "      <td>1979</td>\n",
       "      <td>0</td>\n",
       "      <td>47.460500</td>\n",
       "      <td>-122.191035</td>\n",
       "      <td>58901.0</td>\n",
       "      <td>6.0</td>\n",
       "      <td>18700.612670</td>\n",
       "      <td>10.0</td>\n",
       "      <td>403</td>\n",
       "    </tr>\n",
       "    <tr>\n",
       "      <th>...</th>\n",
       "      <td>...</td>\n",
       "      <td>...</td>\n",
       "      <td>...</td>\n",
       "      <td>...</td>\n",
       "      <td>...</td>\n",
       "      <td>...</td>\n",
       "      <td>...</td>\n",
       "      <td>...</td>\n",
       "      <td>...</td>\n",
       "      <td>...</td>\n",
       "      <td>...</td>\n",
       "      <td>...</td>\n",
       "      <td>...</td>\n",
       "      <td>...</td>\n",
       "      <td>...</td>\n",
       "      <td>...</td>\n",
       "      <td>...</td>\n",
       "      <td>...</td>\n",
       "      <td>...</td>\n",
       "      <td>...</td>\n",
       "      <td>...</td>\n",
       "    </tr>\n",
       "    <tr>\n",
       "      <th>29165</th>\n",
       "      <td>29206</td>\n",
       "      <td>2021-12-28</td>\n",
       "      <td>380000.0</td>\n",
       "      <td>2</td>\n",
       "      <td>1.0</td>\n",
       "      <td>800</td>\n",
       "      <td>9927</td>\n",
       "      <td>1.5</td>\n",
       "      <td>0</td>\n",
       "      <td>0</td>\n",
       "      <td>...</td>\n",
       "      <td>0</td>\n",
       "      <td>1981</td>\n",
       "      <td>0</td>\n",
       "      <td>47.712520</td>\n",
       "      <td>-121.315030</td>\n",
       "      <td>88409.0</td>\n",
       "      <td>5.0</td>\n",
       "      <td>823.898408</td>\n",
       "      <td>1.0</td>\n",
       "      <td>404</td>\n",
       "    </tr>\n",
       "    <tr>\n",
       "      <th>29166</th>\n",
       "      <td>29207</td>\n",
       "      <td>2021-08-05</td>\n",
       "      <td>199000.0</td>\n",
       "      <td>2</td>\n",
       "      <td>1.0</td>\n",
       "      <td>1150</td>\n",
       "      <td>10098</td>\n",
       "      <td>1.5</td>\n",
       "      <td>0</td>\n",
       "      <td>0</td>\n",
       "      <td>...</td>\n",
       "      <td>220</td>\n",
       "      <td>1972</td>\n",
       "      <td>0</td>\n",
       "      <td>47.766720</td>\n",
       "      <td>-121.482380</td>\n",
       "      <td>88409.0</td>\n",
       "      <td>5.0</td>\n",
       "      <td>823.898408</td>\n",
       "      <td>1.0</td>\n",
       "      <td>404</td>\n",
       "    </tr>\n",
       "    <tr>\n",
       "      <th>29167</th>\n",
       "      <td>29208</td>\n",
       "      <td>2022-05-17</td>\n",
       "      <td>395000.0</td>\n",
       "      <td>1</td>\n",
       "      <td>1.0</td>\n",
       "      <td>620</td>\n",
       "      <td>10400</td>\n",
       "      <td>1.5</td>\n",
       "      <td>0</td>\n",
       "      <td>0</td>\n",
       "      <td>...</td>\n",
       "      <td>100</td>\n",
       "      <td>1981</td>\n",
       "      <td>0</td>\n",
       "      <td>47.712560</td>\n",
       "      <td>-121.319590</td>\n",
       "      <td>88409.0</td>\n",
       "      <td>5.0</td>\n",
       "      <td>823.898408</td>\n",
       "      <td>1.0</td>\n",
       "      <td>404</td>\n",
       "    </tr>\n",
       "    <tr>\n",
       "      <th>29168</th>\n",
       "      <td>29209</td>\n",
       "      <td>2021-07-09</td>\n",
       "      <td>328000.0</td>\n",
       "      <td>2</td>\n",
       "      <td>1.5</td>\n",
       "      <td>980</td>\n",
       "      <td>5000</td>\n",
       "      <td>2.0</td>\n",
       "      <td>0</td>\n",
       "      <td>0</td>\n",
       "      <td>...</td>\n",
       "      <td>260</td>\n",
       "      <td>1922</td>\n",
       "      <td>2003</td>\n",
       "      <td>47.707580</td>\n",
       "      <td>-121.359050</td>\n",
       "      <td>88409.0</td>\n",
       "      <td>5.0</td>\n",
       "      <td>823.898408</td>\n",
       "      <td>1.0</td>\n",
       "      <td>404</td>\n",
       "    </tr>\n",
       "    <tr>\n",
       "      <th>29169</th>\n",
       "      <td>29210</td>\n",
       "      <td>2022-01-26</td>\n",
       "      <td>600000.0</td>\n",
       "      <td>3</td>\n",
       "      <td>2.5</td>\n",
       "      <td>3150</td>\n",
       "      <td>989234</td>\n",
       "      <td>1.5</td>\n",
       "      <td>1</td>\n",
       "      <td>0</td>\n",
       "      <td>...</td>\n",
       "      <td>2360</td>\n",
       "      <td>1983</td>\n",
       "      <td>0</td>\n",
       "      <td>47.714420</td>\n",
       "      <td>-121.276390</td>\n",
       "      <td>88409.0</td>\n",
       "      <td>5.0</td>\n",
       "      <td>823.898408</td>\n",
       "      <td>1.0</td>\n",
       "      <td>404</td>\n",
       "    </tr>\n",
       "  </tbody>\n",
       "</table>\n",
       "<p>29170 rows × 29 columns</p>\n",
       "</div>"
      ],
      "text/plain": [
       "       index       date     price  bedrooms  bathrooms  sqft_living  sqft_lot  \\\n",
       "0          0 2022-05-24  675000.0         4        1.0         1180      7140   \n",
       "1          1 2022-03-29  728000.0         4        2.0         2170      7520   \n",
       "2          2 2021-12-28  645000.0         3        2.0         1520      8250   \n",
       "3          3 2022-05-10  760600.0         3        2.5         2570      2889   \n",
       "4          4 2021-09-12  624950.0         3        2.5         1610      8625   \n",
       "...      ...        ...       ...       ...        ...          ...       ...   \n",
       "29165  29206 2021-12-28  380000.0         2        1.0          800      9927   \n",
       "29166  29207 2021-08-05  199000.0         2        1.0         1150     10098   \n",
       "29167  29208 2022-05-17  395000.0         1        1.0          620     10400   \n",
       "29168  29209 2021-07-09  328000.0         2        1.5          980      5000   \n",
       "29169  29210 2022-01-26  600000.0         3        2.5         3150    989234   \n",
       "\n",
       "       floors  waterfront  greenbelt  ...  sqft_patio yr_built yr_renovated  \\\n",
       "0         1.0           0          0  ...          40     1969            0   \n",
       "1         1.0           0          0  ...          60     1973            0   \n",
       "2         1.0           0          0  ...         200     1981            0   \n",
       "3         2.0           0          0  ...         100     2006            0   \n",
       "4         1.0           0          0  ...          80     1979            0   \n",
       "...       ...         ...        ...  ...         ...      ...          ...   \n",
       "29165     1.5           0          0  ...           0     1981            0   \n",
       "29166     1.5           0          0  ...         220     1972            0   \n",
       "29167     1.5           0          0  ...         100     1981            0   \n",
       "29168     2.0           0          0  ...         260     1922         2003   \n",
       "29169     1.5           1          0  ...        2360     1983            0   \n",
       "\n",
       "             lat        long    MHHI1  traffic_de    toxic_rele  hazardou_2  \\\n",
       "0      47.461975 -122.190520  58901.0         6.0  18700.612670        10.0   \n",
       "1      47.463930 -122.189740  58901.0         6.0  18700.612670        10.0   \n",
       "2      47.460870 -122.188690  58901.0         6.0  18700.612670        10.0   \n",
       "3      47.450005 -122.189080  58901.0         6.0  18700.612670        10.0   \n",
       "4      47.460500 -122.191035  58901.0         6.0  18700.612670        10.0   \n",
       "...          ...         ...      ...         ...           ...         ...   \n",
       "29165  47.712520 -121.315030  88409.0         5.0    823.898408         1.0   \n",
       "29166  47.766720 -121.482380  88409.0         5.0    823.898408         1.0   \n",
       "29167  47.712560 -121.319590  88409.0         5.0    823.898408         1.0   \n",
       "29168  47.707580 -121.359050  88409.0         5.0    823.898408         1.0   \n",
       "29169  47.714420 -121.276390  88409.0         5.0    823.898408         1.0   \n",
       "\n",
       "       SCHDST  \n",
       "0         403  \n",
       "1         403  \n",
       "2         403  \n",
       "3         403  \n",
       "4         403  \n",
       "...       ...  \n",
       "29165     404  \n",
       "29166     404  \n",
       "29167     404  \n",
       "29168     404  \n",
       "29169     404  \n",
       "\n",
       "[29170 rows x 29 columns]"
      ]
     },
     "execution_count": 35,
     "metadata": {},
     "output_type": "execute_result"
    }
   ],
   "source": [
    "df_clean.reset_index()"
   ]
  },
  {
   "cell_type": "code",
   "execution_count": 36,
   "metadata": {
    "scrolled": true
   },
   "outputs": [
    {
     "data": {
      "text/html": [
       "<div>\n",
       "<style scoped>\n",
       "    .dataframe tbody tr th:only-of-type {\n",
       "        vertical-align: middle;\n",
       "    }\n",
       "\n",
       "    .dataframe tbody tr th {\n",
       "        vertical-align: top;\n",
       "    }\n",
       "\n",
       "    .dataframe thead th {\n",
       "        text-align: right;\n",
       "    }\n",
       "</style>\n",
       "<table border=\"1\" class=\"dataframe\">\n",
       "  <thead>\n",
       "    <tr style=\"text-align: right;\">\n",
       "      <th></th>\n",
       "      <th>date</th>\n",
       "      <th>price</th>\n",
       "      <th>bedrooms</th>\n",
       "      <th>bathrooms</th>\n",
       "      <th>sqft_living</th>\n",
       "      <th>sqft_lot</th>\n",
       "      <th>floors</th>\n",
       "      <th>waterfront</th>\n",
       "      <th>greenbelt</th>\n",
       "      <th>nuisance</th>\n",
       "      <th>...</th>\n",
       "      <th>sqft_patio</th>\n",
       "      <th>yr_built</th>\n",
       "      <th>yr_renovated</th>\n",
       "      <th>lat</th>\n",
       "      <th>long</th>\n",
       "      <th>MHHI1</th>\n",
       "      <th>traffic_de</th>\n",
       "      <th>toxic_rele</th>\n",
       "      <th>hazardou_2</th>\n",
       "      <th>SCHDST</th>\n",
       "    </tr>\n",
       "  </thead>\n",
       "  <tbody>\n",
       "    <tr>\n",
       "      <th>0</th>\n",
       "      <td>2022-05-24</td>\n",
       "      <td>675000.0</td>\n",
       "      <td>4</td>\n",
       "      <td>1.0</td>\n",
       "      <td>1180</td>\n",
       "      <td>7140</td>\n",
       "      <td>1.0</td>\n",
       "      <td>0</td>\n",
       "      <td>0</td>\n",
       "      <td>0</td>\n",
       "      <td>...</td>\n",
       "      <td>40</td>\n",
       "      <td>1969</td>\n",
       "      <td>0</td>\n",
       "      <td>47.461975</td>\n",
       "      <td>-122.190520</td>\n",
       "      <td>58901.0</td>\n",
       "      <td>6.0</td>\n",
       "      <td>18700.612670</td>\n",
       "      <td>10.0</td>\n",
       "      <td>403</td>\n",
       "    </tr>\n",
       "    <tr>\n",
       "      <th>1</th>\n",
       "      <td>2022-03-29</td>\n",
       "      <td>728000.0</td>\n",
       "      <td>4</td>\n",
       "      <td>2.0</td>\n",
       "      <td>2170</td>\n",
       "      <td>7520</td>\n",
       "      <td>1.0</td>\n",
       "      <td>0</td>\n",
       "      <td>0</td>\n",
       "      <td>0</td>\n",
       "      <td>...</td>\n",
       "      <td>60</td>\n",
       "      <td>1973</td>\n",
       "      <td>0</td>\n",
       "      <td>47.463930</td>\n",
       "      <td>-122.189740</td>\n",
       "      <td>58901.0</td>\n",
       "      <td>6.0</td>\n",
       "      <td>18700.612670</td>\n",
       "      <td>10.0</td>\n",
       "      <td>403</td>\n",
       "    </tr>\n",
       "    <tr>\n",
       "      <th>2</th>\n",
       "      <td>2021-12-28</td>\n",
       "      <td>645000.0</td>\n",
       "      <td>3</td>\n",
       "      <td>2.0</td>\n",
       "      <td>1520</td>\n",
       "      <td>8250</td>\n",
       "      <td>1.0</td>\n",
       "      <td>0</td>\n",
       "      <td>0</td>\n",
       "      <td>0</td>\n",
       "      <td>...</td>\n",
       "      <td>200</td>\n",
       "      <td>1981</td>\n",
       "      <td>0</td>\n",
       "      <td>47.460870</td>\n",
       "      <td>-122.188690</td>\n",
       "      <td>58901.0</td>\n",
       "      <td>6.0</td>\n",
       "      <td>18700.612670</td>\n",
       "      <td>10.0</td>\n",
       "      <td>403</td>\n",
       "    </tr>\n",
       "    <tr>\n",
       "      <th>3</th>\n",
       "      <td>2022-05-10</td>\n",
       "      <td>760600.0</td>\n",
       "      <td>3</td>\n",
       "      <td>2.5</td>\n",
       "      <td>2570</td>\n",
       "      <td>2889</td>\n",
       "      <td>2.0</td>\n",
       "      <td>0</td>\n",
       "      <td>0</td>\n",
       "      <td>0</td>\n",
       "      <td>...</td>\n",
       "      <td>100</td>\n",
       "      <td>2006</td>\n",
       "      <td>0</td>\n",
       "      <td>47.450005</td>\n",
       "      <td>-122.189080</td>\n",
       "      <td>58901.0</td>\n",
       "      <td>6.0</td>\n",
       "      <td>18700.612670</td>\n",
       "      <td>10.0</td>\n",
       "      <td>403</td>\n",
       "    </tr>\n",
       "    <tr>\n",
       "      <th>4</th>\n",
       "      <td>2021-09-12</td>\n",
       "      <td>624950.0</td>\n",
       "      <td>3</td>\n",
       "      <td>2.5</td>\n",
       "      <td>1610</td>\n",
       "      <td>8625</td>\n",
       "      <td>1.0</td>\n",
       "      <td>0</td>\n",
       "      <td>0</td>\n",
       "      <td>0</td>\n",
       "      <td>...</td>\n",
       "      <td>80</td>\n",
       "      <td>1979</td>\n",
       "      <td>0</td>\n",
       "      <td>47.460500</td>\n",
       "      <td>-122.191035</td>\n",
       "      <td>58901.0</td>\n",
       "      <td>6.0</td>\n",
       "      <td>18700.612670</td>\n",
       "      <td>10.0</td>\n",
       "      <td>403</td>\n",
       "    </tr>\n",
       "    <tr>\n",
       "      <th>...</th>\n",
       "      <td>...</td>\n",
       "      <td>...</td>\n",
       "      <td>...</td>\n",
       "      <td>...</td>\n",
       "      <td>...</td>\n",
       "      <td>...</td>\n",
       "      <td>...</td>\n",
       "      <td>...</td>\n",
       "      <td>...</td>\n",
       "      <td>...</td>\n",
       "      <td>...</td>\n",
       "      <td>...</td>\n",
       "      <td>...</td>\n",
       "      <td>...</td>\n",
       "      <td>...</td>\n",
       "      <td>...</td>\n",
       "      <td>...</td>\n",
       "      <td>...</td>\n",
       "      <td>...</td>\n",
       "      <td>...</td>\n",
       "      <td>...</td>\n",
       "    </tr>\n",
       "    <tr>\n",
       "      <th>29206</th>\n",
       "      <td>2021-12-28</td>\n",
       "      <td>380000.0</td>\n",
       "      <td>2</td>\n",
       "      <td>1.0</td>\n",
       "      <td>800</td>\n",
       "      <td>9927</td>\n",
       "      <td>1.5</td>\n",
       "      <td>0</td>\n",
       "      <td>0</td>\n",
       "      <td>1</td>\n",
       "      <td>...</td>\n",
       "      <td>0</td>\n",
       "      <td>1981</td>\n",
       "      <td>0</td>\n",
       "      <td>47.712520</td>\n",
       "      <td>-121.315030</td>\n",
       "      <td>88409.0</td>\n",
       "      <td>5.0</td>\n",
       "      <td>823.898408</td>\n",
       "      <td>1.0</td>\n",
       "      <td>404</td>\n",
       "    </tr>\n",
       "    <tr>\n",
       "      <th>29207</th>\n",
       "      <td>2021-08-05</td>\n",
       "      <td>199000.0</td>\n",
       "      <td>2</td>\n",
       "      <td>1.0</td>\n",
       "      <td>1150</td>\n",
       "      <td>10098</td>\n",
       "      <td>1.5</td>\n",
       "      <td>0</td>\n",
       "      <td>0</td>\n",
       "      <td>1</td>\n",
       "      <td>...</td>\n",
       "      <td>220</td>\n",
       "      <td>1972</td>\n",
       "      <td>0</td>\n",
       "      <td>47.766720</td>\n",
       "      <td>-121.482380</td>\n",
       "      <td>88409.0</td>\n",
       "      <td>5.0</td>\n",
       "      <td>823.898408</td>\n",
       "      <td>1.0</td>\n",
       "      <td>404</td>\n",
       "    </tr>\n",
       "    <tr>\n",
       "      <th>29208</th>\n",
       "      <td>2022-05-17</td>\n",
       "      <td>395000.0</td>\n",
       "      <td>1</td>\n",
       "      <td>1.0</td>\n",
       "      <td>620</td>\n",
       "      <td>10400</td>\n",
       "      <td>1.5</td>\n",
       "      <td>0</td>\n",
       "      <td>0</td>\n",
       "      <td>1</td>\n",
       "      <td>...</td>\n",
       "      <td>100</td>\n",
       "      <td>1981</td>\n",
       "      <td>0</td>\n",
       "      <td>47.712560</td>\n",
       "      <td>-121.319590</td>\n",
       "      <td>88409.0</td>\n",
       "      <td>5.0</td>\n",
       "      <td>823.898408</td>\n",
       "      <td>1.0</td>\n",
       "      <td>404</td>\n",
       "    </tr>\n",
       "    <tr>\n",
       "      <th>29209</th>\n",
       "      <td>2021-07-09</td>\n",
       "      <td>328000.0</td>\n",
       "      <td>2</td>\n",
       "      <td>1.5</td>\n",
       "      <td>980</td>\n",
       "      <td>5000</td>\n",
       "      <td>2.0</td>\n",
       "      <td>0</td>\n",
       "      <td>0</td>\n",
       "      <td>0</td>\n",
       "      <td>...</td>\n",
       "      <td>260</td>\n",
       "      <td>1922</td>\n",
       "      <td>2003</td>\n",
       "      <td>47.707580</td>\n",
       "      <td>-121.359050</td>\n",
       "      <td>88409.0</td>\n",
       "      <td>5.0</td>\n",
       "      <td>823.898408</td>\n",
       "      <td>1.0</td>\n",
       "      <td>404</td>\n",
       "    </tr>\n",
       "    <tr>\n",
       "      <th>29210</th>\n",
       "      <td>2022-01-26</td>\n",
       "      <td>600000.0</td>\n",
       "      <td>3</td>\n",
       "      <td>2.5</td>\n",
       "      <td>3150</td>\n",
       "      <td>989234</td>\n",
       "      <td>1.5</td>\n",
       "      <td>1</td>\n",
       "      <td>0</td>\n",
       "      <td>1</td>\n",
       "      <td>...</td>\n",
       "      <td>2360</td>\n",
       "      <td>1983</td>\n",
       "      <td>0</td>\n",
       "      <td>47.714420</td>\n",
       "      <td>-121.276390</td>\n",
       "      <td>88409.0</td>\n",
       "      <td>5.0</td>\n",
       "      <td>823.898408</td>\n",
       "      <td>1.0</td>\n",
       "      <td>404</td>\n",
       "    </tr>\n",
       "  </tbody>\n",
       "</table>\n",
       "<p>29170 rows × 28 columns</p>\n",
       "</div>"
      ],
      "text/plain": [
       "            date     price  bedrooms  bathrooms  sqft_living  sqft_lot  \\\n",
       "0     2022-05-24  675000.0         4        1.0         1180      7140   \n",
       "1     2022-03-29  728000.0         4        2.0         2170      7520   \n",
       "2     2021-12-28  645000.0         3        2.0         1520      8250   \n",
       "3     2022-05-10  760600.0         3        2.5         2570      2889   \n",
       "4     2021-09-12  624950.0         3        2.5         1610      8625   \n",
       "...          ...       ...       ...        ...          ...       ...   \n",
       "29206 2021-12-28  380000.0         2        1.0          800      9927   \n",
       "29207 2021-08-05  199000.0         2        1.0         1150     10098   \n",
       "29208 2022-05-17  395000.0         1        1.0          620     10400   \n",
       "29209 2021-07-09  328000.0         2        1.5          980      5000   \n",
       "29210 2022-01-26  600000.0         3        2.5         3150    989234   \n",
       "\n",
       "       floors  waterfront  greenbelt  nuisance  ... sqft_patio yr_built  \\\n",
       "0         1.0           0          0         0  ...         40     1969   \n",
       "1         1.0           0          0         0  ...         60     1973   \n",
       "2         1.0           0          0         0  ...        200     1981   \n",
       "3         2.0           0          0         0  ...        100     2006   \n",
       "4         1.0           0          0         0  ...         80     1979   \n",
       "...       ...         ...        ...       ...  ...        ...      ...   \n",
       "29206     1.5           0          0         1  ...          0     1981   \n",
       "29207     1.5           0          0         1  ...        220     1972   \n",
       "29208     1.5           0          0         1  ...        100     1981   \n",
       "29209     2.0           0          0         0  ...        260     1922   \n",
       "29210     1.5           1          0         1  ...       2360     1983   \n",
       "\n",
       "      yr_renovated        lat        long    MHHI1  traffic_de    toxic_rele  \\\n",
       "0                0  47.461975 -122.190520  58901.0         6.0  18700.612670   \n",
       "1                0  47.463930 -122.189740  58901.0         6.0  18700.612670   \n",
       "2                0  47.460870 -122.188690  58901.0         6.0  18700.612670   \n",
       "3                0  47.450005 -122.189080  58901.0         6.0  18700.612670   \n",
       "4                0  47.460500 -122.191035  58901.0         6.0  18700.612670   \n",
       "...            ...        ...         ...      ...         ...           ...   \n",
       "29206            0  47.712520 -121.315030  88409.0         5.0    823.898408   \n",
       "29207            0  47.766720 -121.482380  88409.0         5.0    823.898408   \n",
       "29208            0  47.712560 -121.319590  88409.0         5.0    823.898408   \n",
       "29209         2003  47.707580 -121.359050  88409.0         5.0    823.898408   \n",
       "29210            0  47.714420 -121.276390  88409.0         5.0    823.898408   \n",
       "\n",
       "       hazardou_2  SCHDST  \n",
       "0            10.0     403  \n",
       "1            10.0     403  \n",
       "2            10.0     403  \n",
       "3            10.0     403  \n",
       "4            10.0     403  \n",
       "...           ...     ...  \n",
       "29206         1.0     404  \n",
       "29207         1.0     404  \n",
       "29208         1.0     404  \n",
       "29209         1.0     404  \n",
       "29210         1.0     404  \n",
       "\n",
       "[29170 rows x 28 columns]"
      ]
     },
     "execution_count": 36,
     "metadata": {},
     "output_type": "execute_result"
    }
   ],
   "source": [
    "df_clean"
   ]
  },
  {
   "cell_type": "code",
   "execution_count": 37,
   "metadata": {
    "scrolled": true
   },
   "outputs": [
    {
     "name": "stdout",
     "output_type": "stream",
     "text": [
      "<class 'pandas.core.frame.DataFrame'>\n",
      "Int64Index: 29170 entries, 0 to 29210\n",
      "Data columns (total 28 columns):\n",
      " #   Column         Non-Null Count  Dtype         \n",
      "---  ------         --------------  -----         \n",
      " 0   date           29170 non-null  datetime64[ns]\n",
      " 1   price          29170 non-null  float64       \n",
      " 2   bedrooms       29170 non-null  int64         \n",
      " 3   bathrooms      29170 non-null  float64       \n",
      " 4   sqft_living    29170 non-null  int64         \n",
      " 5   sqft_lot       29170 non-null  int64         \n",
      " 6   floors         29170 non-null  float64       \n",
      " 7   waterfront     29170 non-null  int64         \n",
      " 8   greenbelt      29170 non-null  int64         \n",
      " 9   nuisance       29170 non-null  int64         \n",
      " 10  view           29170 non-null  object        \n",
      " 11  condition      29170 non-null  object        \n",
      " 12  grade          29170 non-null  object        \n",
      " 13  heat_source    29170 non-null  object        \n",
      " 14  sewer_system   29170 non-null  object        \n",
      " 15  sqft_above     29170 non-null  int64         \n",
      " 16  sqft_basement  29170 non-null  int64         \n",
      " 17  sqft_garage    29170 non-null  int64         \n",
      " 18  sqft_patio     29170 non-null  int64         \n",
      " 19  yr_built       29170 non-null  int64         \n",
      " 20  yr_renovated   29170 non-null  int64         \n",
      " 21  lat            29170 non-null  float64       \n",
      " 22  long           29170 non-null  float64       \n",
      " 23  MHHI1          29170 non-null  float64       \n",
      " 24  traffic_de     29170 non-null  float64       \n",
      " 25  toxic_rele     29170 non-null  float64       \n",
      " 26  hazardou_2     29170 non-null  float64       \n",
      " 27  SCHDST         29170 non-null  int64         \n",
      "dtypes: datetime64[ns](1), float64(9), int64(13), object(5)\n",
      "memory usage: 6.5+ MB\n"
     ]
    }
   ],
   "source": [
    "df_clean.info()"
   ]
  },
  {
   "cell_type": "markdown",
   "metadata": {},
   "source": [
    "# converting to numeric types"
   ]
  },
  {
   "cell_type": "code",
   "execution_count": 38,
   "metadata": {
    "scrolled": true
   },
   "outputs": [
    {
     "data": {
      "text/plain": [
       "Gas                  20147\n",
       "Electricity           5950\n",
       "Oil                   2899\n",
       "Gas/Solar               93\n",
       "Electricity/Solar       57\n",
       "Other                   20\n",
       "Oil/Solar                4\n",
       "Name: heat_source, dtype: int64"
      ]
     },
     "execution_count": 38,
     "metadata": {},
     "output_type": "execute_result"
    }
   ],
   "source": [
    "df_clean['heat_source'].value_counts()"
   ]
  },
  {
   "cell_type": "code",
   "execution_count": 39,
   "metadata": {
    "scrolled": true
   },
   "outputs": [
    {
     "name": "stdout",
     "output_type": "stream",
     "text": [
      "Boolean Conversions:[]\n",
      "Rating Conversions: ['view', 'condition', 'grade', 'date']\n"
     ]
    }
   ],
   "source": [
    "def numeric_housing(df): \n",
    "    '''\n",
    "    This function converts all boolean or rating types into numerics from input df. \n",
    "    this is saved as df_numeric\n",
    "    This only works with housing data\n",
    "    '''\n",
    "\n",
    "    df_numeric = df.copy()\n",
    "\n",
    "    # Returns the new df_clean and lists the columns changed\n",
    "    convert_boolean(df_numeric,1)\n",
    "\n",
    "    # adjusting view column \n",
    "    # View has no intupretation written so it was self interpreted\n",
    "    df_numeric[\"view\"] = df_numeric[\"view\"].replace({\"NONE\": 0,\n",
    "                                                 \"FAIR\": 1,\n",
    "                                                 \"AVERAGE\": 2,\n",
    "                                                 \"GOOD\": 3,\n",
    "                                                 \"EXCELLENT\": 4,})\n",
    "\n",
    "    # adjusting condition column \n",
    "    # View https://info.kingcounty.gov/assessor/esales/Glossary.aspx?type=r#c \n",
    "    # under building condition it lists the order\n",
    "    df_numeric[\"condition\"] = df_numeric[\"condition\"].replace({\"Poor\": 0,\n",
    "                                                \"Fair\": 1,\n",
    "                                                 \"Average\": 2,\n",
    "                                                 \"Good\": 3,\n",
    "                                                 \"Very Good\": 4,})\n",
    "    # adjusting grade column \n",
    "    # View https://info.kingcounty.gov/assessor/esales/Glossary.aspx?type=r#c \n",
    "    # under building grade it lists the order\n",
    "    # they list the assosiated number with in name, i replaced it to just be the number\n",
    "    df_numeric[\"grade\"] = df_numeric[\"grade\"].replace({\"2 Substandard\": 2,\n",
    "                                              \"3 Poor\": 3,\n",
    "                                              \"4 Low\": 4,\n",
    "                                              \"5 Fair\": 5,\n",
    "                                              \"6 Low Average\": 6,\n",
    "                                              \"7 Average\": 7,\n",
    "                                              \"8 Good\": 8,\n",
    "                                              \"9 Better\": 9,\n",
    "                                              \"10 Very Good\": 10,\n",
    "                                              \"11 Excellent\": 11,\n",
    "                                              \"12 Luxury\": 12,\n",
    "                                              \"13 Mansion\": 13,})\n",
    "   \n",
    "    \n",
    "    \n",
    "    \n",
    "    adjusted = ['view','condition', 'grade','date']\n",
    "    \n",
    "    print(f'Rating Conversions: {adjusted}')\n",
    "#     print(display(df_numeric.head()))\n",
    "    return(df_numeric)\n",
    "df_clean = numeric_housing(df_clean)"
   ]
  },
  {
   "cell_type": "code",
   "execution_count": 40,
   "metadata": {
    "scrolled": true
   },
   "outputs": [
    {
     "name": "stdout",
     "output_type": "stream",
     "text": [
      "<class 'pandas.core.frame.DataFrame'>\n",
      "Int64Index: 29170 entries, 0 to 29210\n",
      "Data columns (total 28 columns):\n",
      " #   Column         Non-Null Count  Dtype         \n",
      "---  ------         --------------  -----         \n",
      " 0   date           29170 non-null  datetime64[ns]\n",
      " 1   price          29170 non-null  float64       \n",
      " 2   bedrooms       29170 non-null  int64         \n",
      " 3   bathrooms      29170 non-null  float64       \n",
      " 4   sqft_living    29170 non-null  int64         \n",
      " 5   sqft_lot       29170 non-null  int64         \n",
      " 6   floors         29170 non-null  float64       \n",
      " 7   waterfront     29170 non-null  int64         \n",
      " 8   greenbelt      29170 non-null  int64         \n",
      " 9   nuisance       29170 non-null  int64         \n",
      " 10  view           29170 non-null  int64         \n",
      " 11  condition      29170 non-null  int64         \n",
      " 12  grade          29170 non-null  int64         \n",
      " 13  heat_source    29170 non-null  object        \n",
      " 14  sewer_system   29170 non-null  object        \n",
      " 15  sqft_above     29170 non-null  int64         \n",
      " 16  sqft_basement  29170 non-null  int64         \n",
      " 17  sqft_garage    29170 non-null  int64         \n",
      " 18  sqft_patio     29170 non-null  int64         \n",
      " 19  yr_built       29170 non-null  int64         \n",
      " 20  yr_renovated   29170 non-null  int64         \n",
      " 21  lat            29170 non-null  float64       \n",
      " 22  long           29170 non-null  float64       \n",
      " 23  MHHI1          29170 non-null  float64       \n",
      " 24  traffic_de     29170 non-null  float64       \n",
      " 25  toxic_rele     29170 non-null  float64       \n",
      " 26  hazardou_2     29170 non-null  float64       \n",
      " 27  SCHDST         29170 non-null  int64         \n",
      "dtypes: datetime64[ns](1), float64(9), int64(16), object(2)\n",
      "memory usage: 6.5+ MB\n"
     ]
    }
   ],
   "source": [
    "df_clean.info()"
   ]
  },
  {
   "cell_type": "markdown",
   "metadata": {},
   "source": [
    "# Creating Dummy variables"
   ]
  },
  {
   "cell_type": "code",
   "execution_count": 41,
   "metadata": {},
   "outputs": [],
   "source": [
    "def for_dummies(df,column):\n",
    "    '''\n",
    "    Function takes a dataframe and a column or a list or columns\n",
    "    creates a dummy variable for each specified column, \n",
    "    drops column with heighest value count\n",
    "    '''\n",
    "    dropped = str(df[column].value_counts().idxmax())\n",
    "    name_drop = column + '_' +dropped\n",
    "    print(f'Dropped Column: {name_drop}')\n",
    "    df_dum = pd.get_dummies(df, columns=[column], drop_first=False)\n",
    "    df_dum = df_dum.drop(columns=name_drop)\n",
    "    \n",
    "    return(df_dum)"
   ]
  },
  {
   "cell_type": "code",
   "execution_count": 42,
   "metadata": {
    "scrolled": true
   },
   "outputs": [
    {
     "name": "stdout",
     "output_type": "stream",
     "text": [
      "Dropped Column: SCHDST_1\n"
     ]
    }
   ],
   "source": [
    "# Changing type of SCHDST for int to object\n",
    "df_clean['SCHDST'] = df_clean['SCHDST'].astype(object)\n",
    "df_clean = for_dummies(df_clean, 'SCHDST')"
   ]
  },
  {
   "cell_type": "code",
   "execution_count": 43,
   "metadata": {
    "scrolled": false
   },
   "outputs": [
    {
     "data": {
      "text/plain": [
       "Index(['date', 'price', 'bedrooms', 'bathrooms', 'sqft_living', 'sqft_lot',\n",
       "       'floors', 'waterfront', 'greenbelt', 'nuisance', 'view', 'condition',\n",
       "       'grade', 'heat_source', 'sewer_system', 'sqft_above', 'sqft_basement',\n",
       "       'sqft_garage', 'sqft_patio', 'yr_built', 'yr_renovated', 'lat', 'long',\n",
       "       'MHHI1', 'traffic_de', 'toxic_rele', 'hazardou_2', 'SCHDST_210',\n",
       "       'SCHDST_216', 'SCHDST_400', 'SCHDST_401', 'SCHDST_402', 'SCHDST_403',\n",
       "       'SCHDST_404', 'SCHDST_405', 'SCHDST_406', 'SCHDST_407', 'SCHDST_408',\n",
       "       'SCHDST_409', 'SCHDST_410', 'SCHDST_411', 'SCHDST_412', 'SCHDST_414',\n",
       "       'SCHDST_415', 'SCHDST_417', 'SCHDST_888'],\n",
       "      dtype='object')"
      ]
     },
     "execution_count": 43,
     "metadata": {},
     "output_type": "execute_result"
    }
   ],
   "source": [
    "df_clean.columns"
   ]
  },
  {
   "cell_type": "code",
   "execution_count": 44,
   "metadata": {
    "scrolled": true
   },
   "outputs": [
    {
     "name": "stdout",
     "output_type": "stream",
     "text": [
      "Dropped Column: floors_1.0\n"
     ]
    }
   ],
   "source": [
    "df_model_k = for_dummies(df_clean, 'floors')"
   ]
  },
  {
   "cell_type": "markdown",
   "metadata": {},
   "source": [
    "# Dropping all object dtypes"
   ]
  },
  {
   "cell_type": "code",
   "execution_count": 45,
   "metadata": {},
   "outputs": [
    {
     "name": "stdout",
     "output_type": "stream",
     "text": [
      "The following columns were dropped due to being object types\n",
      "Index(['heat_source', 'sewer_system'], dtype='object')\n"
     ]
    }
   ],
   "source": [
    "df_object = df_clean.select_dtypes(include='object')\n",
    "print(f'The following columns were dropped due to being object types\\n{df_object.columns}')\n",
    "df_clean = df_clean.drop(df_object,axis=1)\n",
    "# df_clean1 = df_clean1.drop(columns='date').reset_index()"
   ]
  },
  {
   "cell_type": "markdown",
   "metadata": {},
   "source": [
    "# Removing Outliers "
   ]
  },
  {
   "cell_type": "code",
   "execution_count": 46,
   "metadata": {
    "scrolled": false
   },
   "outputs": [
    {
     "ename": "NameError",
     "evalue": "name 'df_clean1' is not defined",
     "output_type": "error",
     "traceback": [
      "\u001b[0;31m---------------------------------------------------------------------------\u001b[0m",
      "\u001b[0;31mNameError\u001b[0m                                 Traceback (most recent call last)",
      "\u001b[0;32m<ipython-input-46-f8e66f3b69fd>\u001b[0m in \u001b[0;36m<module>\u001b[0;34m\u001b[0m\n\u001b[0;32m----> 1\u001b[0;31m \u001b[0mdf_zscore\u001b[0m \u001b[0;34m=\u001b[0m \u001b[0mdf_clean1\u001b[0m\u001b[0;34m.\u001b[0m\u001b[0mapply\u001b[0m\u001b[0;34m(\u001b[0m\u001b[0mstats\u001b[0m\u001b[0;34m.\u001b[0m\u001b[0mzscore\u001b[0m\u001b[0;34m)\u001b[0m\u001b[0;34m\u001b[0m\u001b[0;34m\u001b[0m\u001b[0m\n\u001b[0m\u001b[1;32m      2\u001b[0m \u001b[0mdf_zscore\u001b[0m\u001b[0;34m\u001b[0m\u001b[0;34m\u001b[0m\u001b[0m\n",
      "\u001b[0;31mNameError\u001b[0m: name 'df_clean1' is not defined"
     ]
    }
   ],
   "source": [
    "df_zscore = df_clean1.apply(stats.zscore)\n",
    "df_zscore"
   ]
  },
  {
   "cell_type": "code",
   "execution_count": 47,
   "metadata": {
    "scrolled": true
   },
   "outputs": [
    {
     "ename": "NameError",
     "evalue": "name 'df_clean1' is not defined",
     "output_type": "error",
     "traceback": [
      "\u001b[0;31m---------------------------------------------------------------------------\u001b[0m",
      "\u001b[0;31mNameError\u001b[0m                                 Traceback (most recent call last)",
      "\u001b[0;32m<ipython-input-47-6d5530948ea5>\u001b[0m in \u001b[0;36m<module>\u001b[0;34m\u001b[0m\n\u001b[0;32m----> 1\u001b[0;31m \u001b[0mdf_no_outliers\u001b[0m \u001b[0;34m=\u001b[0m \u001b[0mdf_clean1\u001b[0m\u001b[0;34m[\u001b[0m\u001b[0;34m(\u001b[0m\u001b[0mnp\u001b[0m\u001b[0;34m.\u001b[0m\u001b[0mabs\u001b[0m\u001b[0;34m(\u001b[0m\u001b[0mdf_clean1\u001b[0m\u001b[0;34m.\u001b[0m\u001b[0mapply\u001b[0m\u001b[0;34m(\u001b[0m\u001b[0mstats\u001b[0m\u001b[0;34m.\u001b[0m\u001b[0mzscore\u001b[0m\u001b[0;34m)\u001b[0m\u001b[0;34m)\u001b[0m \u001b[0;34m<\u001b[0m \u001b[0;36m3\u001b[0m\u001b[0;34m)\u001b[0m\u001b[0;34m.\u001b[0m\u001b[0mall\u001b[0m\u001b[0;34m(\u001b[0m\u001b[0maxis\u001b[0m\u001b[0;34m=\u001b[0m\u001b[0;36m1\u001b[0m\u001b[0;34m)\u001b[0m\u001b[0;34m]\u001b[0m\u001b[0;34m\u001b[0m\u001b[0;34m\u001b[0m\u001b[0m\n\u001b[0m",
      "\u001b[0;31mNameError\u001b[0m: name 'df_clean1' is not defined"
     ]
    }
   ],
   "source": [
    "df_no_outliers = df_clean1[(np.abs(df_clean1.apply(stats.zscore)) < 3).all(axis=1)]"
   ]
  },
  {
   "cell_type": "code",
   "execution_count": 48,
   "metadata": {},
   "outputs": [
    {
     "ename": "NameError",
     "evalue": "name 'df_no_outliers' is not defined",
     "output_type": "error",
     "traceback": [
      "\u001b[0;31m---------------------------------------------------------------------------\u001b[0m",
      "\u001b[0;31mNameError\u001b[0m                                 Traceback (most recent call last)",
      "\u001b[0;32m<ipython-input-48-fca357ef704e>\u001b[0m in \u001b[0;36m<module>\u001b[0;34m\u001b[0m\n\u001b[0;32m----> 1\u001b[0;31m \u001b[0mdf_no_outliers\u001b[0m\u001b[0;34m\u001b[0m\u001b[0;34m\u001b[0m\u001b[0m\n\u001b[0m",
      "\u001b[0;31mNameError\u001b[0m: name 'df_no_outliers' is not defined"
     ]
    }
   ],
   "source": [
    "df_no_outliers"
   ]
  },
  {
   "cell_type": "markdown",
   "metadata": {},
   "source": [
    "# Modeling"
   ]
  },
  {
   "cell_type": "code",
   "execution_count": 49,
   "metadata": {},
   "outputs": [],
   "source": [
    "def correlation(df,column,rank=None):\n",
    "    '''\n",
    "    performs correlation matrix, drops no numeric object types\n",
    "    variables are dataframe, column, and ranking\n",
    "    ranking is optional\n",
    "    column = 'column'\n",
    "    rank = True for # rank 1,2,3...\n",
    "    \n",
    "    '''\n",
    "    # data cleaning that needs to be moved\n",
    "    # Select columns of object type and drop them\n",
    "    df_object = df.select_dtypes(include='object')\n",
    "    print(f'The following columns were dropped due to being object types\\n{df_object.columns}')\n",
    "    df = df.drop(df_object,axis=1) \n",
    "    \n",
    "\n",
    "#     df1 = df.drop(columns=['lat','long','yr_renovated'],axis=1)\n",
    "    df1 = df\n",
    "#     return df1\n",
    "#     return df1['price']\n",
    "    #end of data cleaning\n",
    "    \n",
    "    if rank is True:\n",
    "        try:\n",
    "            df_corr = df1.corr()[column]#.rank(ascending=False).sort_values()    # numeric_only=False\n",
    "            df_corr = df_corr.drop(column)\n",
    "#             print(f'{column} has been removed from the ranking')\n",
    "            print(f'Ranked correlation to {column}')\n",
    "            return(df_corr.rank(ascending=False).sort_values())\n",
    "        except Exception as e:\n",
    "            print(f\"Not a valid column name\\n{e}\")\n",
    "    else:    \n",
    "        try:\n",
    "            df_corr = df.corr()[column]\n",
    "            df_corr = df_corr.drop(column)\n",
    "            print(f'Correlation to {column}')\n",
    "            return(df_corr.sort_values(ascending=False))\n",
    "        except Exception as e:\n",
    "            print(f\"Not a valid column name\\n{e}\")\n",
    "        "
   ]
  },
  {
   "cell_type": "code",
   "execution_count": 50,
   "metadata": {
    "scrolled": true
   },
   "outputs": [
    {
     "name": "stdout",
     "output_type": "stream",
     "text": [
      "The following columns were dropped due to being object types\n",
      "Index([], dtype='object')\n",
      "Correlation to price\n"
     ]
    },
    {
     "data": {
      "text/plain": [
       "sqft_living      0.616625\n",
       "grade            0.577978\n",
       "sqft_above       0.546001\n",
       "bathrooms        0.487829\n",
       "MHHI1            0.480884\n",
       "view             0.321322\n",
       "sqft_patio       0.317543\n",
       "SCHDST_405       0.303652\n",
       "lat              0.297687\n",
       "bedrooms         0.290908\n",
       "sqft_garage      0.267487\n",
       "sqft_basement    0.246097\n",
       "waterfront       0.239104\n",
       "SCHDST_400       0.202664\n",
       "floors           0.199833\n",
       "SCHDST_414       0.191563\n",
       "SCHDST_411       0.122677\n",
       "yr_built         0.106166\n",
       "sqft_lot         0.086743\n",
       "yr_renovated     0.085605\n",
       "long             0.081813\n",
       "greenbelt        0.068418\n",
       "SCHDST_417       0.039741\n",
       "SCHDST_410       0.017174\n",
       "nuisance         0.006609\n",
       "SCHDST_402      -0.011275\n",
       "condition       -0.012618\n",
       "SCHDST_407      -0.014268\n",
       "SCHDST_404      -0.020716\n",
       "SCHDST_412      -0.030689\n",
       "SCHDST_888      -0.034624\n",
       "SCHDST_406      -0.043449\n",
       "traffic_de      -0.059191\n",
       "SCHDST_409      -0.059351\n",
       "SCHDST_216      -0.075765\n",
       "SCHDST_403      -0.080042\n",
       "SCHDST_401      -0.115740\n",
       "SCHDST_408      -0.115848\n",
       "toxic_rele      -0.121423\n",
       "SCHDST_210      -0.140165\n",
       "SCHDST_415      -0.142509\n",
       "hazardou_2      -0.308898\n",
       "Name: price, dtype: float64"
      ]
     },
     "execution_count": 50,
     "metadata": {},
     "output_type": "execute_result"
    }
   ],
   "source": [
    "correlation(df_clean,'price')"
   ]
  },
  {
   "cell_type": "code",
   "execution_count": 51,
   "metadata": {
    "scrolled": true
   },
   "outputs": [
    {
     "name": "stdout",
     "output_type": "stream",
     "text": [
      "The following columns were dropped due to being object types\n",
      "Index([], dtype='object')\n",
      "Correlation to price\n"
     ]
    },
    {
     "data": {
      "text/plain": [
       "sqft_living      0.616625\n",
       "grade            0.577978\n",
       "sqft_above       0.546001\n",
       "bathrooms        0.487829\n",
       "MHHI1            0.480884\n",
       "view             0.321322\n",
       "sqft_patio       0.317543\n",
       "SCHDST_405       0.303652\n",
       "lat              0.297687\n",
       "bedrooms         0.290908\n",
       "sqft_garage      0.267487\n",
       "sqft_basement    0.246097\n",
       "waterfront       0.239104\n",
       "SCHDST_400       0.202664\n",
       "floors           0.199833\n",
       "SCHDST_414       0.191563\n",
       "SCHDST_411       0.122677\n",
       "yr_built         0.106166\n",
       "sqft_lot         0.086743\n",
       "yr_renovated     0.085605\n",
       "long             0.081813\n",
       "greenbelt        0.068418\n",
       "SCHDST_417       0.039741\n",
       "SCHDST_410       0.017174\n",
       "nuisance         0.006609\n",
       "SCHDST_402      -0.011275\n",
       "condition       -0.012618\n",
       "SCHDST_407      -0.014268\n",
       "SCHDST_404      -0.020716\n",
       "SCHDST_412      -0.030689\n",
       "SCHDST_888      -0.034624\n",
       "SCHDST_406      -0.043449\n",
       "traffic_de      -0.059191\n",
       "SCHDST_409      -0.059351\n",
       "SCHDST_216      -0.075765\n",
       "SCHDST_403      -0.080042\n",
       "SCHDST_401      -0.115740\n",
       "SCHDST_408      -0.115848\n",
       "toxic_rele      -0.121423\n",
       "SCHDST_210      -0.140165\n",
       "SCHDST_415      -0.142509\n",
       "hazardou_2      -0.308898\n",
       "Name: price, dtype: float64"
      ]
     },
     "execution_count": 51,
     "metadata": {},
     "output_type": "execute_result"
    }
   ],
   "source": [
    "df_clean_corr = correlation(df_clean,'price')\n",
    "df_clean_corr"
   ]
  },
  {
   "cell_type": "code",
   "execution_count": 52,
   "metadata": {
    "scrolled": false
   },
   "outputs": [
    {
     "data": {
      "text/plain": [
       "<AxesSubplot:>"
      ]
     },
     "execution_count": 52,
     "metadata": {},
     "output_type": "execute_result"
    },
    {
     "data": {
      "image/png": "[encoded data removed]",
      "text/plain": [
       "<Figure size 1152x720 with 2 Axes>"
      ]
     },
     "metadata": {
      "needs_background": "light"
     },
     "output_type": "display_data"
    }
   ],
   "source": [
    "fig, ax = plt.subplots(figsize=(16, 10))\n",
    "sns.heatmap(abs(df_clean.corr()), annot=False,ax=ax,vmin=.5)"
   ]
  },
  {
   "cell_type": "code",
   "execution_count": 53,
   "metadata": {
    "scrolled": false
   },
   "outputs": [
    {
     "data": {
      "text/plain": [
       "<AxesSubplot:>"
      ]
     },
     "execution_count": 53,
     "metadata": {},
     "output_type": "execute_result"
    },
    {
     "data": {
      "image/png": "[encoded data removed]",
      "text/plain": [
       "<Figure size 1152x720 with 2 Axes>"
      ]
     },
     "metadata": {
      "needs_background": "light"
     },
     "output_type": "display_data"
    }
   ],
   "source": [
    "df_cc = abs(df_clean.corr())\n",
    "threshold = (df_cc > .5) & (df_cc < 1)\n",
    "df_ccf = df_cc.loc[threshold.any(axis=1),threshold.any(axis=0)]\n",
    "fig, ax = plt.subplots(figsize=(16, 10))\n",
    "sns.heatmap(df_ccf, annot=False,ax=ax,vmin=.5)"
   ]
  },
  {
   "cell_type": "code",
   "execution_count": 54,
   "metadata": {
    "scrolled": true
   },
   "outputs": [
    {
     "data": {
      "text/plain": [
       "price        sqft_living    0.616625\n",
       "             grade          0.577978\n",
       "             sqft_above     0.546001\n",
       "bedrooms     bathrooms      0.593441\n",
       "             sqft_living    0.630757\n",
       "             sqft_above     0.537586\n",
       "bathrooms    bedrooms       0.593441\n",
       "             sqft_living    0.779778\n",
       "             grade          0.653047\n",
       "             sqft_above     0.680801\n",
       "sqft_living  price          0.616625\n",
       "             bedrooms       0.630757\n",
       "             bathrooms      0.779778\n",
       "             grade          0.739152\n",
       "             sqft_above     0.881671\n",
       "             sqft_garage    0.503602\n",
       "floors       sqft_above     0.505920\n",
       "             yr_built       0.520881\n",
       "grade        price          0.577978\n",
       "             bathrooms      0.653047\n",
       "             sqft_living    0.739152\n",
       "             sqft_above     0.720486\n",
       "             sqft_garage    0.516361\n",
       "sqft_above   price          0.546001\n",
       "             bedrooms       0.537586\n",
       "             bathrooms      0.680801\n",
       "             sqft_living    0.881671\n",
       "             floors         0.505920\n",
       "             grade          0.720486\n",
       "             sqft_garage    0.553733\n",
       "sqft_garage  sqft_living    0.503602\n",
       "             grade          0.516361\n",
       "             sqft_above     0.553733\n",
       "yr_built     floors         0.520881\n",
       "lat          hazardou_2     0.667492\n",
       "long         SCHDST_410     0.502106\n",
       "hazardou_2   lat            0.667492\n",
       "SCHDST_410   long           0.502106\n",
       "dtype: float64"
      ]
     },
     "execution_count": 54,
     "metadata": {},
     "output_type": "execute_result"
    }
   ],
   "source": [
    "# stack creates a series of tuples\n",
    "filters = df_ccf[threshold].stack()\n",
    "filters"
   ]
  },
  {
   "cell_type": "code",
   "execution_count": 55,
   "metadata": {
    "scrolled": false
   },
   "outputs": [
    {
     "name": "stdout",
     "output_type": "stream",
     "text": [
      "Highley correlating variables:\n",
      "\n",
      "('bedrooms', 'bathrooms')\n",
      "('grade', 'bathrooms')\n",
      "('lat', 'hazardou_2')\n",
      "('long', 'SCHDST_410')\n",
      "('price', 'grade')\n",
      "('sqft_above', 'bathrooms')\n",
      "('sqft_above', 'bedrooms')\n",
      "('sqft_above', 'floors')\n",
      "('sqft_above', 'grade')\n",
      "('sqft_above', 'price')\n",
      "('sqft_garage', 'grade')\n",
      "('sqft_garage', 'sqft_above')\n",
      "('sqft_living', 'bathrooms')\n",
      "('sqft_living', 'bedrooms')\n",
      "('sqft_living', 'grade')\n",
      "('sqft_living', 'price')\n",
      "('sqft_living', 'sqft_above')\n",
      "('sqft_living', 'sqft_garage')\n",
      "('yr_built', 'floors')\n"
     ]
    }
   ],
   "source": [
    "# sorts each tuple so any xy and yx will now all be xy and xy\n",
    "# when using sorted each variable becomes a list so they need to be converted back to a tuple\n",
    "#lastly now peform a set on the tuples\n",
    "filtered = set(tuple(sorted(l,reverse=True)) for l in list(filters.index))\n",
    "# for f in filtered:\n",
    "print(f'Highley correlating variables:\\n')\n",
    "list(map(print, sorted(filtered)));"
   ]
  },
  {
   "cell_type": "markdown",
   "metadata": {},
   "source": [
    "sqft living & Bathrooms\n"
   ]
  },
  {
   "cell_type": "markdown",
   "metadata": {},
   "source": [
    "# Creating Regression Models"
   ]
  },
  {
   "cell_type": "code",
   "execution_count": 56,
   "metadata": {},
   "outputs": [
    {
     "data": {
      "text/plain": [
       "Index(['date', 'price', 'bedrooms', 'bathrooms', 'sqft_living', 'sqft_lot',\n",
       "       'floors', 'waterfront', 'greenbelt', 'nuisance', 'view', 'condition',\n",
       "       'grade', 'sqft_above', 'sqft_basement', 'sqft_garage', 'sqft_patio',\n",
       "       'yr_built', 'yr_renovated', 'lat', 'long', 'MHHI1', 'traffic_de',\n",
       "       'toxic_rele', 'hazardou_2', 'SCHDST_210', 'SCHDST_216', 'SCHDST_400',\n",
       "       'SCHDST_401', 'SCHDST_402', 'SCHDST_403', 'SCHDST_404', 'SCHDST_405',\n",
       "       'SCHDST_406', 'SCHDST_407', 'SCHDST_408', 'SCHDST_409', 'SCHDST_410',\n",
       "       'SCHDST_411', 'SCHDST_412', 'SCHDST_414', 'SCHDST_415', 'SCHDST_417',\n",
       "       'SCHDST_888'],\n",
       "      dtype='object')"
      ]
     },
     "execution_count": 56,
     "metadata": {},
     "output_type": "execute_result"
    }
   ],
   "source": [
    "df_clean.columns"
   ]
  },
  {
   "cell_type": "code",
   "execution_count": 57,
   "metadata": {},
   "outputs": [],
   "source": [
    "def mlr(df,column,model_t=None, simple=False):\n",
    "    '''\n",
    "    This runs a Multiple Linear Regression for a set list from df_numeric.\n",
    "    Call an int to return the list of columns used, mlr(1)\n",
    "    dataframe,y column, optional single regression add column\n",
    "    simple: \n",
    "    True = simple\n",
    "    False = multiple\n",
    "    model_t:\n",
    "    'x' = return x columns used\n",
    "    'fit' = no summary\n",
    "    '''\n",
    "    df_object = df.select_dtypes(include='object')\n",
    "    print(f'The following columns were dropped due to being object types\\n{df_object.columns}')\n",
    "    df1 = df.drop(df_object,axis=1)\n",
    "\n",
    "#     df1 = df.drop(columns=['lat','long','date','sqft_above','sqft_lot','toxic_rele',\n",
    "#                            'sqft_basement','sqft_patio','yr_renovated'], axis=1)\n",
    "\n",
    "#     df1 = df[['price', 'traffic_de', 'SCHDST']]\n",
    "#     df1 = df[['price','bedrooms', 'bathrooms', 'sqft_living',\n",
    "#        'floors', 'waterfront', 'greenbelt', 'nuisance', 'view', 'condition',\n",
    "#        'grade', 'yr_built']]\n",
    "    \n",
    "    if simple == True:\n",
    "        highest_corr = correlation(df, column).abs().idxmax()\n",
    "        x = df[highest_corr]\n",
    "    elif simple == False:\n",
    "        x = df1.drop(column, axis=1)\n",
    "        \n",
    "    # Define the y variables\n",
    "    y = df1[column]\n",
    "    # create model\n",
    "    model = sm.OLS(y,sm.add_constant(x)).fit()\n",
    "\n",
    "    if model_t == 'x':\n",
    "        return(sm.add_constant(x))\n",
    "    elif model_t == 'fit':\n",
    "        return(model)\n",
    "    \n",
    "    # Model Summary\n",
    "    return(model.summary())\n"
   ]
  },
  {
   "cell_type": "code",
   "execution_count": 58,
   "metadata": {
    "scrolled": true
   },
   "outputs": [
    {
     "name": "stdout",
     "output_type": "stream",
     "text": [
      "The following columns were dropped due to being object types\n",
      "Index([], dtype='object')\n"
     ]
    },
    {
     "data": {
      "text/html": [
       "<table class=\"simpletable\">\n",
       "<caption>OLS Regression Results</caption>\n",
       "<tr>\n",
       "  <th>Dep. Variable:</th>          <td>price</td>      <th>  R-squared:         </th>  <td>   0.493</td>  \n",
       "</tr>\n",
       "<tr>\n",
       "  <th>Model:</th>                   <td>OLS</td>       <th>  Adj. R-squared:    </th>  <td>   0.493</td>  \n",
       "</tr>\n",
       "<tr>\n",
       "  <th>Method:</th>             <td>Least Squares</td>  <th>  F-statistic:       </th>  <td>   2577.</td>  \n",
       "</tr>\n",
       "<tr>\n",
       "  <th>Date:</th>             <td>Thu, 30 Mar 2023</td> <th>  Prob (F-statistic):</th>   <td>  0.00</td>   \n",
       "</tr>\n",
       "<tr>\n",
       "  <th>Time:</th>                 <td>13:18:04</td>     <th>  Log-Likelihood:    </th> <td>-4.3126e+05</td>\n",
       "</tr>\n",
       "<tr>\n",
       "  <th>No. Observations:</th>      <td> 29170</td>      <th>  AIC:               </th>  <td>8.626e+05</td> \n",
       "</tr>\n",
       "<tr>\n",
       "  <th>Df Residuals:</th>          <td> 29158</td>      <th>  BIC:               </th>  <td>8.626e+05</td> \n",
       "</tr>\n",
       "<tr>\n",
       "  <th>Df Model:</th>              <td>    11</td>      <th>                     </th>      <td> </td>     \n",
       "</tr>\n",
       "<tr>\n",
       "  <th>Covariance Type:</th>      <td>nonrobust</td>    <th>                     </th>      <td> </td>     \n",
       "</tr>\n",
       "</table>\n",
       "<table class=\"simpletable\">\n",
       "<tr>\n",
       "       <td></td>          <th>coef</th>     <th>std err</th>      <th>t</th>      <th>P>|t|</th>  <th>[0.025</th>    <th>0.975]</th>  \n",
       "</tr>\n",
       "<tr>\n",
       "  <th>const</th>       <td> 8.764e+06</td> <td> 3.03e+05</td> <td>   28.893</td> <td> 0.000</td> <td> 8.17e+06</td> <td> 9.36e+06</td>\n",
       "</tr>\n",
       "<tr>\n",
       "  <th>bedrooms</th>    <td>-1.029e+05</td> <td> 5207.827</td> <td>  -19.765</td> <td> 0.000</td> <td>-1.13e+05</td> <td>-9.27e+04</td>\n",
       "</tr>\n",
       "<tr>\n",
       "  <th>bathrooms</th>   <td> 9.637e+04</td> <td> 7423.465</td> <td>   12.982</td> <td> 0.000</td> <td> 8.18e+04</td> <td> 1.11e+05</td>\n",
       "</tr>\n",
       "<tr>\n",
       "  <th>sqft_living</th> <td>  367.5059</td> <td>    7.778</td> <td>   47.246</td> <td> 0.000</td> <td>  352.260</td> <td>  382.752</td>\n",
       "</tr>\n",
       "<tr>\n",
       "  <th>floors</th>      <td>-4.211e+04</td> <td> 8521.333</td> <td>   -4.942</td> <td> 0.000</td> <td>-5.88e+04</td> <td>-2.54e+04</td>\n",
       "</tr>\n",
       "<tr>\n",
       "  <th>waterfront</th>  <td> 1.003e+06</td> <td> 3.16e+04</td> <td>   31.705</td> <td> 0.000</td> <td> 9.41e+05</td> <td> 1.07e+06</td>\n",
       "</tr>\n",
       "<tr>\n",
       "  <th>greenbelt</th>   <td> 4.258e+04</td> <td> 2.36e+04</td> <td>    1.805</td> <td> 0.071</td> <td>-3666.416</td> <td> 8.88e+04</td>\n",
       "</tr>\n",
       "<tr>\n",
       "  <th>nuisance</th>    <td> 5.096e+04</td> <td> 1.01e+04</td> <td>    5.069</td> <td> 0.000</td> <td> 3.13e+04</td> <td> 7.07e+04</td>\n",
       "</tr>\n",
       "<tr>\n",
       "  <th>view</th>        <td> 6.949e+04</td> <td> 5038.382</td> <td>   13.792</td> <td> 0.000</td> <td> 5.96e+04</td> <td> 7.94e+04</td>\n",
       "</tr>\n",
       "<tr>\n",
       "  <th>condition</th>   <td> 1.351e+04</td> <td> 5649.058</td> <td>    2.391</td> <td> 0.017</td> <td> 2435.578</td> <td> 2.46e+04</td>\n",
       "</tr>\n",
       "<tr>\n",
       "  <th>grade</th>       <td>  2.68e+05</td> <td> 5400.642</td> <td>   49.630</td> <td> 0.000</td> <td> 2.57e+05</td> <td> 2.79e+05</td>\n",
       "</tr>\n",
       "<tr>\n",
       "  <th>yr_built</th>    <td>-5254.1087</td> <td>  158.201</td> <td>  -33.212</td> <td> 0.000</td> <td>-5564.189</td> <td>-4944.028</td>\n",
       "</tr>\n",
       "</table>\n",
       "<table class=\"simpletable\">\n",
       "<tr>\n",
       "  <th>Omnibus:</th>       <td>42107.776</td> <th>  Durbin-Watson:     </th>   <td>   1.342</td>  \n",
       "</tr>\n",
       "<tr>\n",
       "  <th>Prob(Omnibus):</th>  <td> 0.000</td>   <th>  Jarque-Bera (JB):  </th> <td>54920327.070</td>\n",
       "</tr>\n",
       "<tr>\n",
       "  <th>Skew:</th>           <td> 8.151</td>   <th>  Prob(JB):          </th>   <td>    0.00</td>  \n",
       "</tr>\n",
       "<tr>\n",
       "  <th>Kurtosis:</th>       <td>214.945</td>  <th>  Cond. No.          </th>   <td>2.44e+05</td>  \n",
       "</tr>\n",
       "</table><br/><br/>Notes:<br/>[1] Standard Errors assume that the covariance matrix of the errors is correctly specified.<br/>[2] The condition number is large, 2.44e+05. This might indicate that there are<br/>strong multicollinearity or other numerical problems."
      ],
      "text/plain": [
       "<class 'statsmodels.iolib.summary.Summary'>\n",
       "\"\"\"\n",
       "                            OLS Regression Results                            \n",
       "==============================================================================\n",
       "Dep. Variable:                  price   R-squared:                       0.493\n",
       "Model:                            OLS   Adj. R-squared:                  0.493\n",
       "Method:                 Least Squares   F-statistic:                     2577.\n",
       "Date:                Thu, 30 Mar 2023   Prob (F-statistic):               0.00\n",
       "Time:                        13:18:04   Log-Likelihood:            -4.3126e+05\n",
       "No. Observations:               29170   AIC:                         8.626e+05\n",
       "Df Residuals:                   29158   BIC:                         8.626e+05\n",
       "Df Model:                          11                                         \n",
       "Covariance Type:            nonrobust                                         \n",
       "===============================================================================\n",
       "                  coef    std err          t      P>|t|      [0.025      0.975]\n",
       "-------------------------------------------------------------------------------\n",
       "const        8.764e+06   3.03e+05     28.893      0.000    8.17e+06    9.36e+06\n",
       "bedrooms    -1.029e+05   5207.827    -19.765      0.000   -1.13e+05   -9.27e+04\n",
       "bathrooms    9.637e+04   7423.465     12.982      0.000    8.18e+04    1.11e+05\n",
       "sqft_living   367.5059      7.778     47.246      0.000     352.260     382.752\n",
       "floors      -4.211e+04   8521.333     -4.942      0.000   -5.88e+04   -2.54e+04\n",
       "waterfront   1.003e+06   3.16e+04     31.705      0.000    9.41e+05    1.07e+06\n",
       "greenbelt    4.258e+04   2.36e+04      1.805      0.071   -3666.416    8.88e+04\n",
       "nuisance     5.096e+04   1.01e+04      5.069      0.000    3.13e+04    7.07e+04\n",
       "view         6.949e+04   5038.382     13.792      0.000    5.96e+04    7.94e+04\n",
       "condition    1.351e+04   5649.058      2.391      0.017    2435.578    2.46e+04\n",
       "grade         2.68e+05   5400.642     49.630      0.000    2.57e+05    2.79e+05\n",
       "yr_built    -5254.1087    158.201    -33.212      0.000   -5564.189   -4944.028\n",
       "==============================================================================\n",
       "Omnibus:                    42107.776   Durbin-Watson:                   1.342\n",
       "Prob(Omnibus):                  0.000   Jarque-Bera (JB):         54920327.070\n",
       "Skew:                           8.151   Prob(JB):                         0.00\n",
       "Kurtosis:                     214.945   Cond. No.                     2.44e+05\n",
       "==============================================================================\n",
       "\n",
       "Notes:\n",
       "[1] Standard Errors assume that the covariance matrix of the errors is correctly specified.\n",
       "[2] The condition number is large, 2.44e+05. This might indicate that there are\n",
       "strong multicollinearity or other numerical problems.\n",
       "\"\"\""
      ]
     },
     "execution_count": 58,
     "metadata": {},
     "output_type": "execute_result"
    }
   ],
   "source": [
    "# This produces r^2 of .493, Cond. 2.33e+05\n",
    "df_mlr_tester = df_clean[['price','bedrooms', 'bathrooms', 'sqft_living',\n",
    "       'floors', 'waterfront', 'greenbelt', 'nuisance', 'view', 'condition',\n",
    "       'grade', 'yr_built']]\n",
    "mlr(df_mlr_tester,'price')"
   ]
  },
  {
   "cell_type": "code",
   "execution_count": 59,
   "metadata": {
    "scrolled": true
   },
   "outputs": [
    {
     "name": "stdout",
     "output_type": "stream",
     "text": [
      "The following columns were dropped due to being object types\n",
      "Index([], dtype='object')\n"
     ]
    },
    {
     "data": {
      "text/html": [
       "<table class=\"simpletable\">\n",
       "<caption>OLS Regression Results</caption>\n",
       "<tr>\n",
       "  <th>Dep. Variable:</th>          <td>price</td>      <th>  R-squared:         </th>  <td>   0.414</td>  \n",
       "</tr>\n",
       "<tr>\n",
       "  <th>Model:</th>                   <td>OLS</td>       <th>  Adj. R-squared:    </th>  <td>   0.414</td>  \n",
       "</tr>\n",
       "<tr>\n",
       "  <th>Method:</th>             <td>Least Squares</td>  <th>  F-statistic:       </th>  <td>   4127.</td>  \n",
       "</tr>\n",
       "<tr>\n",
       "  <th>Date:</th>             <td>Thu, 30 Mar 2023</td> <th>  Prob (F-statistic):</th>   <td>  0.00</td>   \n",
       "</tr>\n",
       "<tr>\n",
       "  <th>Time:</th>                 <td>13:18:04</td>     <th>  Log-Likelihood:    </th> <td>-4.3336e+05</td>\n",
       "</tr>\n",
       "<tr>\n",
       "  <th>No. Observations:</th>      <td> 29170</td>      <th>  AIC:               </th>  <td>8.667e+05</td> \n",
       "</tr>\n",
       "<tr>\n",
       "  <th>Df Residuals:</th>          <td> 29164</td>      <th>  BIC:               </th>  <td>8.668e+05</td> \n",
       "</tr>\n",
       "<tr>\n",
       "  <th>Df Model:</th>              <td>     5</td>      <th>                     </th>      <td> </td>     \n",
       "</tr>\n",
       "<tr>\n",
       "  <th>Covariance Type:</th>      <td>nonrobust</td>    <th>                     </th>      <td> </td>     \n",
       "</tr>\n",
       "</table>\n",
       "<table class=\"simpletable\">\n",
       "<tr>\n",
       "       <td></td>          <th>coef</th>     <th>std err</th>      <th>t</th>      <th>P>|t|</th>  <th>[0.025</th>    <th>0.975]</th>  \n",
       "</tr>\n",
       "<tr>\n",
       "  <th>const</th>       <td> 8.557e+06</td> <td> 3.02e+05</td> <td>   28.380</td> <td> 0.000</td> <td> 7.97e+06</td> <td> 9.15e+06</td>\n",
       "</tr>\n",
       "<tr>\n",
       "  <th>bedrooms</th>    <td>-1.755e+05</td> <td> 5458.360</td> <td>  -32.160</td> <td> 0.000</td> <td>-1.86e+05</td> <td>-1.65e+05</td>\n",
       "</tr>\n",
       "<tr>\n",
       "  <th>bathrooms</th>   <td> 1.385e+05</td> <td> 7901.403</td> <td>   17.534</td> <td> 0.000</td> <td> 1.23e+05</td> <td> 1.54e+05</td>\n",
       "</tr>\n",
       "<tr>\n",
       "  <th>sqft_living</th> <td>  617.3256</td> <td>    6.984</td> <td>   88.391</td> <td> 0.000</td> <td>  603.637</td> <td>  631.015</td>\n",
       "</tr>\n",
       "<tr>\n",
       "  <th>floors</th>      <td> 2.942e+04</td> <td> 8889.428</td> <td>    3.309</td> <td> 0.001</td> <td>  1.2e+04</td> <td> 4.68e+04</td>\n",
       "</tr>\n",
       "<tr>\n",
       "  <th>yr_built</th>    <td>-4318.6416</td> <td>  156.684</td> <td>  -27.563</td> <td> 0.000</td> <td>-4625.749</td> <td>-4011.534</td>\n",
       "</tr>\n",
       "</table>\n",
       "<table class=\"simpletable\">\n",
       "<tr>\n",
       "  <th>Omnibus:</th>       <td>42215.436</td> <th>  Durbin-Watson:     </th>   <td>   1.308</td>  \n",
       "</tr>\n",
       "<tr>\n",
       "  <th>Prob(Omnibus):</th>  <td> 0.000</td>   <th>  Jarque-Bera (JB):  </th> <td>52496885.692</td>\n",
       "</tr>\n",
       "<tr>\n",
       "  <th>Skew:</th>           <td> 8.215</td>   <th>  Prob(JB):          </th>   <td>    0.00</td>  \n",
       "</tr>\n",
       "<tr>\n",
       "  <th>Kurtosis:</th>       <td>210.178</td>  <th>  Cond. No.          </th>   <td>2.25e+05</td>  \n",
       "</tr>\n",
       "</table><br/><br/>Notes:<br/>[1] Standard Errors assume that the covariance matrix of the errors is correctly specified.<br/>[2] The condition number is large, 2.25e+05. This might indicate that there are<br/>strong multicollinearity or other numerical problems."
      ],
      "text/plain": [
       "<class 'statsmodels.iolib.summary.Summary'>\n",
       "\"\"\"\n",
       "                            OLS Regression Results                            \n",
       "==============================================================================\n",
       "Dep. Variable:                  price   R-squared:                       0.414\n",
       "Model:                            OLS   Adj. R-squared:                  0.414\n",
       "Method:                 Least Squares   F-statistic:                     4127.\n",
       "Date:                Thu, 30 Mar 2023   Prob (F-statistic):               0.00\n",
       "Time:                        13:18:04   Log-Likelihood:            -4.3336e+05\n",
       "No. Observations:               29170   AIC:                         8.667e+05\n",
       "Df Residuals:                   29164   BIC:                         8.668e+05\n",
       "Df Model:                           5                                         \n",
       "Covariance Type:            nonrobust                                         \n",
       "===============================================================================\n",
       "                  coef    std err          t      P>|t|      [0.025      0.975]\n",
       "-------------------------------------------------------------------------------\n",
       "const        8.557e+06   3.02e+05     28.380      0.000    7.97e+06    9.15e+06\n",
       "bedrooms    -1.755e+05   5458.360    -32.160      0.000   -1.86e+05   -1.65e+05\n",
       "bathrooms    1.385e+05   7901.403     17.534      0.000    1.23e+05    1.54e+05\n",
       "sqft_living   617.3256      6.984     88.391      0.000     603.637     631.015\n",
       "floors       2.942e+04   8889.428      3.309      0.001     1.2e+04    4.68e+04\n",
       "yr_built    -4318.6416    156.684    -27.563      0.000   -4625.749   -4011.534\n",
       "==============================================================================\n",
       "Omnibus:                    42215.436   Durbin-Watson:                   1.308\n",
       "Prob(Omnibus):                  0.000   Jarque-Bera (JB):         52496885.692\n",
       "Skew:                           8.215   Prob(JB):                         0.00\n",
       "Kurtosis:                     210.178   Cond. No.                     2.25e+05\n",
       "==============================================================================\n",
       "\n",
       "Notes:\n",
       "[1] Standard Errors assume that the covariance matrix of the errors is correctly specified.\n",
       "[2] The condition number is large, 2.25e+05. This might indicate that there are\n",
       "strong multicollinearity or other numerical problems.\n",
       "\"\"\""
      ]
     },
     "execution_count": 59,
     "metadata": {},
     "output_type": "execute_result"
    }
   ],
   "source": [
    "# This produces r^2 of .414, Cond. 2.25e+05\n",
    "df_mlr_tester2 = df_clean[['price','bedrooms', 'bathrooms', 'sqft_living',\n",
    "       'floors','yr_built']]\n",
    "mlr(df_mlr_tester2,'price')"
   ]
  },
  {
   "cell_type": "code",
   "execution_count": 60,
   "metadata": {
    "scrolled": true
   },
   "outputs": [
    {
     "data": {
      "text/plain": [
       "Index(['date', 'price', 'bedrooms', 'bathrooms', 'sqft_living', 'sqft_lot',\n",
       "       'floors', 'waterfront', 'greenbelt', 'nuisance', 'view', 'condition',\n",
       "       'grade', 'sqft_above', 'sqft_basement', 'sqft_garage', 'sqft_patio',\n",
       "       'yr_built', 'yr_renovated', 'lat', 'long', 'MHHI1', 'traffic_de',\n",
       "       'toxic_rele', 'hazardou_2', 'SCHDST_210', 'SCHDST_216', 'SCHDST_400',\n",
       "       'SCHDST_401', 'SCHDST_402', 'SCHDST_403', 'SCHDST_404', 'SCHDST_405',\n",
       "       'SCHDST_406', 'SCHDST_407', 'SCHDST_408', 'SCHDST_409', 'SCHDST_410',\n",
       "       'SCHDST_411', 'SCHDST_412', 'SCHDST_414', 'SCHDST_415', 'SCHDST_417',\n",
       "       'SCHDST_888'],\n",
       "      dtype='object')"
      ]
     },
     "execution_count": 60,
     "metadata": {},
     "output_type": "execute_result"
    }
   ],
   "source": [
    "df_clean_f = df_clean.copy()\n",
    "df_clean_f.columns"
   ]
  },
  {
   "cell_type": "code",
   "execution_count": 61,
   "metadata": {},
   "outputs": [
    {
     "data": {
      "text/plain": [
       "Index(['price', 'bedrooms', 'bathrooms', 'sqft_living', 'floors', 'waterfront',\n",
       "       'greenbelt', 'nuisance', 'view', 'condition', 'grade', 'yr_built',\n",
       "       'MHHI1', 'traffic_de', 'hazardou_2', 'SCHDST_210', 'SCHDST_216',\n",
       "       'SCHDST_400', 'SCHDST_401', 'SCHDST_402', 'SCHDST_403', 'SCHDST_404',\n",
       "       'SCHDST_405', 'SCHDST_406', 'SCHDST_407', 'SCHDST_408', 'SCHDST_409',\n",
       "       'SCHDST_410', 'SCHDST_411', 'SCHDST_412', 'SCHDST_414', 'SCHDST_415',\n",
       "       'SCHDST_417', 'SCHDST_888'],\n",
       "      dtype='object')"
      ]
     },
     "execution_count": 61,
     "metadata": {},
     "output_type": "execute_result"
    }
   ],
   "source": [
    "df_clean_f['sqft_living'] = np.log(df_clean_f['sqft_living'])\n",
    "remove = ['lat','long','date','sqft_above','sqft_lot','toxic_rele','yr_renovated',\n",
    "          'sqft_basement', 'sqft_garage', 'sqft_patio']\n",
    "df_clean_f1 = df_clean_f.drop(columns=remove)\n",
    "df_clean_f1.columns"
   ]
  },
  {
   "cell_type": "code",
   "execution_count": 62,
   "metadata": {
    "scrolled": true
   },
   "outputs": [
    {
     "name": "stdout",
     "output_type": "stream",
     "text": [
      "The following columns were dropped due to being object types\n",
      "Index([], dtype='object')\n"
     ]
    },
    {
     "data": {
      "text/html": [
       "<table class=\"simpletable\">\n",
       "<caption>OLS Regression Results</caption>\n",
       "<tr>\n",
       "  <th>Dep. Variable:</th>          <td>price</td>      <th>  R-squared:         </th>  <td>   0.575</td>  \n",
       "</tr>\n",
       "<tr>\n",
       "  <th>Model:</th>                   <td>OLS</td>       <th>  Adj. R-squared:    </th>  <td>   0.575</td>  \n",
       "</tr>\n",
       "<tr>\n",
       "  <th>Method:</th>             <td>Least Squares</td>  <th>  F-statistic:       </th>  <td>   1195.</td>  \n",
       "</tr>\n",
       "<tr>\n",
       "  <th>Date:</th>             <td>Thu, 30 Mar 2023</td> <th>  Prob (F-statistic):</th>   <td>  0.00</td>   \n",
       "</tr>\n",
       "<tr>\n",
       "  <th>Time:</th>                 <td>13:18:04</td>     <th>  Log-Likelihood:    </th> <td>-4.2868e+05</td>\n",
       "</tr>\n",
       "<tr>\n",
       "  <th>No. Observations:</th>      <td> 29170</td>      <th>  AIC:               </th>  <td>8.574e+05</td> \n",
       "</tr>\n",
       "<tr>\n",
       "  <th>Df Residuals:</th>          <td> 29136</td>      <th>  BIC:               </th>  <td>8.577e+05</td> \n",
       "</tr>\n",
       "<tr>\n",
       "  <th>Df Model:</th>              <td>    33</td>      <th>                     </th>      <td> </td>     \n",
       "</tr>\n",
       "<tr>\n",
       "  <th>Covariance Type:</th>      <td>nonrobust</td>    <th>                     </th>      <td> </td>     \n",
       "</tr>\n",
       "</table>\n",
       "<table class=\"simpletable\">\n",
       "<tr>\n",
       "       <td></td>          <th>coef</th>     <th>std err</th>      <th>t</th>      <th>P>|t|</th>  <th>[0.025</th>    <th>0.975]</th>  \n",
       "</tr>\n",
       "<tr>\n",
       "  <th>const</th>       <td>  3.82e+06</td> <td> 3.44e+05</td> <td>   11.096</td> <td> 0.000</td> <td> 3.15e+06</td> <td> 4.49e+06</td>\n",
       "</tr>\n",
       "<tr>\n",
       "  <th>bedrooms</th>    <td>-3.014e+04</td> <td> 5040.806</td> <td>   -5.980</td> <td> 0.000</td> <td>   -4e+04</td> <td>-2.03e+04</td>\n",
       "</tr>\n",
       "<tr>\n",
       "  <th>bathrooms</th>   <td> 1.694e+05</td> <td> 6671.478</td> <td>   25.399</td> <td> 0.000</td> <td> 1.56e+05</td> <td> 1.83e+05</td>\n",
       "</tr>\n",
       "<tr>\n",
       "  <th>sqft_living</th> <td> 2.437e+05</td> <td> 1.62e+04</td> <td>   15.062</td> <td> 0.000</td> <td> 2.12e+05</td> <td> 2.75e+05</td>\n",
       "</tr>\n",
       "<tr>\n",
       "  <th>floors</th>      <td>-1.694e+04</td> <td> 8343.474</td> <td>   -2.030</td> <td> 0.042</td> <td>-3.33e+04</td> <td> -586.854</td>\n",
       "</tr>\n",
       "<tr>\n",
       "  <th>waterfront</th>  <td> 1.068e+06</td> <td> 2.94e+04</td> <td>   36.307</td> <td> 0.000</td> <td> 1.01e+06</td> <td> 1.13e+06</td>\n",
       "</tr>\n",
       "<tr>\n",
       "  <th>greenbelt</th>   <td> -5.09e+04</td> <td>  2.2e+04</td> <td>   -2.311</td> <td> 0.021</td> <td>-9.41e+04</td> <td>-7735.509</td>\n",
       "</tr>\n",
       "<tr>\n",
       "  <th>nuisance</th>    <td>-2.317e+04</td> <td> 9341.590</td> <td>   -2.480</td> <td> 0.013</td> <td>-4.15e+04</td> <td>-4860.930</td>\n",
       "</tr>\n",
       "<tr>\n",
       "  <th>view</th>        <td> 1.062e+05</td> <td> 4672.065</td> <td>   22.728</td> <td> 0.000</td> <td>  9.7e+04</td> <td> 1.15e+05</td>\n",
       "</tr>\n",
       "<tr>\n",
       "  <th>condition</th>   <td> 2407.6814</td> <td> 5240.805</td> <td>    0.459</td> <td> 0.646</td> <td>-7864.535</td> <td> 1.27e+04</td>\n",
       "</tr>\n",
       "<tr>\n",
       "  <th>grade</th>       <td> 2.304e+05</td> <td> 5167.115</td> <td>   44.591</td> <td> 0.000</td> <td>  2.2e+05</td> <td> 2.41e+05</td>\n",
       "</tr>\n",
       "<tr>\n",
       "  <th>yr_built</th>    <td>-3482.2390</td> <td>  165.710</td> <td>  -21.014</td> <td> 0.000</td> <td>-3807.039</td> <td>-3157.439</td>\n",
       "</tr>\n",
       "<tr>\n",
       "  <th>MHHI1</th>       <td>    4.3286</td> <td>    0.157</td> <td>   27.491</td> <td> 0.000</td> <td>    4.020</td> <td>    4.637</td>\n",
       "</tr>\n",
       "<tr>\n",
       "  <th>traffic_de</th>  <td> 1.461e+04</td> <td> 1453.751</td> <td>   10.048</td> <td> 0.000</td> <td> 1.18e+04</td> <td> 1.75e+04</td>\n",
       "</tr>\n",
       "<tr>\n",
       "  <th>hazardou_2</th>  <td> -2.99e+04</td> <td> 3005.963</td> <td>   -9.948</td> <td> 0.000</td> <td>-3.58e+04</td> <td> -2.4e+04</td>\n",
       "</tr>\n",
       "<tr>\n",
       "  <th>SCHDST_210</th>  <td>-2.751e+05</td> <td> 2.04e+04</td> <td>  -13.499</td> <td> 0.000</td> <td>-3.15e+05</td> <td>-2.35e+05</td>\n",
       "</tr>\n",
       "<tr>\n",
       "  <th>SCHDST_216</th>  <td>-3.773e+05</td> <td> 2.46e+04</td> <td>  -15.363</td> <td> 0.000</td> <td>-4.25e+05</td> <td>-3.29e+05</td>\n",
       "</tr>\n",
       "<tr>\n",
       "  <th>SCHDST_400</th>  <td> 6.649e+05</td> <td> 3.46e+04</td> <td>   19.210</td> <td> 0.000</td> <td> 5.97e+05</td> <td> 7.33e+05</td>\n",
       "</tr>\n",
       "<tr>\n",
       "  <th>SCHDST_401</th>  <td>-6.833e+04</td> <td> 1.93e+04</td> <td>   -3.548</td> <td> 0.000</td> <td>-1.06e+05</td> <td>-3.06e+04</td>\n",
       "</tr>\n",
       "<tr>\n",
       "  <th>SCHDST_402</th>  <td>-1.911e+05</td> <td> 4.39e+04</td> <td>   -4.356</td> <td> 0.000</td> <td>-2.77e+05</td> <td>-1.05e+05</td>\n",
       "</tr>\n",
       "<tr>\n",
       "  <th>SCHDST_403</th>  <td>-8.679e+04</td> <td> 1.99e+04</td> <td>   -4.352</td> <td> 0.000</td> <td>-1.26e+05</td> <td>-4.77e+04</td>\n",
       "</tr>\n",
       "<tr>\n",
       "  <th>SCHDST_404</th>  <td>-5.377e+05</td> <td> 1.26e+05</td> <td>   -4.284</td> <td> 0.000</td> <td>-7.84e+05</td> <td>-2.92e+05</td>\n",
       "</tr>\n",
       "<tr>\n",
       "  <th>SCHDST_405</th>  <td> 6.705e+05</td> <td> 1.81e+04</td> <td>   37.087</td> <td> 0.000</td> <td> 6.35e+05</td> <td> 7.06e+05</td>\n",
       "</tr>\n",
       "<tr>\n",
       "  <th>SCHDST_406</th>  <td>-2.421e+04</td> <td> 5.03e+04</td> <td>   -0.481</td> <td> 0.630</td> <td>-1.23e+05</td> <td> 7.44e+04</td>\n",
       "</tr>\n",
       "<tr>\n",
       "  <th>SCHDST_407</th>  <td>-3.547e+05</td> <td> 3.11e+04</td> <td>  -11.416</td> <td> 0.000</td> <td>-4.16e+05</td> <td>-2.94e+05</td>\n",
       "</tr>\n",
       "<tr>\n",
       "  <th>SCHDST_408</th>  <td>-2.624e+05</td> <td> 2.06e+04</td> <td>  -12.752</td> <td> 0.000</td> <td>-3.03e+05</td> <td>-2.22e+05</td>\n",
       "</tr>\n",
       "<tr>\n",
       "  <th>SCHDST_409</th>  <td>-3.113e+05</td> <td> 2.13e+04</td> <td>  -14.611</td> <td> 0.000</td> <td>-3.53e+05</td> <td> -2.7e+05</td>\n",
       "</tr>\n",
       "<tr>\n",
       "  <th>SCHDST_410</th>  <td>-2.857e+05</td> <td> 2.41e+04</td> <td>  -11.858</td> <td> 0.000</td> <td>-3.33e+05</td> <td>-2.38e+05</td>\n",
       "</tr>\n",
       "<tr>\n",
       "  <th>SCHDST_411</th>  <td>-8840.4987</td> <td> 1.78e+04</td> <td>   -0.495</td> <td> 0.620</td> <td>-4.38e+04</td> <td> 2.61e+04</td>\n",
       "</tr>\n",
       "<tr>\n",
       "  <th>SCHDST_412</th>  <td>-1.228e+05</td> <td> 2.07e+04</td> <td>   -5.920</td> <td> 0.000</td> <td>-1.63e+05</td> <td>-8.21e+04</td>\n",
       "</tr>\n",
       "<tr>\n",
       "  <th>SCHDST_414</th>  <td> 1.268e+05</td> <td> 1.77e+04</td> <td>    7.153</td> <td> 0.000</td> <td>  9.2e+04</td> <td> 1.62e+05</td>\n",
       "</tr>\n",
       "<tr>\n",
       "  <th>SCHDST_415</th>  <td>-2.787e+05</td> <td>  1.9e+04</td> <td>  -14.631</td> <td> 0.000</td> <td>-3.16e+05</td> <td>-2.41e+05</td>\n",
       "</tr>\n",
       "<tr>\n",
       "  <th>SCHDST_417</th>  <td> -1.59e+05</td> <td> 2.17e+04</td> <td>   -7.315</td> <td> 0.000</td> <td>-2.02e+05</td> <td>-1.16e+05</td>\n",
       "</tr>\n",
       "<tr>\n",
       "  <th>SCHDST_888</th>  <td>-3.255e+05</td> <td> 5.89e+04</td> <td>   -5.526</td> <td> 0.000</td> <td>-4.41e+05</td> <td> -2.1e+05</td>\n",
       "</tr>\n",
       "</table>\n",
       "<table class=\"simpletable\">\n",
       "<tr>\n",
       "  <th>Omnibus:</th>       <td>47634.774</td> <th>  Durbin-Watson:     </th>   <td>   1.630</td>   \n",
       "</tr>\n",
       "<tr>\n",
       "  <th>Prob(Omnibus):</th>  <td> 0.000</td>   <th>  Jarque-Bera (JB):  </th> <td>106131460.061</td>\n",
       "</tr>\n",
       "<tr>\n",
       "  <th>Skew:</th>           <td>10.400</td>   <th>  Prob(JB):          </th>   <td>    0.00</td>   \n",
       "</tr>\n",
       "<tr>\n",
       "  <th>Kurtosis:</th>       <td>297.768</td>  <th>  Cond. No.          </th>   <td>9.57e+06</td>   \n",
       "</tr>\n",
       "</table><br/><br/>Notes:<br/>[1] Standard Errors assume that the covariance matrix of the errors is correctly specified.<br/>[2] The condition number is large, 9.57e+06. This might indicate that there are<br/>strong multicollinearity or other numerical problems."
      ],
      "text/plain": [
       "<class 'statsmodels.iolib.summary.Summary'>\n",
       "\"\"\"\n",
       "                            OLS Regression Results                            \n",
       "==============================================================================\n",
       "Dep. Variable:                  price   R-squared:                       0.575\n",
       "Model:                            OLS   Adj. R-squared:                  0.575\n",
       "Method:                 Least Squares   F-statistic:                     1195.\n",
       "Date:                Thu, 30 Mar 2023   Prob (F-statistic):               0.00\n",
       "Time:                        13:18:04   Log-Likelihood:            -4.2868e+05\n",
       "No. Observations:               29170   AIC:                         8.574e+05\n",
       "Df Residuals:                   29136   BIC:                         8.577e+05\n",
       "Df Model:                          33                                         \n",
       "Covariance Type:            nonrobust                                         \n",
       "===============================================================================\n",
       "                  coef    std err          t      P>|t|      [0.025      0.975]\n",
       "-------------------------------------------------------------------------------\n",
       "const         3.82e+06   3.44e+05     11.096      0.000    3.15e+06    4.49e+06\n",
       "bedrooms    -3.014e+04   5040.806     -5.980      0.000      -4e+04   -2.03e+04\n",
       "bathrooms    1.694e+05   6671.478     25.399      0.000    1.56e+05    1.83e+05\n",
       "sqft_living  2.437e+05   1.62e+04     15.062      0.000    2.12e+05    2.75e+05\n",
       "floors      -1.694e+04   8343.474     -2.030      0.042   -3.33e+04    -586.854\n",
       "waterfront   1.068e+06   2.94e+04     36.307      0.000    1.01e+06    1.13e+06\n",
       "greenbelt    -5.09e+04    2.2e+04     -2.311      0.021   -9.41e+04   -7735.509\n",
       "nuisance    -2.317e+04   9341.590     -2.480      0.013   -4.15e+04   -4860.930\n",
       "view         1.062e+05   4672.065     22.728      0.000     9.7e+04    1.15e+05\n",
       "condition    2407.6814   5240.805      0.459      0.646   -7864.535    1.27e+04\n",
       "grade        2.304e+05   5167.115     44.591      0.000     2.2e+05    2.41e+05\n",
       "yr_built    -3482.2390    165.710    -21.014      0.000   -3807.039   -3157.439\n",
       "MHHI1           4.3286      0.157     27.491      0.000       4.020       4.637\n",
       "traffic_de   1.461e+04   1453.751     10.048      0.000    1.18e+04    1.75e+04\n",
       "hazardou_2   -2.99e+04   3005.963     -9.948      0.000   -3.58e+04    -2.4e+04\n",
       "SCHDST_210  -2.751e+05   2.04e+04    -13.499      0.000   -3.15e+05   -2.35e+05\n",
       "SCHDST_216  -3.773e+05   2.46e+04    -15.363      0.000   -4.25e+05   -3.29e+05\n",
       "SCHDST_400   6.649e+05   3.46e+04     19.210      0.000    5.97e+05    7.33e+05\n",
       "SCHDST_401  -6.833e+04   1.93e+04     -3.548      0.000   -1.06e+05   -3.06e+04\n",
       "SCHDST_402  -1.911e+05   4.39e+04     -4.356      0.000   -2.77e+05   -1.05e+05\n",
       "SCHDST_403  -8.679e+04   1.99e+04     -4.352      0.000   -1.26e+05   -4.77e+04\n",
       "SCHDST_404  -5.377e+05   1.26e+05     -4.284      0.000   -7.84e+05   -2.92e+05\n",
       "SCHDST_405   6.705e+05   1.81e+04     37.087      0.000    6.35e+05    7.06e+05\n",
       "SCHDST_406  -2.421e+04   5.03e+04     -0.481      0.630   -1.23e+05    7.44e+04\n",
       "SCHDST_407  -3.547e+05   3.11e+04    -11.416      0.000   -4.16e+05   -2.94e+05\n",
       "SCHDST_408  -2.624e+05   2.06e+04    -12.752      0.000   -3.03e+05   -2.22e+05\n",
       "SCHDST_409  -3.113e+05   2.13e+04    -14.611      0.000   -3.53e+05    -2.7e+05\n",
       "SCHDST_410  -2.857e+05   2.41e+04    -11.858      0.000   -3.33e+05   -2.38e+05\n",
       "SCHDST_411  -8840.4987   1.78e+04     -0.495      0.620   -4.38e+04    2.61e+04\n",
       "SCHDST_412  -1.228e+05   2.07e+04     -5.920      0.000   -1.63e+05   -8.21e+04\n",
       "SCHDST_414   1.268e+05   1.77e+04      7.153      0.000     9.2e+04    1.62e+05\n",
       "SCHDST_415  -2.787e+05    1.9e+04    -14.631      0.000   -3.16e+05   -2.41e+05\n",
       "SCHDST_417   -1.59e+05   2.17e+04     -7.315      0.000   -2.02e+05   -1.16e+05\n",
       "SCHDST_888  -3.255e+05   5.89e+04     -5.526      0.000   -4.41e+05    -2.1e+05\n",
       "==============================================================================\n",
       "Omnibus:                    47634.774   Durbin-Watson:                   1.630\n",
       "Prob(Omnibus):                  0.000   Jarque-Bera (JB):        106131460.061\n",
       "Skew:                          10.400   Prob(JB):                         0.00\n",
       "Kurtosis:                     297.768   Cond. No.                     9.57e+06\n",
       "==============================================================================\n",
       "\n",
       "Notes:\n",
       "[1] Standard Errors assume that the covariance matrix of the errors is correctly specified.\n",
       "[2] The condition number is large, 9.57e+06. This might indicate that there are\n",
       "strong multicollinearity or other numerical problems.\n",
       "\"\"\""
      ]
     },
     "execution_count": 62,
     "metadata": {},
     "output_type": "execute_result"
    }
   ],
   "source": [
    "mlr(df_clean_f1,'price')"
   ]
  },
  {
   "cell_type": "code",
   "execution_count": 63,
   "metadata": {
    "scrolled": true
   },
   "outputs": [
    {
     "ename": "NameError",
     "evalue": "name 'df_no_outliers' is not defined",
     "output_type": "error",
     "traceback": [
      "\u001b[0;31m---------------------------------------------------------------------------\u001b[0m",
      "\u001b[0;31mNameError\u001b[0m                                 Traceback (most recent call last)",
      "\u001b[0;32m<ipython-input-63-b3f527aca6de>\u001b[0m in \u001b[0;36m<module>\u001b[0;34m\u001b[0m\n\u001b[1;32m      1\u001b[0m \u001b[0;31m# no outliers data set\u001b[0m\u001b[0;34m\u001b[0m\u001b[0;34m\u001b[0m\u001b[0;34m\u001b[0m\u001b[0m\n\u001b[0;32m----> 2\u001b[0;31m df_no_outliers1 = df_no_outliers[[ 'price', 'bedrooms', 'bathrooms', 'sqft_living',\n\u001b[0m\u001b[1;32m      3\u001b[0m        \u001b[0;34m'floors'\u001b[0m\u001b[0;34m,\u001b[0m \u001b[0;34m'waterfront'\u001b[0m\u001b[0;34m,\u001b[0m \u001b[0;34m'greenbelt'\u001b[0m\u001b[0;34m,\u001b[0m \u001b[0;34m'nuisance'\u001b[0m\u001b[0;34m,\u001b[0m \u001b[0;34m'view'\u001b[0m\u001b[0;34m,\u001b[0m\u001b[0;34m\u001b[0m\u001b[0;34m\u001b[0m\u001b[0m\n\u001b[1;32m      4\u001b[0m        \u001b[0;34m'condition'\u001b[0m\u001b[0;34m,\u001b[0m \u001b[0;34m'grade'\u001b[0m\u001b[0;34m,\u001b[0m \u001b[0;34m'sqft_above'\u001b[0m\u001b[0;34m,\u001b[0m \u001b[0;34m'sqft_basement'\u001b[0m\u001b[0;34m,\u001b[0m \u001b[0;34m'sqft_garage'\u001b[0m\u001b[0;34m,\u001b[0m\u001b[0;34m\u001b[0m\u001b[0;34m\u001b[0m\u001b[0m\n\u001b[1;32m      5\u001b[0m        \u001b[0;34m'sqft_patio'\u001b[0m\u001b[0;34m,\u001b[0m \u001b[0;34m'yr_built'\u001b[0m\u001b[0;34m,\u001b[0m\u001b[0;34m'MHHI1'\u001b[0m\u001b[0;34m,\u001b[0m\u001b[0;34m\u001b[0m\u001b[0;34m\u001b[0m\u001b[0m\n",
      "\u001b[0;31mNameError\u001b[0m: name 'df_no_outliers' is not defined"
     ]
    }
   ],
   "source": [
    "# no outliers data set\n",
    "df_no_outliers1 = df_no_outliers[[ 'price', 'bedrooms', 'bathrooms', 'sqft_living',\n",
    "       'floors', 'waterfront', 'greenbelt', 'nuisance', 'view',\n",
    "       'condition', 'grade', 'sqft_above', 'sqft_basement', 'sqft_garage',\n",
    "       'sqft_patio', 'yr_built','MHHI1',\n",
    "       'traffic_de', 'toxic_rele', 'hazardou_2']]\n",
    "mlr(df_no_outliers1,'price')"
   ]
  },
  {
   "cell_type": "markdown",
   "metadata": {},
   "source": [
    "# Testing the VIFs\n",
    "- Use to gauge how much the error around the beta for a particular variable is increased because of multicollinearity"
   ]
  },
  {
   "cell_type": "code",
   "execution_count": null,
   "metadata": {
    "scrolled": true
   },
   "outputs": [],
   "source": [
    "df_mlr = df_clean.drop(columns=['lat','long','date','sqft_above','sqft_lot','sqft_garage',\n",
    "                           'sqft_basement','sqft_patio','yr_renovated'], axis=1)\n",
    "# vif_model = sm.OLS(endog=df['table'], exog=sm.add_constant(df.drop('table', axis=1))).fit()\n",
    "\n",
    "vif_model = mlr(df_mlr,'price','fit')\n",
    "vif_table = 1 / (1-vif_model.rsquared)\n",
    "vif_table"
   ]
  },
  {
   "cell_type": "code",
   "execution_count": null,
   "metadata": {
    "scrolled": true
   },
   "outputs": [],
   "source": [
    "vif_model.summary()"
   ]
  },
  {
   "cell_type": "code",
   "execution_count": null,
   "metadata": {
    "scrolled": true
   },
   "outputs": [],
   "source": [
    "sm.graphics.plot_regress_exog(vif_model, 'view', fig=plt.figure(figsize=(12, 8)));"
   ]
  },
  {
   "cell_type": "code",
   "execution_count": null,
   "metadata": {},
   "outputs": [],
   "source": [
    "from sklearn.linear_model import LinearRegression\n",
    "df_object = df_mlr.select_dtypes(include='object')\n",
    "print(f'The following columns were dropped due to being object types\\n{df_object.columns}')\n",
    "df_skl = df_mlr.drop(df_object,axis=1)\n",
    "model_sklr = LinearRegression().fit(df_skl, df_mlr['price'])"
   ]
  },
  {
   "cell_type": "code",
   "execution_count": null,
   "metadata": {},
   "outputs": [],
   "source": [
    "model_sklr.score(df_skl, df_mlr['price'])"
   ]
  },
  {
   "cell_type": "markdown",
   "metadata": {},
   "source": [
    "## Simple Model"
   ]
  },
  {
   "cell_type": "code",
   "execution_count": 64,
   "metadata": {
    "scrolled": true
   },
   "outputs": [
    {
     "name": "stdout",
     "output_type": "stream",
     "text": [
      "The following columns were dropped due to being object types\n",
      "Index([], dtype='object')\n"
     ]
    },
    {
     "ename": "ValueError",
     "evalue": "Pandas data cast to numpy dtype of object. Check input data with np.asarray(data).",
     "output_type": "error",
     "traceback": [
      "\u001b[0;31m---------------------------------------------------------------------------\u001b[0m",
      "\u001b[0;31mValueError\u001b[0m                                Traceback (most recent call last)",
      "\u001b[0;32m<ipython-input-64-dda795c9fe3a>\u001b[0m in \u001b[0;36m<module>\u001b[0;34m\u001b[0m\n\u001b[0;32m----> 1\u001b[0;31m \u001b[0mmlr\u001b[0m\u001b[0;34m(\u001b[0m\u001b[0mdf_clean\u001b[0m\u001b[0;34m,\u001b[0m\u001b[0;34m'price'\u001b[0m\u001b[0;34m,\u001b[0m\u001b[0;32mTrue\u001b[0m\u001b[0;34m)\u001b[0m\u001b[0;34m\u001b[0m\u001b[0;34m\u001b[0m\u001b[0m\n\u001b[0m",
      "\u001b[0;32m<ipython-input-57-bb23df2912d8>\u001b[0m in \u001b[0;36mmlr\u001b[0;34m(df, column, model_t, simple)\u001b[0m\n\u001b[1;32m     32\u001b[0m     \u001b[0my\u001b[0m \u001b[0;34m=\u001b[0m \u001b[0mdf1\u001b[0m\u001b[0;34m[\u001b[0m\u001b[0mcolumn\u001b[0m\u001b[0;34m]\u001b[0m\u001b[0;34m\u001b[0m\u001b[0;34m\u001b[0m\u001b[0m\n\u001b[1;32m     33\u001b[0m     \u001b[0;31m# create model\u001b[0m\u001b[0;34m\u001b[0m\u001b[0;34m\u001b[0m\u001b[0;34m\u001b[0m\u001b[0m\n\u001b[0;32m---> 34\u001b[0;31m     \u001b[0mmodel\u001b[0m \u001b[0;34m=\u001b[0m \u001b[0msm\u001b[0m\u001b[0;34m.\u001b[0m\u001b[0mOLS\u001b[0m\u001b[0;34m(\u001b[0m\u001b[0my\u001b[0m\u001b[0;34m,\u001b[0m\u001b[0msm\u001b[0m\u001b[0;34m.\u001b[0m\u001b[0madd_constant\u001b[0m\u001b[0;34m(\u001b[0m\u001b[0mx\u001b[0m\u001b[0;34m)\u001b[0m\u001b[0;34m)\u001b[0m\u001b[0;34m.\u001b[0m\u001b[0mfit\u001b[0m\u001b[0;34m(\u001b[0m\u001b[0;34m)\u001b[0m\u001b[0;34m\u001b[0m\u001b[0;34m\u001b[0m\u001b[0m\n\u001b[0m\u001b[1;32m     35\u001b[0m \u001b[0;34m\u001b[0m\u001b[0m\n\u001b[1;32m     36\u001b[0m     \u001b[0;32mif\u001b[0m \u001b[0mmodel_t\u001b[0m \u001b[0;34m==\u001b[0m \u001b[0;34m'x'\u001b[0m\u001b[0;34m:\u001b[0m\u001b[0;34m\u001b[0m\u001b[0;34m\u001b[0m\u001b[0m\n",
      "\u001b[0;32m~/opt/anaconda3/envs/learn-env/lib/python3.8/site-packages/statsmodels/regression/linear_model.py\u001b[0m in \u001b[0;36m__init__\u001b[0;34m(self, endog, exog, missing, hasconst, **kwargs)\u001b[0m\n\u001b[1;32m    870\u001b[0m     def __init__(self, endog, exog=None, missing='none', hasconst=None,\n\u001b[1;32m    871\u001b[0m                  **kwargs):\n\u001b[0;32m--> 872\u001b[0;31m         super(OLS, self).__init__(endog, exog, missing=missing,\n\u001b[0m\u001b[1;32m    873\u001b[0m                                   hasconst=hasconst, **kwargs)\n\u001b[1;32m    874\u001b[0m         \u001b[0;32mif\u001b[0m \u001b[0;34m\"weights\"\u001b[0m \u001b[0;32min\u001b[0m \u001b[0mself\u001b[0m\u001b[0;34m.\u001b[0m\u001b[0m_init_keys\u001b[0m\u001b[0;34m:\u001b[0m\u001b[0;34m\u001b[0m\u001b[0;34m\u001b[0m\u001b[0m\n",
      "\u001b[0;32m~/opt/anaconda3/envs/learn-env/lib/python3.8/site-packages/statsmodels/regression/linear_model.py\u001b[0m in \u001b[0;36m__init__\u001b[0;34m(self, endog, exog, weights, missing, hasconst, **kwargs)\u001b[0m\n\u001b[1;32m    701\u001b[0m         \u001b[0;32melse\u001b[0m\u001b[0;34m:\u001b[0m\u001b[0;34m\u001b[0m\u001b[0;34m\u001b[0m\u001b[0m\n\u001b[1;32m    702\u001b[0m             \u001b[0mweights\u001b[0m \u001b[0;34m=\u001b[0m \u001b[0mweights\u001b[0m\u001b[0;34m.\u001b[0m\u001b[0msqueeze\u001b[0m\u001b[0;34m(\u001b[0m\u001b[0;34m)\u001b[0m\u001b[0;34m\u001b[0m\u001b[0;34m\u001b[0m\u001b[0m\n\u001b[0;32m--> 703\u001b[0;31m         super(WLS, self).__init__(endog, exog, missing=missing,\n\u001b[0m\u001b[1;32m    704\u001b[0m                                   weights=weights, hasconst=hasconst, **kwargs)\n\u001b[1;32m    705\u001b[0m         \u001b[0mnobs\u001b[0m \u001b[0;34m=\u001b[0m \u001b[0mself\u001b[0m\u001b[0;34m.\u001b[0m\u001b[0mexog\u001b[0m\u001b[0;34m.\u001b[0m\u001b[0mshape\u001b[0m\u001b[0;34m[\u001b[0m\u001b[0;36m0\u001b[0m\u001b[0;34m]\u001b[0m\u001b[0;34m\u001b[0m\u001b[0;34m\u001b[0m\u001b[0m\n",
      "\u001b[0;32m~/opt/anaconda3/envs/learn-env/lib/python3.8/site-packages/statsmodels/regression/linear_model.py\u001b[0m in \u001b[0;36m__init__\u001b[0;34m(self, endog, exog, **kwargs)\u001b[0m\n\u001b[1;32m    188\u001b[0m     \"\"\"\n\u001b[1;32m    189\u001b[0m     \u001b[0;32mdef\u001b[0m \u001b[0m__init__\u001b[0m\u001b[0;34m(\u001b[0m\u001b[0mself\u001b[0m\u001b[0;34m,\u001b[0m \u001b[0mendog\u001b[0m\u001b[0;34m,\u001b[0m \u001b[0mexog\u001b[0m\u001b[0;34m,\u001b[0m \u001b[0;34m**\u001b[0m\u001b[0mkwargs\u001b[0m\u001b[0;34m)\u001b[0m\u001b[0;34m:\u001b[0m\u001b[0;34m\u001b[0m\u001b[0;34m\u001b[0m\u001b[0m\n\u001b[0;32m--> 190\u001b[0;31m         \u001b[0msuper\u001b[0m\u001b[0;34m(\u001b[0m\u001b[0mRegressionModel\u001b[0m\u001b[0;34m,\u001b[0m \u001b[0mself\u001b[0m\u001b[0;34m)\u001b[0m\u001b[0;34m.\u001b[0m\u001b[0m__init__\u001b[0m\u001b[0;34m(\u001b[0m\u001b[0mendog\u001b[0m\u001b[0;34m,\u001b[0m \u001b[0mexog\u001b[0m\u001b[0;34m,\u001b[0m \u001b[0;34m**\u001b[0m\u001b[0mkwargs\u001b[0m\u001b[0;34m)\u001b[0m\u001b[0;34m\u001b[0m\u001b[0;34m\u001b[0m\u001b[0m\n\u001b[0m\u001b[1;32m    191\u001b[0m         \u001b[0mself\u001b[0m\u001b[0;34m.\u001b[0m\u001b[0m_data_attr\u001b[0m\u001b[0;34m.\u001b[0m\u001b[0mextend\u001b[0m\u001b[0;34m(\u001b[0m\u001b[0;34m[\u001b[0m\u001b[0;34m'pinv_wexog'\u001b[0m\u001b[0;34m,\u001b[0m \u001b[0;34m'weights'\u001b[0m\u001b[0;34m]\u001b[0m\u001b[0;34m)\u001b[0m\u001b[0;34m\u001b[0m\u001b[0;34m\u001b[0m\u001b[0m\n\u001b[1;32m    192\u001b[0m \u001b[0;34m\u001b[0m\u001b[0m\n",
      "\u001b[0;32m~/opt/anaconda3/envs/learn-env/lib/python3.8/site-packages/statsmodels/base/model.py\u001b[0m in \u001b[0;36m__init__\u001b[0;34m(self, endog, exog, **kwargs)\u001b[0m\n\u001b[1;32m    235\u001b[0m \u001b[0;34m\u001b[0m\u001b[0m\n\u001b[1;32m    236\u001b[0m     \u001b[0;32mdef\u001b[0m \u001b[0m__init__\u001b[0m\u001b[0;34m(\u001b[0m\u001b[0mself\u001b[0m\u001b[0;34m,\u001b[0m \u001b[0mendog\u001b[0m\u001b[0;34m,\u001b[0m \u001b[0mexog\u001b[0m\u001b[0;34m=\u001b[0m\u001b[0;32mNone\u001b[0m\u001b[0;34m,\u001b[0m \u001b[0;34m**\u001b[0m\u001b[0mkwargs\u001b[0m\u001b[0;34m)\u001b[0m\u001b[0;34m:\u001b[0m\u001b[0;34m\u001b[0m\u001b[0;34m\u001b[0m\u001b[0m\n\u001b[0;32m--> 237\u001b[0;31m         \u001b[0msuper\u001b[0m\u001b[0;34m(\u001b[0m\u001b[0mLikelihoodModel\u001b[0m\u001b[0;34m,\u001b[0m \u001b[0mself\u001b[0m\u001b[0;34m)\u001b[0m\u001b[0;34m.\u001b[0m\u001b[0m__init__\u001b[0m\u001b[0;34m(\u001b[0m\u001b[0mendog\u001b[0m\u001b[0;34m,\u001b[0m \u001b[0mexog\u001b[0m\u001b[0;34m,\u001b[0m \u001b[0;34m**\u001b[0m\u001b[0mkwargs\u001b[0m\u001b[0;34m)\u001b[0m\u001b[0;34m\u001b[0m\u001b[0;34m\u001b[0m\u001b[0m\n\u001b[0m\u001b[1;32m    238\u001b[0m         \u001b[0mself\u001b[0m\u001b[0;34m.\u001b[0m\u001b[0minitialize\u001b[0m\u001b[0;34m(\u001b[0m\u001b[0;34m)\u001b[0m\u001b[0;34m\u001b[0m\u001b[0;34m\u001b[0m\u001b[0m\n\u001b[1;32m    239\u001b[0m \u001b[0;34m\u001b[0m\u001b[0m\n",
      "\u001b[0;32m~/opt/anaconda3/envs/learn-env/lib/python3.8/site-packages/statsmodels/base/model.py\u001b[0m in \u001b[0;36m__init__\u001b[0;34m(self, endog, exog, **kwargs)\u001b[0m\n\u001b[1;32m     75\u001b[0m         \u001b[0mmissing\u001b[0m \u001b[0;34m=\u001b[0m \u001b[0mkwargs\u001b[0m\u001b[0;34m.\u001b[0m\u001b[0mpop\u001b[0m\u001b[0;34m(\u001b[0m\u001b[0;34m'missing'\u001b[0m\u001b[0;34m,\u001b[0m \u001b[0;34m'none'\u001b[0m\u001b[0;34m)\u001b[0m\u001b[0;34m\u001b[0m\u001b[0;34m\u001b[0m\u001b[0m\n\u001b[1;32m     76\u001b[0m         \u001b[0mhasconst\u001b[0m \u001b[0;34m=\u001b[0m \u001b[0mkwargs\u001b[0m\u001b[0;34m.\u001b[0m\u001b[0mpop\u001b[0m\u001b[0;34m(\u001b[0m\u001b[0;34m'hasconst'\u001b[0m\u001b[0;34m,\u001b[0m \u001b[0;32mNone\u001b[0m\u001b[0;34m)\u001b[0m\u001b[0;34m\u001b[0m\u001b[0;34m\u001b[0m\u001b[0m\n\u001b[0;32m---> 77\u001b[0;31m         self.data = self._handle_data(endog, exog, missing, hasconst,\n\u001b[0m\u001b[1;32m     78\u001b[0m                                       **kwargs)\n\u001b[1;32m     79\u001b[0m         \u001b[0mself\u001b[0m\u001b[0;34m.\u001b[0m\u001b[0mk_constant\u001b[0m \u001b[0;34m=\u001b[0m \u001b[0mself\u001b[0m\u001b[0;34m.\u001b[0m\u001b[0mdata\u001b[0m\u001b[0;34m.\u001b[0m\u001b[0mk_constant\u001b[0m\u001b[0;34m\u001b[0m\u001b[0;34m\u001b[0m\u001b[0m\n",
      "\u001b[0;32m~/opt/anaconda3/envs/learn-env/lib/python3.8/site-packages/statsmodels/base/model.py\u001b[0m in \u001b[0;36m_handle_data\u001b[0;34m(self, endog, exog, missing, hasconst, **kwargs)\u001b[0m\n\u001b[1;32m     99\u001b[0m \u001b[0;34m\u001b[0m\u001b[0m\n\u001b[1;32m    100\u001b[0m     \u001b[0;32mdef\u001b[0m \u001b[0m_handle_data\u001b[0m\u001b[0;34m(\u001b[0m\u001b[0mself\u001b[0m\u001b[0;34m,\u001b[0m \u001b[0mendog\u001b[0m\u001b[0;34m,\u001b[0m \u001b[0mexog\u001b[0m\u001b[0;34m,\u001b[0m \u001b[0mmissing\u001b[0m\u001b[0;34m,\u001b[0m \u001b[0mhasconst\u001b[0m\u001b[0;34m,\u001b[0m \u001b[0;34m**\u001b[0m\u001b[0mkwargs\u001b[0m\u001b[0;34m)\u001b[0m\u001b[0;34m:\u001b[0m\u001b[0;34m\u001b[0m\u001b[0;34m\u001b[0m\u001b[0m\n\u001b[0;32m--> 101\u001b[0;31m         \u001b[0mdata\u001b[0m \u001b[0;34m=\u001b[0m \u001b[0mhandle_data\u001b[0m\u001b[0;34m(\u001b[0m\u001b[0mendog\u001b[0m\u001b[0;34m,\u001b[0m \u001b[0mexog\u001b[0m\u001b[0;34m,\u001b[0m \u001b[0mmissing\u001b[0m\u001b[0;34m,\u001b[0m \u001b[0mhasconst\u001b[0m\u001b[0;34m,\u001b[0m \u001b[0;34m**\u001b[0m\u001b[0mkwargs\u001b[0m\u001b[0;34m)\u001b[0m\u001b[0;34m\u001b[0m\u001b[0;34m\u001b[0m\u001b[0m\n\u001b[0m\u001b[1;32m    102\u001b[0m         \u001b[0;31m# kwargs arrays could have changed, easier to just attach here\u001b[0m\u001b[0;34m\u001b[0m\u001b[0;34m\u001b[0m\u001b[0;34m\u001b[0m\u001b[0m\n\u001b[1;32m    103\u001b[0m         \u001b[0;32mfor\u001b[0m \u001b[0mkey\u001b[0m \u001b[0;32min\u001b[0m \u001b[0mkwargs\u001b[0m\u001b[0;34m:\u001b[0m\u001b[0;34m\u001b[0m\u001b[0;34m\u001b[0m\u001b[0m\n",
      "\u001b[0;32m~/opt/anaconda3/envs/learn-env/lib/python3.8/site-packages/statsmodels/base/data.py\u001b[0m in \u001b[0;36mhandle_data\u001b[0;34m(endog, exog, missing, hasconst, **kwargs)\u001b[0m\n\u001b[1;32m    670\u001b[0m \u001b[0;34m\u001b[0m\u001b[0m\n\u001b[1;32m    671\u001b[0m     \u001b[0mklass\u001b[0m \u001b[0;34m=\u001b[0m \u001b[0mhandle_data_class_factory\u001b[0m\u001b[0;34m(\u001b[0m\u001b[0mendog\u001b[0m\u001b[0;34m,\u001b[0m \u001b[0mexog\u001b[0m\u001b[0;34m)\u001b[0m\u001b[0;34m\u001b[0m\u001b[0;34m\u001b[0m\u001b[0m\n\u001b[0;32m--> 672\u001b[0;31m     return klass(endog, exog=exog, missing=missing, hasconst=hasconst,\n\u001b[0m\u001b[1;32m    673\u001b[0m                  **kwargs)\n",
      "\u001b[0;32m~/opt/anaconda3/envs/learn-env/lib/python3.8/site-packages/statsmodels/base/data.py\u001b[0m in \u001b[0;36m__init__\u001b[0;34m(self, endog, exog, missing, hasconst, **kwargs)\u001b[0m\n\u001b[1;32m     81\u001b[0m             \u001b[0mself\u001b[0m\u001b[0;34m.\u001b[0m\u001b[0morig_endog\u001b[0m \u001b[0;34m=\u001b[0m \u001b[0mendog\u001b[0m\u001b[0;34m\u001b[0m\u001b[0;34m\u001b[0m\u001b[0m\n\u001b[1;32m     82\u001b[0m             \u001b[0mself\u001b[0m\u001b[0;34m.\u001b[0m\u001b[0morig_exog\u001b[0m \u001b[0;34m=\u001b[0m \u001b[0mexog\u001b[0m\u001b[0;34m\u001b[0m\u001b[0;34m\u001b[0m\u001b[0m\n\u001b[0;32m---> 83\u001b[0;31m             \u001b[0mself\u001b[0m\u001b[0;34m.\u001b[0m\u001b[0mendog\u001b[0m\u001b[0;34m,\u001b[0m \u001b[0mself\u001b[0m\u001b[0;34m.\u001b[0m\u001b[0mexog\u001b[0m \u001b[0;34m=\u001b[0m \u001b[0mself\u001b[0m\u001b[0;34m.\u001b[0m\u001b[0m_convert_endog_exog\u001b[0m\u001b[0;34m(\u001b[0m\u001b[0mendog\u001b[0m\u001b[0;34m,\u001b[0m \u001b[0mexog\u001b[0m\u001b[0;34m)\u001b[0m\u001b[0;34m\u001b[0m\u001b[0;34m\u001b[0m\u001b[0m\n\u001b[0m\u001b[1;32m     84\u001b[0m \u001b[0;34m\u001b[0m\u001b[0m\n\u001b[1;32m     85\u001b[0m         \u001b[0mself\u001b[0m\u001b[0;34m.\u001b[0m\u001b[0mconst_idx\u001b[0m \u001b[0;34m=\u001b[0m \u001b[0;32mNone\u001b[0m\u001b[0;34m\u001b[0m\u001b[0;34m\u001b[0m\u001b[0m\n",
      "\u001b[0;32m~/opt/anaconda3/envs/learn-env/lib/python3.8/site-packages/statsmodels/base/data.py\u001b[0m in \u001b[0;36m_convert_endog_exog\u001b[0;34m(self, endog, exog)\u001b[0m\n\u001b[1;32m    506\u001b[0m         \u001b[0mexog\u001b[0m \u001b[0;34m=\u001b[0m \u001b[0mexog\u001b[0m \u001b[0;32mif\u001b[0m \u001b[0mexog\u001b[0m \u001b[0;32mis\u001b[0m \u001b[0;32mNone\u001b[0m \u001b[0;32melse\u001b[0m \u001b[0mnp\u001b[0m\u001b[0;34m.\u001b[0m\u001b[0masarray\u001b[0m\u001b[0;34m(\u001b[0m\u001b[0mexog\u001b[0m\u001b[0;34m)\u001b[0m\u001b[0;34m\u001b[0m\u001b[0;34m\u001b[0m\u001b[0m\n\u001b[1;32m    507\u001b[0m         \u001b[0;32mif\u001b[0m \u001b[0mendog\u001b[0m\u001b[0;34m.\u001b[0m\u001b[0mdtype\u001b[0m \u001b[0;34m==\u001b[0m \u001b[0mobject\u001b[0m \u001b[0;32mor\u001b[0m \u001b[0mexog\u001b[0m \u001b[0;32mis\u001b[0m \u001b[0;32mnot\u001b[0m \u001b[0;32mNone\u001b[0m \u001b[0;32mand\u001b[0m \u001b[0mexog\u001b[0m\u001b[0;34m.\u001b[0m\u001b[0mdtype\u001b[0m \u001b[0;34m==\u001b[0m \u001b[0mobject\u001b[0m\u001b[0;34m:\u001b[0m\u001b[0;34m\u001b[0m\u001b[0;34m\u001b[0m\u001b[0m\n\u001b[0;32m--> 508\u001b[0;31m             raise ValueError(\"Pandas data cast to numpy dtype of object. \"\n\u001b[0m\u001b[1;32m    509\u001b[0m                              \"Check input data with np.asarray(data).\")\n\u001b[1;32m    510\u001b[0m         \u001b[0;32mreturn\u001b[0m \u001b[0msuper\u001b[0m\u001b[0;34m(\u001b[0m\u001b[0mPandasData\u001b[0m\u001b[0;34m,\u001b[0m \u001b[0mself\u001b[0m\u001b[0;34m)\u001b[0m\u001b[0;34m.\u001b[0m\u001b[0m_convert_endog_exog\u001b[0m\u001b[0;34m(\u001b[0m\u001b[0mendog\u001b[0m\u001b[0;34m,\u001b[0m \u001b[0mexog\u001b[0m\u001b[0;34m)\u001b[0m\u001b[0;34m\u001b[0m\u001b[0;34m\u001b[0m\u001b[0m\n",
      "\u001b[0;31mValueError\u001b[0m: Pandas data cast to numpy dtype of object. Check input data with np.asarray(data)."
     ]
    }
   ],
   "source": [
    "mlr(df_clean,'price',True)"
   ]
  },
  {
   "cell_type": "code",
   "execution_count": null,
   "metadata": {},
   "outputs": [],
   "source": [
    "remove = ['lat','long','date','toxic_rele','yr_renovated',\n",
    "          'sqft_above','sqft_lot','sqft_basement', 'sqft_garage', 'sqft_patio','MHHI1']\n",
    "df_clean2 = df_clean.drop(columns=remove)"
   ]
  },
  {
   "cell_type": "code",
   "execution_count": null,
   "metadata": {
    "scrolled": true
   },
   "outputs": [],
   "source": [
    "mlr(df_clean2,'price')"
   ]
  },
  {
   "cell_type": "markdown",
   "metadata": {},
   "source": [
    "There is a significantly high multicollinearity between variables"
   ]
  },
  {
   "cell_type": "markdown",
   "metadata": {},
   "source": [
    "# Checking Assumptions"
   ]
  },
  {
   "cell_type": "markdown",
   "metadata": {},
   "source": [
    "Defining x, y, and the model variables"
   ]
  },
  {
   "cell_type": "code",
   "execution_count": 65,
   "metadata": {},
   "outputs": [],
   "source": [
    "remove5 = ['lat','long','date','yr_renovated']\n",
    "df_clean5 = df_clean.drop(columns=remove5)\n",
    "# df_clean5['sqft_living'] = np.log(df_clean5['sqft_living'])\n",
    "df_clean5['price'] = np.log(df_clean5['price'])"
   ]
  },
  {
   "cell_type": "code",
   "execution_count": 66,
   "metadata": {
    "scrolled": true
   },
   "outputs": [
    {
     "name": "stdout",
     "output_type": "stream",
     "text": [
      "The following columns were dropped due to being object types\n",
      "Index([], dtype='object')\n",
      "The following columns were dropped due to being object types\n",
      "Index([], dtype='object')\n"
     ]
    }
   ],
   "source": [
    "# model\n",
    "model_mlr = mlr(df_clean5,'price', 'fit',False)\n",
    "# X constant\n",
    "X = mlr(df_clean5,'price','x',False)\n",
    "# y \n",
    "Y = df_clean5['price']"
   ]
  },
  {
   "cell_type": "markdown",
   "metadata": {},
   "source": [
    "## 1. Linearity"
   ]
  },
  {
   "cell_type": "code",
   "execution_count": 67,
   "metadata": {},
   "outputs": [
    {
     "ename": "NameError",
     "evalue": "name 'resid' is not defined",
     "output_type": "error",
     "traceback": [
      "\u001b[0;31m---------------------------------------------------------------------------\u001b[0m",
      "\u001b[0;31mNameError\u001b[0m                                 Traceback (most recent call last)",
      "\u001b[0;32m<ipython-input-67-4a47f96704a8>\u001b[0m in \u001b[0;36m<module>\u001b[0;34m\u001b[0m\n\u001b[0;32m----> 1\u001b[0;31m \u001b[0mresid\u001b[0m\u001b[0;34m\u001b[0m\u001b[0;34m\u001b[0m\u001b[0m\n\u001b[0m",
      "\u001b[0;31mNameError\u001b[0m: name 'resid' is not defined"
     ]
    }
   ],
   "source": [
    "resid"
   ]
  },
  {
   "cell_type": "code",
   "execution_count": 68,
   "metadata": {
    "scrolled": false
   },
   "outputs": [
    {
     "name": "stdout",
     "output_type": "stream",
     "text": [
      "Slope: 1.2315116571361352e-11\n",
      "Intercept: -1.405596389569353e-10\n",
      "Correlation: (r) 1.8344616616897032e-11\n"
     ]
    },
    {
     "data": {
      "image/png": "[encoded data removed]",
      "text/plain": [
       "<Figure size 576x360 with 1 Axes>"
      ]
     },
     "metadata": {
      "needs_background": "light"
     },
     "output_type": "display_data"
    }
   ],
   "source": [
    "from scipy.stats import linregress\n",
    "# calculating resid method 1\n",
    "# model_L = model_mlr.predict(X)\n",
    "# resid = Y - model_L\n",
    "# x_res = model_L\n",
    "# y_res = resid\n",
    "\n",
    "# calculating resid method 2\n",
    "resid = model_mlr.resid\n",
    "x_res = model_mlr.predict()\n",
    "\n",
    "\n",
    "fig, ax = plt.subplots(figsize=(8,5))\n",
    "ax.scatter(x_res, resid)\n",
    "# sns.regplot(x=x_res, y=resid, line_kws={'ls':'-', 'color': 'r'}, ci = None)\n",
    "\n",
    "slope, intercept, r, p, se = linregress(x_res,resid)\n",
    "lin_r = linregress(x_res, resid)\n",
    "plt.plot(x_res, lin_r.intercept + lin_r.slope*x_res, 'r')\n",
    "\n",
    "print('Slope:', slope)\n",
    "print('Intercept:', intercept)\n",
    "print('Correlation: (r)', r)\n",
    "\n",
    "ax.set_xlabel('predicted house sale prices')\n",
    "ax.set_ylabel('residual')\n",
    "plt.suptitle('Residuals Vs. Predictions');"
   ]
  },
  {
   "cell_type": "markdown",
   "metadata": {},
   "source": [
    "# 2. Independence\n",
    "Checking if errors are independent\n",
    "- Create scatter plot of residuals and target values\n",
    "    - Evaluete and identify patterns\n",
    "- Check Durbin-Watson Statistic"
   ]
  },
  {
   "cell_type": "code",
   "execution_count": 69,
   "metadata": {
    "scrolled": true
   },
   "outputs": [
    {
     "data": {
      "image/png": "[encoded data removed]",
      "text/plain": [
       "<Figure size 432x288 with 1 Axes>"
      ]
     },
     "metadata": {
      "needs_background": "light"
     },
     "output_type": "display_data"
    }
   ],
   "source": [
    "fig, ax = plt.subplots()\n",
    "# sns.regplot(x = Y, y = resid,line_kws={'ls':'-', 'color': 'r'}, ci = None)\n",
    "ax.scatter(Y, resid)\n",
    "ax.set_xlabel('house sale prices')\n",
    "ax.set_ylabel('residual')\n",
    "plt.suptitle('Residuals Vs. house sale price');"
   ]
  },
  {
   "cell_type": "markdown",
   "metadata": {},
   "source": [
    "- Upward trend in this scatter plot indicates positive correlation in the errors"
   ]
  },
  {
   "cell_type": "markdown",
   "metadata": {},
   "source": [
    "### Durbin-Watson\n",
    "- Checks for autocorrelation in the residuals.\n",
    "- Autocorrelation occurs when residuals are not independent.\n",
    "- The range is from 0-4 \n",
    "- values close to 2 indcate no significant autocorrelation (1.5 - 2.5)\n",
    "- Values below 2 indicate positive autocorrelation\n",
    "- Values above 2 indicate negative autocorrelation"
   ]
  },
  {
   "cell_type": "code",
   "execution_count": 70,
   "metadata": {},
   "outputs": [
    {
     "data": {
      "text/plain": [
       "1.7877801005558698"
      ]
     },
     "execution_count": 70,
     "metadata": {},
     "output_type": "execute_result"
    }
   ],
   "source": [
    "dw = sm.stats.stattools.durbin_watson\n",
    "dw(resid)"
   ]
  },
  {
   "cell_type": "markdown",
   "metadata": {},
   "source": [
    "Our autocorrelation from the Durbin-Watson test indicates a little to no signifcant autocorrelation\n",
    "\n",
    "Possible positive auto correlation"
   ]
  },
  {
   "cell_type": "code",
   "execution_count": 71,
   "metadata": {},
   "outputs": [
    {
     "data": {
      "text/html": [
       "<table class=\"simpletable\">\n",
       "<tr>\n",
       "  <th>Omnibus:</th>       <td>17200.877</td> <th>  Durbin-Watson:     </th>  <td>   1.788</td> \n",
       "</tr>\n",
       "<tr>\n",
       "  <th>Prob(Omnibus):</th>  <td> 0.000</td>   <th>  Jarque-Bera (JB):  </th> <td>560601.265</td>\n",
       "</tr>\n",
       "<tr>\n",
       "  <th>Skew:</th>           <td>-2.286</td>   <th>  Prob(JB):          </th>  <td>    0.00</td> \n",
       "</tr>\n",
       "<tr>\n",
       "  <th>Kurtosis:</th>       <td>23.984</td>   <th>  Cond. No.          </th>  <td>9.72e+06</td> \n",
       "</tr>\n",
       "</table>"
      ],
      "text/plain": [
       "<class 'statsmodels.iolib.table.SimpleTable'>"
      ]
     },
     "execution_count": 71,
     "metadata": {},
     "output_type": "execute_result"
    }
   ],
   "source": [
    "model_mlr.summary().tables[2]"
   ]
  },
  {
   "cell_type": "markdown",
   "metadata": {},
   "source": [
    "## 3. Normality"
   ]
  },
  {
   "cell_type": "markdown",
   "metadata": {},
   "source": [
    "### Histograms"
   ]
  },
  {
   "cell_type": "code",
   "execution_count": 72,
   "metadata": {
    "scrolled": false
   },
   "outputs": [
    {
     "data": {
      "image/png": "[encoded data removed]",
      "text/plain": [
       "<Figure size 720x432 with 1 Axes>"
      ]
     },
     "metadata": {
      "needs_background": "light"
     },
     "output_type": "display_data"
    }
   ],
   "source": [
    "resid.hist(bins=50,figsize=(10,6));"
   ]
  },
  {
   "cell_type": "markdown",
   "metadata": {},
   "source": [
    "Resizing the histogram to remove outliers"
   ]
  },
  {
   "cell_type": "code",
   "execution_count": 73,
   "metadata": {},
   "outputs": [
    {
     "data": {
      "image/png": "[encoded data removed]",
      "text/plain": [
       "<Figure size 720x432 with 1 Axes>"
      ]
     },
     "metadata": {
      "needs_background": "light"
     },
     "output_type": "display_data"
    }
   ],
   "source": [
    "\n",
    "resid[abs(resid) < 2500000].hist(bins=50,figsize=(10,6));"
   ]
  },
  {
   "cell_type": "markdown",
   "metadata": {},
   "source": [
    "### QQ Plot"
   ]
  },
  {
   "cell_type": "code",
   "execution_count": 74,
   "metadata": {},
   "outputs": [
    {
     "data": {
      "image/png": "[encoded data removed]",
      "text/plain": [
       "<Figure size 432x288 with 1 Axes>"
      ]
     },
     "metadata": {
      "needs_background": "light"
     },
     "output_type": "display_data"
    }
   ],
   "source": [
    "sm.qqplot(resid, line='r');"
   ]
  },
  {
   "cell_type": "markdown",
   "metadata": {},
   "source": [
    "### Homoskedasticity"
   ]
  },
  {
   "cell_type": "code",
   "execution_count": 75,
   "metadata": {
    "scrolled": false
   },
   "outputs": [
    {
     "data": {
      "image/png": "[encoded data removed]",
      "text/plain": [
       "<Figure size 720x432 with 1 Axes>"
      ]
     },
     "metadata": {
      "needs_background": "light"
     },
     "output_type": "display_data"
    }
   ],
   "source": [
    "fig, ax = plt.subplots(figsize=(10,6))\n",
    "sns.regplot(x = x_res, y = resid,line_kws={'ls':'-', 'color': 'r'}, ci = None)\n",
    "ax.set_xlabel('predicted house sale prices')\n",
    "ax.set_ylabel('residual')\n",
    "plt.suptitle('Residuals Vs. Predictions');\n",
    "# ax.scatter(Y, resid);"
   ]
  },
  {
   "cell_type": "code",
   "execution_count": 76,
   "metadata": {
    "scrolled": true
   },
   "outputs": [
    {
     "data": {
      "text/plain": [
       "0        188.632316\n",
       "1        189.815755\n",
       "2        188.119723\n",
       "3        190.602052\n",
       "4        187.749138\n",
       "            ...    \n",
       "29206    179.658297\n",
       "29207    170.920909\n",
       "29208    180.366332\n",
       "29209    178.026846\n",
       "29210    187.725107\n",
       "Length: 29170, dtype: float64"
      ]
     },
     "execution_count": 76,
     "metadata": {},
     "output_type": "execute_result"
    }
   ],
   "source": [
    "model_mlr.predict(df_clean5)"
   ]
  },
  {
   "cell_type": "code",
   "execution_count": 77,
   "metadata": {},
   "outputs": [
    {
     "data": {
      "text/plain": [
       "0        675000.0\n",
       "1        728000.0\n",
       "2        645000.0\n",
       "3        760600.0\n",
       "4        624950.0\n",
       "           ...   \n",
       "29206    380000.0\n",
       "29207    199000.0\n",
       "29208    395000.0\n",
       "29209    328000.0\n",
       "29210    600000.0\n",
       "Name: price, Length: 29170, dtype: float64"
      ]
     },
     "execution_count": 77,
     "metadata": {},
     "output_type": "execute_result"
    }
   ],
   "source": [
    "df_clean['price']"
   ]
  },
  {
   "cell_type": "code",
   "execution_count": 78,
   "metadata": {
    "scrolled": false
   },
   "outputs": [
    {
     "name": "stdout",
     "output_type": "stream",
     "text": [
      "Slope: 0.9118597204307495\n",
      "Intercept: 142385.33029798896\n",
      "Correlation: (r) 0.8034186696012866\n"
     ]
    },
    {
     "data": {
      "image/png": "[encoded data removed]",
      "text/plain": [
       "<Figure size 720x432 with 1 Axes>"
      ]
     },
     "metadata": {
      "needs_background": "light"
     },
     "output_type": "display_data"
    }
   ],
   "source": [
    "fig, ax = plt.subplots(figsize=(10,6))\n",
    "\n",
    "x_pre = np.exp(model_mlr.predict(X))\n",
    "y_pre = np.exp(Y)\n",
    "# sns.regplot(x =x_pre, y = y_pre,line_kws={'ls':'-', 'color': 'r'}, ci = None)\n",
    "ax.scatter(x_pre, y_pre,s=10,alpha=.3)\n",
    "\n",
    "\n",
    "slope, intercept, r, p, se = linregress(x_pre,y_pre)\n",
    "lin_r = linregress(x_pre, y_pre)\n",
    "plt.plot(x_pre, lin_r.intercept + lin_r.slope*x_pre, 'r')\n",
    "\n",
    "print('Slope:', slope)\n",
    "print('Intercept:', intercept)\n",
    "print('Correlation: (r)', r)\n",
    "\n",
    "ax.set_xlabel('Predicted House Sale Prices')\n",
    "ax.set_ylabel('House sale price')\n",
    "plt.suptitle('House Sale Price Vs. Predicted Sale Price');"
   ]
  },
  {
   "cell_type": "code",
   "execution_count": 79,
   "metadata": {
    "scrolled": true
   },
   "outputs": [
    {
     "name": "stdout",
     "output_type": "stream",
     "text": [
      "Mean Squared Error (MSE): 291468602365.7654\n",
      "Mean Absolute Error (MAE): 230535.5375599474\n"
     ]
    }
   ],
   "source": [
    "from sklearn.metrics import mean_squared_error, mean_absolute_error\n",
    "\n",
    "# Mean squared error\n",
    "mse = mean_squared_error(x_pre,y_pre)\n",
    "print(\"Mean Squared Error (MSE):\", mse)\n",
    "\n",
    "# Mean absolute error\n",
    "mae = mean_absolute_error(x_pre,y_pre)\n",
    "print(\"Mean Absolute Error (MAE):\", mae)"
   ]
  },
  {
   "cell_type": "code",
   "execution_count": null,
   "metadata": {},
   "outputs": [],
   "source": [
    "\n"
   ]
  },
  {
   "cell_type": "markdown",
   "metadata": {},
   "source": [
    "# Transformations"
   ]
  },
  {
   "cell_type": "code",
   "execution_count": 80,
   "metadata": {},
   "outputs": [],
   "source": [
    "def kde_plot(xy,x_label,legends=False):\n",
    "    '''\n",
    "    xy: Y or X\n",
    "    x_label: str name for Y or X\n",
    "    legends: set to True, to show\n",
    "    Example for what x or y would look like:\n",
    "    y = df['column']\n",
    "    x = df[['column1','columns2','column3']]\n",
    "    \n",
    "    Example: kde_plot(Y,'price') where Y= df['price']\n",
    "\n",
    "    '''\n",
    "    name = str(xy)\n",
    "    fig, ax = plt.subplots(figsize=(16, 10))\n",
    "    sns.kdeplot(data=xy,legend=legends, ax=ax)\n",
    "    plt.title(f'KDE plot of {x_label}')\n",
    "    plt.xlabel(x_label)\n",
    "    plt.ylabel('Density')"
   ]
  },
  {
   "cell_type": "code",
   "execution_count": 81,
   "metadata": {
    "scrolled": false
   },
   "outputs": [
    {
     "data": {
      "image/png": "[encoded data removed]",
      "text/plain": [
       "<Figure size 1152x720 with 1 Axes>"
      ]
     },
     "metadata": {
      "needs_background": "light"
     },
     "output_type": "display_data"
    }
   ],
   "source": [
    "kde_plot(np.log(Y),'price')"
   ]
  },
  {
   "cell_type": "code",
   "execution_count": 82,
   "metadata": {
    "scrolled": false
   },
   "outputs": [
    {
     "data": {
      "image/png": "[encoded data removed]",
      "text/plain": [
       "<Figure size 1152x720 with 1 Axes>"
      ]
     },
     "metadata": {
      "needs_background": "light"
     },
     "output_type": "display_data"
    }
   ],
   "source": [
    "x_tester = df_clean[['bathrooms','bedrooms']]\n",
    "kde_plot(x_tester,'variables',True)"
   ]
  },
  {
   "cell_type": "code",
   "execution_count": null,
   "metadata": {},
   "outputs": [],
   "source": [
    "# Create a 5x8 grid of subplots for the KDE plots\n",
    "fig, axes = plt.subplots(nrows=5, ncols=8, figsize=(16, 10))\n",
    "\n",
    "# Flatten the grid of subplots into a 1D array\n",
    "axes = axes.flatten()\n",
    "\n",
    "# Loop through each variable and plot its KDE on a subplot\n",
    "for k, v in enumerate(X.columns):\n",
    "    sns.kdeplot(data=X[v], ax=axes[k], color='red')\n",
    "    axes[k].set_title(v)\n",
    "\n",
    "# Adjust the spacing between the subplots and show the plot\n",
    "plt.tight_layout()\n",
    "plt.show()"
   ]
  },
  {
   "cell_type": "markdown",
   "metadata": {},
   "source": [
    "### Checking Distribution of Price"
   ]
  },
  {
   "cell_type": "code",
   "execution_count": null,
   "metadata": {},
   "outputs": [],
   "source": [
    "df_clean['price'].hist()"
   ]
  },
  {
   "cell_type": "code",
   "execution_count": null,
   "metadata": {},
   "outputs": [],
   "source": [
    "x_logged = np.log(df_clean['price'])\n",
    "x_logged.hist()"
   ]
  },
  {
   "cell_type": "code",
   "execution_count": null,
   "metadata": {
    "scrolled": true
   },
   "outputs": [],
   "source": [
    "Y.hist();"
   ]
  },
  {
   "cell_type": "code",
   "execution_count": null,
   "metadata": {},
   "outputs": [],
   "source": [
    "y_scld = np.log(Y)\n",
    "y_scld.hist();"
   ]
  },
  {
   "cell_type": "code",
   "execution_count": null,
   "metadata": {},
   "outputs": [],
   "source": [
    "y_scld2 = np.log(y_scld)\n",
    "y_scld2.hist();"
   ]
  },
  {
   "cell_type": "code",
   "execution_count": null,
   "metadata": {
    "scrolled": true
   },
   "outputs": [],
   "source": [
    "y_scld3 = np.log(y_scld2)\n",
    "y_scld3.hist();"
   ]
  },
  {
   "cell_type": "code",
   "execution_count": null,
   "metadata": {},
   "outputs": [],
   "source": [
    "df_clean"
   ]
  },
  {
   "cell_type": "code",
   "execution_count": null,
   "metadata": {
    "scrolled": true
   },
   "outputs": [],
   "source": [
    "# Creating new df and transforming price (Y)\n",
    "df_transformed = df_clean.copy()\n",
    "df_transformed = df_transformed.drop(columns='date')\n",
    "df_transformed['price'] = y_scld#np.log(Y)\n",
    "df_transformed['sqft_living'] = np.log(df_clean['sqft_living'])\n",
    "df_transformed.info()"
   ]
  },
  {
   "cell_type": "code",
   "execution_count": null,
   "metadata": {},
   "outputs": [],
   "source": [
    "df_transformed.columns"
   ]
  },
  {
   "cell_type": "code",
   "execution_count": null,
   "metadata": {
    "scrolled": false
   },
   "outputs": [],
   "source": [
    "df_t_f =df_transformed[['price', 'bedrooms', 'bathrooms', 'sqft_living', 'floors',\n",
    "       'waterfront', 'greenbelt', 'nuisance', 'view', 'condition', 'grade',\n",
    "        'yr_built', 'traffic_de',\n",
    "       'hazardou_2', 'SCHDST_210', 'SCHDST_216', 'SCHDST_400', 'SCHDST_401',\n",
    "       'SCHDST_402', 'SCHDST_403', 'SCHDST_404', 'SCHDST_405', 'SCHDST_406',\n",
    "       'SCHDST_407', 'SCHDST_408', 'SCHDST_409', 'SCHDST_410', 'SCHDST_411',\n",
    "       'SCHDST_412', 'SCHDST_414', 'SCHDST_415', 'SCHDST_417', 'SCHDST_888']]\n",
    "df_t_f1 =df_transformed[['price', 'MHHI1','traffic_de','hazardou_2',\n",
    "                         'SCHDST_210', 'SCHDST_216', 'SCHDST_400', 'SCHDST_401',\n",
    "       'SCHDST_402', 'SCHDST_403', 'SCHDST_404', 'SCHDST_405', 'SCHDST_406',\n",
    "       'SCHDST_407', 'SCHDST_408', 'SCHDST_409', 'SCHDST_410', 'SCHDST_411',\n",
    "       'SCHDST_412', 'SCHDST_414', 'SCHDST_415', 'SCHDST_417', 'SCHDST_888']]\n",
    "model_Transform = mlr(df_t_f, 'price')"
   ]
  },
  {
   "cell_type": "code",
   "execution_count": null,
   "metadata": {
    "scrolled": true
   },
   "outputs": [],
   "source": [
    "model_Transform"
   ]
  },
  {
   "cell_type": "code",
   "execution_count": null,
   "metadata": {},
   "outputs": [],
   "source": [
    "df_clean_3 = df_clean.copy()\n",
    "df_clean_3['sqft_living'] = np.log(df_clean_3['sqft_living'])\n",
    "# df_clean_3['price'] = y_scld#np.log(Y)\n",
    "remove3 = ['lat','long','date','toxic_rele','yr_renovated',\n",
    "          'sqft_above','sqft_lot','sqft_basement', 'sqft_garage', 'sqft_patio','MHHI1','condition','greenbelt']\n",
    "df_clean3 = df_clean_3.drop(columns=remove3)\n",
    "df_clean3.columns"
   ]
  },
  {
   "cell_type": "code",
   "execution_count": null,
   "metadata": {},
   "outputs": [],
   "source": [
    "model_clean3 = mlr(df_clean3, 'price')"
   ]
  },
  {
   "cell_type": "code",
   "execution_count": null,
   "metadata": {
    "scrolled": false
   },
   "outputs": [],
   "source": [
    "model_clean3"
   ]
  },
  {
   "cell_type": "code",
   "execution_count": null,
   "metadata": {},
   "outputs": [],
   "source": [
    "df_clean.columns"
   ]
  },
  {
   "cell_type": "code",
   "execution_count": null,
   "metadata": {},
   "outputs": [],
   "source": [
    "cdf = df_clean.copy()\n",
    "\n",
    "# remove4 = ['lat','long','date','toxic_rele','yr_renovated','sqft_above','sqft_lot','sqft_basement', \n",
    "#            'sqft_garage', 'sqft_patio','MHHI1','sqft_living']\n",
    "# cdf_df = cdf.drop(columns=remove4)\n",
    "\n",
    "\n",
    "cdf['sqft_living'] = np.log(cdf['sqft_living'])\n",
    "cdf['yr_built'] = np.log(cdf['yr_built'])\n",
    "# df_clean_3['price'] = y_scld#np.log(Y)\n",
    "\n",
    "\n",
    "cdf_df = cdf[['price', 'bedrooms', 'bathrooms','sqft_living',\n",
    "       'floors', 'waterfront', 'greenbelt', 'nuisance', 'view', 'condition',\n",
    "       'grade', 'traffic_de','yr_built', 'hazardou_2']]\n",
    "mlr(cdf_df,'price')"
   ]
  },
  {
   "cell_type": "markdown",
   "metadata": {},
   "source": [
    "# Polynomial Features"
   ]
  },
  {
   "cell_type": "code",
   "execution_count": null,
   "metadata": {},
   "outputs": [],
   "source": [
    "from sklearn.preprocessing import PolynomialFeatures, StandardScaler"
   ]
  },
  {
   "cell_type": "code",
   "execution_count": null,
   "metadata": {},
   "outputs": [],
   "source": [
    "# pf = PolynomialFeatures(degree=3)\n",
    "\n",
    "# X = wine.drop('quality', axis=1)\n",
    "# y = wine['quality']\n",
    "\n",
    "# # Fitting the PolynomialFeatures object\n",
    "# pf.fit(X)"
   ]
  },
  {
   "cell_type": "code",
   "execution_count": null,
   "metadata": {},
   "outputs": [],
   "source": []
  },
  {
   "cell_type": "code",
   "execution_count": null,
   "metadata": {},
   "outputs": [],
   "source": [
    "X1 = ['floors','MHHI1', 'traffic_de', 'toxic_rele', 'hazardou_2']\n",
    "y1 = df_clean['price']"
   ]
  },
  {
   "cell_type": "code",
   "execution_count": null,
   "metadata": {},
   "outputs": [],
   "source": [
    "fig, axs = plt.subplots(1, 3, figsize=(20, 8))\n",
    "\n",
    "axs[0].scatter(df_clean[X1[0]], y1)\n",
    "axs[0].set_xlabel(f'{X1[0]}')\n",
    "axs[0].set_ylabel('Price ($)')\n",
    "axs[0].set_title(f'{X1[0]} vs. Price')\n",
    "\n",
    "axs[1].scatter(df_clean[X1[1]], y1)\n",
    "axs[1].set_xlabel(f'{X1[1]}')\n",
    "axs[1].set_ylabel('Price ($)')\n",
    "axs[1].set_title(f'{X1[1]} vs. Price')\n",
    "\n",
    "axs[2].scatter(df_clean[X[2]], y1)\n",
    "axs[2].set_xlabel(f'{X1[2]}')\n",
    "axs[2].set_ylabel('Price ($)')\n",
    "axs[2].set_title(f'{X1[2]} vs. Price')\n",
    "\n",
    "plt.show()"
   ]
  },
  {
   "cell_type": "code",
   "execution_count": null,
   "metadata": {},
   "outputs": [],
   "source": [
    "# fig, ax = plt.subplots()\n",
    "# ax.scatter(X,y); \n",
    "\n",
    "# ax.set_xlabel('Square Foot Living (ft)')\n",
    "# ax.set_ylabel('Price ($)')\n",
    "# ax.set_title('Price of Houses based on Square foot')\n",
    "\n",
    "# plt.show()"
   ]
  },
  {
   "cell_type": "code",
   "execution_count": null,
   "metadata": {},
   "outputs": [],
   "source": []
  },
  {
   "cell_type": "code",
   "execution_count": null,
   "metadata": {},
   "outputs": [],
   "source": [
    "# sns.lmplot(data=df_cleaned_2, x='sqft_living', y='price')\n",
    "# plt.xlabel('Sqft Living (sqft)')\n",
    "# plt.ylabel('Price ($)')\n",
    "# plt.title('Price against to Sqft Living');"
   ]
  }
 ],
 "metadata": {
  "kernelspec": {
   "display_name": "Python (learn-env)",
   "language": "python",
   "name": "learn-env"
  },
  "language_info": {
   "codemirror_mode": {
    "name": "ipython",
    "version": 3
   },
   "file_extension": ".py",
   "mimetype": "text/x-python",
   "name": "python",
   "nbconvert_exporter": "python",
   "pygments_lexer": "ipython3",
   "version": "3.8.5"
  }
 },
 "nbformat": 4,
 "nbformat_minor": 4
}
